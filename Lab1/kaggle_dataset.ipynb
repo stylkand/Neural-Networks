{
 "cells": [
  {
   "cell_type": "markdown",
   "metadata": {
    "id": "xvUWvexr3EIb"
   },
   "source": [
    "   **ΟΜΑΔΑ 82**\n",
    "\n",
    "Στυλιανός Κανδυλάκης 03117088\n",
    "\n",
    "Χρήστος-Κίτσος Ορφανόπουλος 03117025"
   ]
  },
  {
   "cell_type": "markdown",
   "metadata": {
    "id": "pnRIwOa19mii"
   },
   "source": [
    "#Μέρος 2. Kaggle Dataset"
   ]
  },
  {
   "cell_type": "markdown",
   "metadata": {
    "id": "v9wCtXPH3bHy"
   },
   "source": [
    "#Mount"
   ]
  },
  {
   "cell_type": "code",
   "execution_count": 85,
   "metadata": {
    "id": "dpNmWvDD9qk-"
   },
   "outputs": [],
   "source": [
    "#!pip install -U kaggle"
   ]
  },
  {
   "cell_type": "code",
   "execution_count": 86,
   "metadata": {
    "id": "ERFdR6ha-fjd"
   },
   "outputs": [],
   "source": [
    "#from google.colab import files\n",
    "#files.upload()"
   ]
  },
  {
   "cell_type": "code",
   "execution_count": 87,
   "metadata": {
    "id": "dsmHaxF5-kLS"
   },
   "outputs": [],
   "source": [
    "#!mkdir ~/.kaggle\n",
    "#!cp kaggle.json ~/.kaggle/\n",
    "#!chmod 600 ~/.kaggle/kaggle.json"
   ]
  },
  {
   "cell_type": "code",
   "execution_count": 88,
   "metadata": {
    "id": "ZLw9u7tQ-3ey"
   },
   "outputs": [],
   "source": [
    "#!kaggle datasets list -s \"Bankruptcy\""
   ]
  },
  {
   "cell_type": "code",
   "execution_count": 89,
   "metadata": {
    "id": "paJPuJom-8gz"
   },
   "outputs": [],
   "source": [
    "#! kaggle datasets download -d fedesoriano/company-bankruptcy-prediction "
   ]
  },
  {
   "cell_type": "code",
   "execution_count": 90,
   "metadata": {
    "id": "OnqFKXcl_Gkq"
   },
   "outputs": [],
   "source": [
    "#import os\n",
    "#for dirname, _, filenames in os.walk('/content'):\n",
    "#     for filename in filenames:\n",
    "#        print(os.path.join(dirname,filename))\n",
    "\n"
   ]
  },
  {
   "cell_type": "code",
   "execution_count": 91,
   "metadata": {
    "id": "ThP-d32hcXgz"
   },
   "outputs": [],
   "source": [
    "import pandas as pd\n",
    "import numpy as np"
   ]
  },
  {
   "cell_type": "code",
   "execution_count": 92,
   "metadata": {
    "colab": {
     "base_uri": "https://localhost:8080/"
    },
    "id": "K7hSvL9wiKiN",
    "outputId": "406b3bd0-878a-41f3-e91d-941975945998"
   },
   "outputs": [
    {
     "name": "stdout",
     "output_type": "stream",
     "text": [
      "Drive already mounted at /content/drive; to attempt to forcibly remount, call drive.mount(\"/content/drive\", force_remount=True).\n"
     ]
    }
   ],
   "source": [
    "from google.colab import drive\n",
    "drive.mount('/content/drive') "
   ]
  },
  {
   "cell_type": "code",
   "execution_count": 93,
   "metadata": {
    "id": "2t0Moa-skXxJ"
   },
   "outputs": [],
   "source": [
    "#!ls \"/content/drive/MyDrive\""
   ]
  },
  {
   "cell_type": "markdown",
   "metadata": {
    "id": "xWQr4DV93lnO"
   },
   "source": [
    "#Επισκόπηση\n"
   ]
  },
  {
   "cell_type": "markdown",
   "metadata": {
    "id": "4fwb7mIMcXCe"
   },
   "source": [
    "Αρχίζουμε φορτώνοντας τα δεδομένα από το csv αρχείο."
   ]
  },
  {
   "cell_type": "code",
   "execution_count": 94,
   "metadata": {
    "id": "iRpwfMKZkuWd"
   },
   "outputs": [],
   "source": [
    "df = pd.read_csv('/content/drive/My Drive/datasets/data.csv')"
   ]
  },
  {
   "cell_type": "code",
   "execution_count": 95,
   "metadata": {
    "colab": {
     "base_uri": "https://localhost:8080/",
     "height": 556
    },
    "id": "p0CYLBNhlkj4",
    "outputId": "d13a1073-a3cd-4f98-e2f3-5c71827dc652"
   },
   "outputs": [
    {
     "data": {
      "text/html": [
       "<div>\n",
       "<style scoped>\n",
       "    .dataframe tbody tr th:only-of-type {\n",
       "        vertical-align: middle;\n",
       "    }\n",
       "\n",
       "    .dataframe tbody tr th {\n",
       "        vertical-align: top;\n",
       "    }\n",
       "\n",
       "    .dataframe thead th {\n",
       "        text-align: right;\n",
       "    }\n",
       "</style>\n",
       "<table border=\"1\" class=\"dataframe\">\n",
       "  <thead>\n",
       "    <tr style=\"text-align: right;\">\n",
       "      <th></th>\n",
       "      <th>Bankrupt?</th>\n",
       "      <th>ROA(C) before interest and depreciation before interest</th>\n",
       "      <th>ROA(A) before interest and % after tax</th>\n",
       "      <th>ROA(B) before interest and depreciation after tax</th>\n",
       "      <th>Operating Gross Margin</th>\n",
       "      <th>Realized Sales Gross Margin</th>\n",
       "      <th>Operating Profit Rate</th>\n",
       "      <th>Pre-tax net Interest Rate</th>\n",
       "      <th>After-tax net Interest Rate</th>\n",
       "      <th>Non-industry income and expenditure/revenue</th>\n",
       "      <th>Continuous interest rate (after tax)</th>\n",
       "      <th>Operating Expense Rate</th>\n",
       "      <th>Research and development expense rate</th>\n",
       "      <th>Cash flow rate</th>\n",
       "      <th>Interest-bearing debt interest rate</th>\n",
       "      <th>Tax rate (A)</th>\n",
       "      <th>Net Value Per Share (B)</th>\n",
       "      <th>Net Value Per Share (A)</th>\n",
       "      <th>Net Value Per Share (C)</th>\n",
       "      <th>Persistent EPS in the Last Four Seasons</th>\n",
       "      <th>Cash Flow Per Share</th>\n",
       "      <th>Revenue Per Share (Yuan ¥)</th>\n",
       "      <th>Operating Profit Per Share (Yuan ¥)</th>\n",
       "      <th>Per Share Net profit before tax (Yuan ¥)</th>\n",
       "      <th>Realized Sales Gross Profit Growth Rate</th>\n",
       "      <th>Operating Profit Growth Rate</th>\n",
       "      <th>After-tax Net Profit Growth Rate</th>\n",
       "      <th>Regular Net Profit Growth Rate</th>\n",
       "      <th>Continuous Net Profit Growth Rate</th>\n",
       "      <th>Total Asset Growth Rate</th>\n",
       "      <th>Net Value Growth Rate</th>\n",
       "      <th>Total Asset Return Growth Rate Ratio</th>\n",
       "      <th>Cash Reinvestment %</th>\n",
       "      <th>Current Ratio</th>\n",
       "      <th>Quick Ratio</th>\n",
       "      <th>Interest Expense Ratio</th>\n",
       "      <th>Total debt/Total net worth</th>\n",
       "      <th>Debt ratio %</th>\n",
       "      <th>Net worth/Assets</th>\n",
       "      <th>Long-term fund suitability ratio (A)</th>\n",
       "      <th>...</th>\n",
       "      <th>Current Assets/Total Assets</th>\n",
       "      <th>Cash/Total Assets</th>\n",
       "      <th>Quick Assets/Current Liability</th>\n",
       "      <th>Cash/Current Liability</th>\n",
       "      <th>Current Liability to Assets</th>\n",
       "      <th>Operating Funds to Liability</th>\n",
       "      <th>Inventory/Working Capital</th>\n",
       "      <th>Inventory/Current Liability</th>\n",
       "      <th>Current Liabilities/Liability</th>\n",
       "      <th>Working Capital/Equity</th>\n",
       "      <th>Current Liabilities/Equity</th>\n",
       "      <th>Long-term Liability to Current Assets</th>\n",
       "      <th>Retained Earnings to Total Assets</th>\n",
       "      <th>Total income/Total expense</th>\n",
       "      <th>Total expense/Assets</th>\n",
       "      <th>Current Asset Turnover Rate</th>\n",
       "      <th>Quick Asset Turnover Rate</th>\n",
       "      <th>Working capitcal Turnover Rate</th>\n",
       "      <th>Cash Turnover Rate</th>\n",
       "      <th>Cash Flow to Sales</th>\n",
       "      <th>Fixed Assets to Assets</th>\n",
       "      <th>Current Liability to Liability</th>\n",
       "      <th>Current Liability to Equity</th>\n",
       "      <th>Equity to Long-term Liability</th>\n",
       "      <th>Cash Flow to Total Assets</th>\n",
       "      <th>Cash Flow to Liability</th>\n",
       "      <th>CFO to Assets</th>\n",
       "      <th>Cash Flow to Equity</th>\n",
       "      <th>Current Liability to Current Assets</th>\n",
       "      <th>Liability-Assets Flag</th>\n",
       "      <th>Net Income to Total Assets</th>\n",
       "      <th>Total assets to GNP price</th>\n",
       "      <th>No-credit Interval</th>\n",
       "      <th>Gross Profit to Sales</th>\n",
       "      <th>Net Income to Stockholder's Equity</th>\n",
       "      <th>Liability to Equity</th>\n",
       "      <th>Degree of Financial Leverage (DFL)</th>\n",
       "      <th>Interest Coverage Ratio (Interest expense to EBIT)</th>\n",
       "      <th>Net Income Flag</th>\n",
       "      <th>Equity to Liability</th>\n",
       "    </tr>\n",
       "  </thead>\n",
       "  <tbody>\n",
       "    <tr>\n",
       "      <th>0</th>\n",
       "      <td>1</td>\n",
       "      <td>0.370594</td>\n",
       "      <td>0.424389</td>\n",
       "      <td>0.405750</td>\n",
       "      <td>0.601457</td>\n",
       "      <td>0.601457</td>\n",
       "      <td>0.998969</td>\n",
       "      <td>0.796887</td>\n",
       "      <td>0.808809</td>\n",
       "      <td>0.302646</td>\n",
       "      <td>0.780985</td>\n",
       "      <td>1.256969e-04</td>\n",
       "      <td>0.000000e+00</td>\n",
       "      <td>0.458143</td>\n",
       "      <td>7.250725e-04</td>\n",
       "      <td>0.000000</td>\n",
       "      <td>0.147950</td>\n",
       "      <td>0.147950</td>\n",
       "      <td>0.147950</td>\n",
       "      <td>0.169141</td>\n",
       "      <td>0.311664</td>\n",
       "      <td>0.017560</td>\n",
       "      <td>0.095921</td>\n",
       "      <td>0.138736</td>\n",
       "      <td>0.022102</td>\n",
       "      <td>0.848195</td>\n",
       "      <td>0.688979</td>\n",
       "      <td>0.688979</td>\n",
       "      <td>0.217535</td>\n",
       "      <td>4.980000e+09</td>\n",
       "      <td>0.000327</td>\n",
       "      <td>0.263100</td>\n",
       "      <td>0.363725</td>\n",
       "      <td>0.002259</td>\n",
       "      <td>0.001208</td>\n",
       "      <td>0.629951</td>\n",
       "      <td>0.021266</td>\n",
       "      <td>0.207576</td>\n",
       "      <td>0.792424</td>\n",
       "      <td>0.005024</td>\n",
       "      <td>...</td>\n",
       "      <td>0.190643</td>\n",
       "      <td>0.004094</td>\n",
       "      <td>0.001997</td>\n",
       "      <td>1.473360e-04</td>\n",
       "      <td>0.147308</td>\n",
       "      <td>0.334015</td>\n",
       "      <td>0.276920</td>\n",
       "      <td>0.001036</td>\n",
       "      <td>0.676269</td>\n",
       "      <td>0.721275</td>\n",
       "      <td>0.339077</td>\n",
       "      <td>2.559237e-02</td>\n",
       "      <td>0.903225</td>\n",
       "      <td>0.002022</td>\n",
       "      <td>0.064856</td>\n",
       "      <td>7.010000e+08</td>\n",
       "      <td>6.550000e+09</td>\n",
       "      <td>0.593831</td>\n",
       "      <td>4.580000e+08</td>\n",
       "      <td>0.671568</td>\n",
       "      <td>0.424206</td>\n",
       "      <td>0.676269</td>\n",
       "      <td>0.339077</td>\n",
       "      <td>0.126549</td>\n",
       "      <td>0.637555</td>\n",
       "      <td>0.458609</td>\n",
       "      <td>0.520382</td>\n",
       "      <td>0.312905</td>\n",
       "      <td>0.118250</td>\n",
       "      <td>0</td>\n",
       "      <td>0.716845</td>\n",
       "      <td>0.009219</td>\n",
       "      <td>0.622879</td>\n",
       "      <td>0.601453</td>\n",
       "      <td>0.827890</td>\n",
       "      <td>0.290202</td>\n",
       "      <td>0.026601</td>\n",
       "      <td>0.564050</td>\n",
       "      <td>1</td>\n",
       "      <td>0.016469</td>\n",
       "    </tr>\n",
       "    <tr>\n",
       "      <th>1</th>\n",
       "      <td>1</td>\n",
       "      <td>0.464291</td>\n",
       "      <td>0.538214</td>\n",
       "      <td>0.516730</td>\n",
       "      <td>0.610235</td>\n",
       "      <td>0.610235</td>\n",
       "      <td>0.998946</td>\n",
       "      <td>0.797380</td>\n",
       "      <td>0.809301</td>\n",
       "      <td>0.303556</td>\n",
       "      <td>0.781506</td>\n",
       "      <td>2.897851e-04</td>\n",
       "      <td>0.000000e+00</td>\n",
       "      <td>0.461867</td>\n",
       "      <td>6.470647e-04</td>\n",
       "      <td>0.000000</td>\n",
       "      <td>0.182251</td>\n",
       "      <td>0.182251</td>\n",
       "      <td>0.182251</td>\n",
       "      <td>0.208944</td>\n",
       "      <td>0.318137</td>\n",
       "      <td>0.021144</td>\n",
       "      <td>0.093722</td>\n",
       "      <td>0.169918</td>\n",
       "      <td>0.022080</td>\n",
       "      <td>0.848088</td>\n",
       "      <td>0.689693</td>\n",
       "      <td>0.689702</td>\n",
       "      <td>0.217620</td>\n",
       "      <td>6.110000e+09</td>\n",
       "      <td>0.000443</td>\n",
       "      <td>0.264516</td>\n",
       "      <td>0.376709</td>\n",
       "      <td>0.006016</td>\n",
       "      <td>0.004039</td>\n",
       "      <td>0.635172</td>\n",
       "      <td>0.012502</td>\n",
       "      <td>0.171176</td>\n",
       "      <td>0.828824</td>\n",
       "      <td>0.005059</td>\n",
       "      <td>...</td>\n",
       "      <td>0.182419</td>\n",
       "      <td>0.014948</td>\n",
       "      <td>0.004136</td>\n",
       "      <td>1.383910e-03</td>\n",
       "      <td>0.056963</td>\n",
       "      <td>0.341106</td>\n",
       "      <td>0.289642</td>\n",
       "      <td>0.005210</td>\n",
       "      <td>0.308589</td>\n",
       "      <td>0.731975</td>\n",
       "      <td>0.329740</td>\n",
       "      <td>2.394682e-02</td>\n",
       "      <td>0.931065</td>\n",
       "      <td>0.002226</td>\n",
       "      <td>0.025516</td>\n",
       "      <td>1.065198e-04</td>\n",
       "      <td>7.700000e+09</td>\n",
       "      <td>0.593916</td>\n",
       "      <td>2.490000e+09</td>\n",
       "      <td>0.671570</td>\n",
       "      <td>0.468828</td>\n",
       "      <td>0.308589</td>\n",
       "      <td>0.329740</td>\n",
       "      <td>0.120916</td>\n",
       "      <td>0.641100</td>\n",
       "      <td>0.459001</td>\n",
       "      <td>0.567101</td>\n",
       "      <td>0.314163</td>\n",
       "      <td>0.047775</td>\n",
       "      <td>0</td>\n",
       "      <td>0.795297</td>\n",
       "      <td>0.008323</td>\n",
       "      <td>0.623652</td>\n",
       "      <td>0.610237</td>\n",
       "      <td>0.839969</td>\n",
       "      <td>0.283846</td>\n",
       "      <td>0.264577</td>\n",
       "      <td>0.570175</td>\n",
       "      <td>1</td>\n",
       "      <td>0.020794</td>\n",
       "    </tr>\n",
       "    <tr>\n",
       "      <th>2</th>\n",
       "      <td>1</td>\n",
       "      <td>0.426071</td>\n",
       "      <td>0.499019</td>\n",
       "      <td>0.472295</td>\n",
       "      <td>0.601450</td>\n",
       "      <td>0.601364</td>\n",
       "      <td>0.998857</td>\n",
       "      <td>0.796403</td>\n",
       "      <td>0.808388</td>\n",
       "      <td>0.302035</td>\n",
       "      <td>0.780284</td>\n",
       "      <td>2.361297e-04</td>\n",
       "      <td>2.550000e+07</td>\n",
       "      <td>0.458521</td>\n",
       "      <td>7.900790e-04</td>\n",
       "      <td>0.000000</td>\n",
       "      <td>0.177911</td>\n",
       "      <td>0.177911</td>\n",
       "      <td>0.193713</td>\n",
       "      <td>0.180581</td>\n",
       "      <td>0.307102</td>\n",
       "      <td>0.005944</td>\n",
       "      <td>0.092338</td>\n",
       "      <td>0.142803</td>\n",
       "      <td>0.022760</td>\n",
       "      <td>0.848094</td>\n",
       "      <td>0.689463</td>\n",
       "      <td>0.689470</td>\n",
       "      <td>0.217601</td>\n",
       "      <td>7.280000e+09</td>\n",
       "      <td>0.000396</td>\n",
       "      <td>0.264184</td>\n",
       "      <td>0.368913</td>\n",
       "      <td>0.011543</td>\n",
       "      <td>0.005348</td>\n",
       "      <td>0.629631</td>\n",
       "      <td>0.021248</td>\n",
       "      <td>0.207516</td>\n",
       "      <td>0.792484</td>\n",
       "      <td>0.005100</td>\n",
       "      <td>...</td>\n",
       "      <td>0.602806</td>\n",
       "      <td>0.000991</td>\n",
       "      <td>0.006302</td>\n",
       "      <td>5.340000e+09</td>\n",
       "      <td>0.098162</td>\n",
       "      <td>0.336731</td>\n",
       "      <td>0.277456</td>\n",
       "      <td>0.013879</td>\n",
       "      <td>0.446027</td>\n",
       "      <td>0.742729</td>\n",
       "      <td>0.334777</td>\n",
       "      <td>3.715116e-03</td>\n",
       "      <td>0.909903</td>\n",
       "      <td>0.002060</td>\n",
       "      <td>0.021387</td>\n",
       "      <td>1.791094e-03</td>\n",
       "      <td>1.022676e-03</td>\n",
       "      <td>0.594502</td>\n",
       "      <td>7.610000e+08</td>\n",
       "      <td>0.671571</td>\n",
       "      <td>0.276179</td>\n",
       "      <td>0.446027</td>\n",
       "      <td>0.334777</td>\n",
       "      <td>0.117922</td>\n",
       "      <td>0.642765</td>\n",
       "      <td>0.459254</td>\n",
       "      <td>0.538491</td>\n",
       "      <td>0.314515</td>\n",
       "      <td>0.025346</td>\n",
       "      <td>0</td>\n",
       "      <td>0.774670</td>\n",
       "      <td>0.040003</td>\n",
       "      <td>0.623841</td>\n",
       "      <td>0.601449</td>\n",
       "      <td>0.836774</td>\n",
       "      <td>0.290189</td>\n",
       "      <td>0.026555</td>\n",
       "      <td>0.563706</td>\n",
       "      <td>1</td>\n",
       "      <td>0.016474</td>\n",
       "    </tr>\n",
       "    <tr>\n",
       "      <th>3</th>\n",
       "      <td>1</td>\n",
       "      <td>0.399844</td>\n",
       "      <td>0.451265</td>\n",
       "      <td>0.457733</td>\n",
       "      <td>0.583541</td>\n",
       "      <td>0.583541</td>\n",
       "      <td>0.998700</td>\n",
       "      <td>0.796967</td>\n",
       "      <td>0.808966</td>\n",
       "      <td>0.303350</td>\n",
       "      <td>0.781241</td>\n",
       "      <td>1.078888e-04</td>\n",
       "      <td>0.000000e+00</td>\n",
       "      <td>0.465705</td>\n",
       "      <td>4.490449e-04</td>\n",
       "      <td>0.000000</td>\n",
       "      <td>0.154187</td>\n",
       "      <td>0.154187</td>\n",
       "      <td>0.154187</td>\n",
       "      <td>0.193722</td>\n",
       "      <td>0.321674</td>\n",
       "      <td>0.014368</td>\n",
       "      <td>0.077762</td>\n",
       "      <td>0.148603</td>\n",
       "      <td>0.022046</td>\n",
       "      <td>0.848005</td>\n",
       "      <td>0.689110</td>\n",
       "      <td>0.689110</td>\n",
       "      <td>0.217568</td>\n",
       "      <td>4.880000e+09</td>\n",
       "      <td>0.000382</td>\n",
       "      <td>0.263371</td>\n",
       "      <td>0.384077</td>\n",
       "      <td>0.004194</td>\n",
       "      <td>0.002896</td>\n",
       "      <td>0.630228</td>\n",
       "      <td>0.009572</td>\n",
       "      <td>0.151465</td>\n",
       "      <td>0.848535</td>\n",
       "      <td>0.005047</td>\n",
       "      <td>...</td>\n",
       "      <td>0.225815</td>\n",
       "      <td>0.018851</td>\n",
       "      <td>0.002961</td>\n",
       "      <td>1.010646e-03</td>\n",
       "      <td>0.098715</td>\n",
       "      <td>0.348716</td>\n",
       "      <td>0.276580</td>\n",
       "      <td>0.003540</td>\n",
       "      <td>0.615848</td>\n",
       "      <td>0.729825</td>\n",
       "      <td>0.331509</td>\n",
       "      <td>2.216520e-02</td>\n",
       "      <td>0.906902</td>\n",
       "      <td>0.001831</td>\n",
       "      <td>0.024161</td>\n",
       "      <td>8.140000e+09</td>\n",
       "      <td>6.050000e+09</td>\n",
       "      <td>0.593889</td>\n",
       "      <td>2.030000e+09</td>\n",
       "      <td>0.671519</td>\n",
       "      <td>0.559144</td>\n",
       "      <td>0.615848</td>\n",
       "      <td>0.331509</td>\n",
       "      <td>0.120760</td>\n",
       "      <td>0.579039</td>\n",
       "      <td>0.448518</td>\n",
       "      <td>0.604105</td>\n",
       "      <td>0.302382</td>\n",
       "      <td>0.067250</td>\n",
       "      <td>0</td>\n",
       "      <td>0.739555</td>\n",
       "      <td>0.003252</td>\n",
       "      <td>0.622929</td>\n",
       "      <td>0.583538</td>\n",
       "      <td>0.834697</td>\n",
       "      <td>0.281721</td>\n",
       "      <td>0.026697</td>\n",
       "      <td>0.564663</td>\n",
       "      <td>1</td>\n",
       "      <td>0.023982</td>\n",
       "    </tr>\n",
       "    <tr>\n",
       "      <th>4</th>\n",
       "      <td>1</td>\n",
       "      <td>0.465022</td>\n",
       "      <td>0.538432</td>\n",
       "      <td>0.522298</td>\n",
       "      <td>0.598783</td>\n",
       "      <td>0.598783</td>\n",
       "      <td>0.998973</td>\n",
       "      <td>0.797366</td>\n",
       "      <td>0.809304</td>\n",
       "      <td>0.303475</td>\n",
       "      <td>0.781550</td>\n",
       "      <td>7.890000e+09</td>\n",
       "      <td>0.000000e+00</td>\n",
       "      <td>0.462746</td>\n",
       "      <td>6.860686e-04</td>\n",
       "      <td>0.000000</td>\n",
       "      <td>0.167502</td>\n",
       "      <td>0.167502</td>\n",
       "      <td>0.167502</td>\n",
       "      <td>0.212537</td>\n",
       "      <td>0.319162</td>\n",
       "      <td>0.029690</td>\n",
       "      <td>0.096898</td>\n",
       "      <td>0.168412</td>\n",
       "      <td>0.022096</td>\n",
       "      <td>0.848258</td>\n",
       "      <td>0.689697</td>\n",
       "      <td>0.689697</td>\n",
       "      <td>0.217626</td>\n",
       "      <td>5.510000e+09</td>\n",
       "      <td>0.000439</td>\n",
       "      <td>0.265218</td>\n",
       "      <td>0.379690</td>\n",
       "      <td>0.006022</td>\n",
       "      <td>0.003727</td>\n",
       "      <td>0.636055</td>\n",
       "      <td>0.005150</td>\n",
       "      <td>0.106509</td>\n",
       "      <td>0.893491</td>\n",
       "      <td>0.005303</td>\n",
       "      <td>...</td>\n",
       "      <td>0.358380</td>\n",
       "      <td>0.014161</td>\n",
       "      <td>0.004275</td>\n",
       "      <td>6.804636e-04</td>\n",
       "      <td>0.110195</td>\n",
       "      <td>0.344639</td>\n",
       "      <td>0.287913</td>\n",
       "      <td>0.004869</td>\n",
       "      <td>0.975007</td>\n",
       "      <td>0.732000</td>\n",
       "      <td>0.330726</td>\n",
       "      <td>0.000000e+00</td>\n",
       "      <td>0.913850</td>\n",
       "      <td>0.002224</td>\n",
       "      <td>0.026385</td>\n",
       "      <td>6.680000e+09</td>\n",
       "      <td>5.050000e+09</td>\n",
       "      <td>0.593915</td>\n",
       "      <td>8.240000e+08</td>\n",
       "      <td>0.671563</td>\n",
       "      <td>0.309555</td>\n",
       "      <td>0.975007</td>\n",
       "      <td>0.330726</td>\n",
       "      <td>0.110933</td>\n",
       "      <td>0.622374</td>\n",
       "      <td>0.454411</td>\n",
       "      <td>0.578469</td>\n",
       "      <td>0.311567</td>\n",
       "      <td>0.047725</td>\n",
       "      <td>0</td>\n",
       "      <td>0.795016</td>\n",
       "      <td>0.003878</td>\n",
       "      <td>0.623521</td>\n",
       "      <td>0.598782</td>\n",
       "      <td>0.839973</td>\n",
       "      <td>0.278514</td>\n",
       "      <td>0.024752</td>\n",
       "      <td>0.575617</td>\n",
       "      <td>1</td>\n",
       "      <td>0.035490</td>\n",
       "    </tr>\n",
       "    <tr>\n",
       "      <th>...</th>\n",
       "      <td>...</td>\n",
       "      <td>...</td>\n",
       "      <td>...</td>\n",
       "      <td>...</td>\n",
       "      <td>...</td>\n",
       "      <td>...</td>\n",
       "      <td>...</td>\n",
       "      <td>...</td>\n",
       "      <td>...</td>\n",
       "      <td>...</td>\n",
       "      <td>...</td>\n",
       "      <td>...</td>\n",
       "      <td>...</td>\n",
       "      <td>...</td>\n",
       "      <td>...</td>\n",
       "      <td>...</td>\n",
       "      <td>...</td>\n",
       "      <td>...</td>\n",
       "      <td>...</td>\n",
       "      <td>...</td>\n",
       "      <td>...</td>\n",
       "      <td>...</td>\n",
       "      <td>...</td>\n",
       "      <td>...</td>\n",
       "      <td>...</td>\n",
       "      <td>...</td>\n",
       "      <td>...</td>\n",
       "      <td>...</td>\n",
       "      <td>...</td>\n",
       "      <td>...</td>\n",
       "      <td>...</td>\n",
       "      <td>...</td>\n",
       "      <td>...</td>\n",
       "      <td>...</td>\n",
       "      <td>...</td>\n",
       "      <td>...</td>\n",
       "      <td>...</td>\n",
       "      <td>...</td>\n",
       "      <td>...</td>\n",
       "      <td>...</td>\n",
       "      <td>...</td>\n",
       "      <td>...</td>\n",
       "      <td>...</td>\n",
       "      <td>...</td>\n",
       "      <td>...</td>\n",
       "      <td>...</td>\n",
       "      <td>...</td>\n",
       "      <td>...</td>\n",
       "      <td>...</td>\n",
       "      <td>...</td>\n",
       "      <td>...</td>\n",
       "      <td>...</td>\n",
       "      <td>...</td>\n",
       "      <td>...</td>\n",
       "      <td>...</td>\n",
       "      <td>...</td>\n",
       "      <td>...</td>\n",
       "      <td>...</td>\n",
       "      <td>...</td>\n",
       "      <td>...</td>\n",
       "      <td>...</td>\n",
       "      <td>...</td>\n",
       "      <td>...</td>\n",
       "      <td>...</td>\n",
       "      <td>...</td>\n",
       "      <td>...</td>\n",
       "      <td>...</td>\n",
       "      <td>...</td>\n",
       "      <td>...</td>\n",
       "      <td>...</td>\n",
       "      <td>...</td>\n",
       "      <td>...</td>\n",
       "      <td>...</td>\n",
       "      <td>...</td>\n",
       "      <td>...</td>\n",
       "      <td>...</td>\n",
       "      <td>...</td>\n",
       "      <td>...</td>\n",
       "      <td>...</td>\n",
       "      <td>...</td>\n",
       "      <td>...</td>\n",
       "    </tr>\n",
       "    <tr>\n",
       "      <th>6814</th>\n",
       "      <td>0</td>\n",
       "      <td>0.493687</td>\n",
       "      <td>0.539468</td>\n",
       "      <td>0.543230</td>\n",
       "      <td>0.604455</td>\n",
       "      <td>0.604462</td>\n",
       "      <td>0.998992</td>\n",
       "      <td>0.797409</td>\n",
       "      <td>0.809331</td>\n",
       "      <td>0.303510</td>\n",
       "      <td>0.781588</td>\n",
       "      <td>1.510213e-04</td>\n",
       "      <td>4.500000e+09</td>\n",
       "      <td>0.463734</td>\n",
       "      <td>1.790179e-04</td>\n",
       "      <td>0.113372</td>\n",
       "      <td>0.175045</td>\n",
       "      <td>0.175045</td>\n",
       "      <td>0.175045</td>\n",
       "      <td>0.216602</td>\n",
       "      <td>0.320966</td>\n",
       "      <td>0.020766</td>\n",
       "      <td>0.098200</td>\n",
       "      <td>0.172102</td>\n",
       "      <td>0.022374</td>\n",
       "      <td>0.848205</td>\n",
       "      <td>0.689778</td>\n",
       "      <td>0.689778</td>\n",
       "      <td>0.217635</td>\n",
       "      <td>7.070000e+09</td>\n",
       "      <td>0.000450</td>\n",
       "      <td>0.264517</td>\n",
       "      <td>0.380155</td>\n",
       "      <td>0.010451</td>\n",
       "      <td>0.005457</td>\n",
       "      <td>0.631415</td>\n",
       "      <td>0.006655</td>\n",
       "      <td>0.124618</td>\n",
       "      <td>0.875382</td>\n",
       "      <td>0.005150</td>\n",
       "      <td>...</td>\n",
       "      <td>0.578455</td>\n",
       "      <td>0.099481</td>\n",
       "      <td>0.005469</td>\n",
       "      <td>5.071548e-03</td>\n",
       "      <td>0.103838</td>\n",
       "      <td>0.346224</td>\n",
       "      <td>0.277543</td>\n",
       "      <td>0.013212</td>\n",
       "      <td>0.786888</td>\n",
       "      <td>0.736716</td>\n",
       "      <td>0.330914</td>\n",
       "      <td>1.792237e-03</td>\n",
       "      <td>0.925611</td>\n",
       "      <td>0.002266</td>\n",
       "      <td>0.019060</td>\n",
       "      <td>2.294154e-04</td>\n",
       "      <td>1.244230e-04</td>\n",
       "      <td>0.593985</td>\n",
       "      <td>1.077940e-04</td>\n",
       "      <td>0.671570</td>\n",
       "      <td>0.400338</td>\n",
       "      <td>0.786888</td>\n",
       "      <td>0.330914</td>\n",
       "      <td>0.112622</td>\n",
       "      <td>0.639806</td>\n",
       "      <td>0.458639</td>\n",
       "      <td>0.587178</td>\n",
       "      <td>0.314063</td>\n",
       "      <td>0.027951</td>\n",
       "      <td>0</td>\n",
       "      <td>0.799927</td>\n",
       "      <td>0.000466</td>\n",
       "      <td>0.623620</td>\n",
       "      <td>0.604455</td>\n",
       "      <td>0.840359</td>\n",
       "      <td>0.279606</td>\n",
       "      <td>0.027064</td>\n",
       "      <td>0.566193</td>\n",
       "      <td>1</td>\n",
       "      <td>0.029890</td>\n",
       "    </tr>\n",
       "    <tr>\n",
       "      <th>6815</th>\n",
       "      <td>0</td>\n",
       "      <td>0.475162</td>\n",
       "      <td>0.538269</td>\n",
       "      <td>0.524172</td>\n",
       "      <td>0.598308</td>\n",
       "      <td>0.598308</td>\n",
       "      <td>0.998992</td>\n",
       "      <td>0.797414</td>\n",
       "      <td>0.809327</td>\n",
       "      <td>0.303520</td>\n",
       "      <td>0.781586</td>\n",
       "      <td>5.220000e+09</td>\n",
       "      <td>1.440000e+09</td>\n",
       "      <td>0.461978</td>\n",
       "      <td>2.370237e-04</td>\n",
       "      <td>0.371596</td>\n",
       "      <td>0.181324</td>\n",
       "      <td>0.181324</td>\n",
       "      <td>0.181324</td>\n",
       "      <td>0.216697</td>\n",
       "      <td>0.318278</td>\n",
       "      <td>0.023050</td>\n",
       "      <td>0.098608</td>\n",
       "      <td>0.172780</td>\n",
       "      <td>0.022159</td>\n",
       "      <td>0.848245</td>\n",
       "      <td>0.689734</td>\n",
       "      <td>0.689734</td>\n",
       "      <td>0.217631</td>\n",
       "      <td>5.220000e+09</td>\n",
       "      <td>0.000445</td>\n",
       "      <td>0.264730</td>\n",
       "      <td>0.377389</td>\n",
       "      <td>0.009259</td>\n",
       "      <td>0.006741</td>\n",
       "      <td>0.631489</td>\n",
       "      <td>0.004623</td>\n",
       "      <td>0.099253</td>\n",
       "      <td>0.900747</td>\n",
       "      <td>0.006772</td>\n",
       "      <td>...</td>\n",
       "      <td>0.444043</td>\n",
       "      <td>0.080337</td>\n",
       "      <td>0.006790</td>\n",
       "      <td>4.727181e-03</td>\n",
       "      <td>0.089901</td>\n",
       "      <td>0.342166</td>\n",
       "      <td>0.277368</td>\n",
       "      <td>0.006730</td>\n",
       "      <td>0.849898</td>\n",
       "      <td>0.734584</td>\n",
       "      <td>0.329753</td>\n",
       "      <td>2.204673e-03</td>\n",
       "      <td>0.932629</td>\n",
       "      <td>0.002288</td>\n",
       "      <td>0.011118</td>\n",
       "      <td>1.517299e-04</td>\n",
       "      <td>1.173396e-04</td>\n",
       "      <td>0.593954</td>\n",
       "      <td>7.710000e+09</td>\n",
       "      <td>0.671572</td>\n",
       "      <td>0.096136</td>\n",
       "      <td>0.849898</td>\n",
       "      <td>0.329753</td>\n",
       "      <td>0.112329</td>\n",
       "      <td>0.642072</td>\n",
       "      <td>0.459058</td>\n",
       "      <td>0.569498</td>\n",
       "      <td>0.314446</td>\n",
       "      <td>0.031470</td>\n",
       "      <td>0</td>\n",
       "      <td>0.799748</td>\n",
       "      <td>0.001959</td>\n",
       "      <td>0.623931</td>\n",
       "      <td>0.598306</td>\n",
       "      <td>0.840306</td>\n",
       "      <td>0.278132</td>\n",
       "      <td>0.027009</td>\n",
       "      <td>0.566018</td>\n",
       "      <td>1</td>\n",
       "      <td>0.038284</td>\n",
       "    </tr>\n",
       "    <tr>\n",
       "      <th>6816</th>\n",
       "      <td>0</td>\n",
       "      <td>0.472725</td>\n",
       "      <td>0.533744</td>\n",
       "      <td>0.520638</td>\n",
       "      <td>0.610444</td>\n",
       "      <td>0.610213</td>\n",
       "      <td>0.998984</td>\n",
       "      <td>0.797401</td>\n",
       "      <td>0.809317</td>\n",
       "      <td>0.303512</td>\n",
       "      <td>0.781546</td>\n",
       "      <td>2.509312e-04</td>\n",
       "      <td>1.039086e-04</td>\n",
       "      <td>0.472189</td>\n",
       "      <td>0.000000e+00</td>\n",
       "      <td>0.490839</td>\n",
       "      <td>0.269521</td>\n",
       "      <td>0.269521</td>\n",
       "      <td>0.269521</td>\n",
       "      <td>0.210929</td>\n",
       "      <td>0.324857</td>\n",
       "      <td>0.044255</td>\n",
       "      <td>0.100073</td>\n",
       "      <td>0.173232</td>\n",
       "      <td>0.022068</td>\n",
       "      <td>0.847978</td>\n",
       "      <td>0.689202</td>\n",
       "      <td>0.689202</td>\n",
       "      <td>0.217547</td>\n",
       "      <td>5.990000e+09</td>\n",
       "      <td>0.000435</td>\n",
       "      <td>0.263858</td>\n",
       "      <td>0.379392</td>\n",
       "      <td>0.038424</td>\n",
       "      <td>0.035112</td>\n",
       "      <td>0.630612</td>\n",
       "      <td>0.001392</td>\n",
       "      <td>0.038939</td>\n",
       "      <td>0.961061</td>\n",
       "      <td>0.009149</td>\n",
       "      <td>...</td>\n",
       "      <td>0.496053</td>\n",
       "      <td>0.412885</td>\n",
       "      <td>0.035531</td>\n",
       "      <td>8.821248e-02</td>\n",
       "      <td>0.024414</td>\n",
       "      <td>0.358847</td>\n",
       "      <td>0.277022</td>\n",
       "      <td>0.007810</td>\n",
       "      <td>0.553964</td>\n",
       "      <td>0.737432</td>\n",
       "      <td>0.326921</td>\n",
       "      <td>0.000000e+00</td>\n",
       "      <td>0.932000</td>\n",
       "      <td>0.002239</td>\n",
       "      <td>0.035446</td>\n",
       "      <td>1.762272e-04</td>\n",
       "      <td>1.749713e-04</td>\n",
       "      <td>0.594025</td>\n",
       "      <td>4.074263e-04</td>\n",
       "      <td>0.671564</td>\n",
       "      <td>0.055509</td>\n",
       "      <td>0.553964</td>\n",
       "      <td>0.326921</td>\n",
       "      <td>0.110933</td>\n",
       "      <td>0.631678</td>\n",
       "      <td>0.452465</td>\n",
       "      <td>0.589341</td>\n",
       "      <td>0.313353</td>\n",
       "      <td>0.007542</td>\n",
       "      <td>0</td>\n",
       "      <td>0.797778</td>\n",
       "      <td>0.002840</td>\n",
       "      <td>0.624156</td>\n",
       "      <td>0.610441</td>\n",
       "      <td>0.840138</td>\n",
       "      <td>0.275789</td>\n",
       "      <td>0.026791</td>\n",
       "      <td>0.565158</td>\n",
       "      <td>1</td>\n",
       "      <td>0.097649</td>\n",
       "    </tr>\n",
       "    <tr>\n",
       "      <th>6817</th>\n",
       "      <td>0</td>\n",
       "      <td>0.506264</td>\n",
       "      <td>0.559911</td>\n",
       "      <td>0.554045</td>\n",
       "      <td>0.607850</td>\n",
       "      <td>0.607850</td>\n",
       "      <td>0.999074</td>\n",
       "      <td>0.797500</td>\n",
       "      <td>0.809399</td>\n",
       "      <td>0.303498</td>\n",
       "      <td>0.781663</td>\n",
       "      <td>1.236154e-04</td>\n",
       "      <td>2.510000e+09</td>\n",
       "      <td>0.476123</td>\n",
       "      <td>2.110211e-04</td>\n",
       "      <td>0.181294</td>\n",
       "      <td>0.213392</td>\n",
       "      <td>0.213392</td>\n",
       "      <td>0.213392</td>\n",
       "      <td>0.228326</td>\n",
       "      <td>0.346573</td>\n",
       "      <td>0.031535</td>\n",
       "      <td>0.111799</td>\n",
       "      <td>0.185584</td>\n",
       "      <td>0.022350</td>\n",
       "      <td>0.854064</td>\n",
       "      <td>0.696113</td>\n",
       "      <td>0.696113</td>\n",
       "      <td>0.218006</td>\n",
       "      <td>7.250000e+09</td>\n",
       "      <td>0.000529</td>\n",
       "      <td>0.264409</td>\n",
       "      <td>0.401028</td>\n",
       "      <td>0.012782</td>\n",
       "      <td>0.007256</td>\n",
       "      <td>0.630731</td>\n",
       "      <td>0.003816</td>\n",
       "      <td>0.086979</td>\n",
       "      <td>0.913021</td>\n",
       "      <td>0.005529</td>\n",
       "      <td>...</td>\n",
       "      <td>0.564439</td>\n",
       "      <td>0.112238</td>\n",
       "      <td>0.007753</td>\n",
       "      <td>7.133218e-03</td>\n",
       "      <td>0.083199</td>\n",
       "      <td>0.380251</td>\n",
       "      <td>0.277353</td>\n",
       "      <td>0.013334</td>\n",
       "      <td>0.893241</td>\n",
       "      <td>0.736713</td>\n",
       "      <td>0.329294</td>\n",
       "      <td>3.200000e+09</td>\n",
       "      <td>0.939613</td>\n",
       "      <td>0.002395</td>\n",
       "      <td>0.016443</td>\n",
       "      <td>2.135940e-04</td>\n",
       "      <td>1.351937e-04</td>\n",
       "      <td>0.593997</td>\n",
       "      <td>1.165392e-04</td>\n",
       "      <td>0.671606</td>\n",
       "      <td>0.246805</td>\n",
       "      <td>0.893241</td>\n",
       "      <td>0.329294</td>\n",
       "      <td>0.110957</td>\n",
       "      <td>0.684857</td>\n",
       "      <td>0.471313</td>\n",
       "      <td>0.678338</td>\n",
       "      <td>0.320118</td>\n",
       "      <td>0.022916</td>\n",
       "      <td>0</td>\n",
       "      <td>0.811808</td>\n",
       "      <td>0.002837</td>\n",
       "      <td>0.623957</td>\n",
       "      <td>0.607846</td>\n",
       "      <td>0.841084</td>\n",
       "      <td>0.277547</td>\n",
       "      <td>0.026822</td>\n",
       "      <td>0.565302</td>\n",
       "      <td>1</td>\n",
       "      <td>0.044009</td>\n",
       "    </tr>\n",
       "    <tr>\n",
       "      <th>6818</th>\n",
       "      <td>0</td>\n",
       "      <td>0.493053</td>\n",
       "      <td>0.570105</td>\n",
       "      <td>0.549548</td>\n",
       "      <td>0.627409</td>\n",
       "      <td>0.627409</td>\n",
       "      <td>0.998080</td>\n",
       "      <td>0.801987</td>\n",
       "      <td>0.813800</td>\n",
       "      <td>0.313415</td>\n",
       "      <td>0.786079</td>\n",
       "      <td>1.431695e-03</td>\n",
       "      <td>0.000000e+00</td>\n",
       "      <td>0.427721</td>\n",
       "      <td>5.900000e+08</td>\n",
       "      <td>0.000000</td>\n",
       "      <td>0.220766</td>\n",
       "      <td>0.220766</td>\n",
       "      <td>0.220766</td>\n",
       "      <td>0.227758</td>\n",
       "      <td>0.305793</td>\n",
       "      <td>0.000665</td>\n",
       "      <td>0.092501</td>\n",
       "      <td>0.182119</td>\n",
       "      <td>0.025316</td>\n",
       "      <td>0.848053</td>\n",
       "      <td>0.689527</td>\n",
       "      <td>0.689527</td>\n",
       "      <td>0.217605</td>\n",
       "      <td>9.350000e+09</td>\n",
       "      <td>0.000519</td>\n",
       "      <td>0.264186</td>\n",
       "      <td>0.360102</td>\n",
       "      <td>0.051348</td>\n",
       "      <td>0.040897</td>\n",
       "      <td>0.630618</td>\n",
       "      <td>0.000461</td>\n",
       "      <td>0.014149</td>\n",
       "      <td>0.985851</td>\n",
       "      <td>0.058476</td>\n",
       "      <td>...</td>\n",
       "      <td>0.505010</td>\n",
       "      <td>0.238147</td>\n",
       "      <td>0.051481</td>\n",
       "      <td>6.667354e-02</td>\n",
       "      <td>0.018517</td>\n",
       "      <td>0.239585</td>\n",
       "      <td>0.276975</td>\n",
       "      <td>0.000000</td>\n",
       "      <td>1.000000</td>\n",
       "      <td>0.737286</td>\n",
       "      <td>0.326690</td>\n",
       "      <td>0.000000e+00</td>\n",
       "      <td>0.938005</td>\n",
       "      <td>0.002791</td>\n",
       "      <td>0.006089</td>\n",
       "      <td>7.863781e-03</td>\n",
       "      <td>8.238471e-03</td>\n",
       "      <td>0.598674</td>\n",
       "      <td>9.505992e-03</td>\n",
       "      <td>0.672096</td>\n",
       "      <td>0.005016</td>\n",
       "      <td>1.000000</td>\n",
       "      <td>0.326690</td>\n",
       "      <td>0.110933</td>\n",
       "      <td>0.659917</td>\n",
       "      <td>0.483285</td>\n",
       "      <td>0.505531</td>\n",
       "      <td>0.316238</td>\n",
       "      <td>0.005579</td>\n",
       "      <td>0</td>\n",
       "      <td>0.815956</td>\n",
       "      <td>0.000707</td>\n",
       "      <td>0.626680</td>\n",
       "      <td>0.627408</td>\n",
       "      <td>0.841019</td>\n",
       "      <td>0.275114</td>\n",
       "      <td>0.026793</td>\n",
       "      <td>0.565167</td>\n",
       "      <td>1</td>\n",
       "      <td>0.233902</td>\n",
       "    </tr>\n",
       "  </tbody>\n",
       "</table>\n",
       "<p>6819 rows × 96 columns</p>\n",
       "</div>"
      ],
      "text/plain": [
       "      Bankrupt?  ...   Equity to Liability\n",
       "0             1  ...              0.016469\n",
       "1             1  ...              0.020794\n",
       "2             1  ...              0.016474\n",
       "3             1  ...              0.023982\n",
       "4             1  ...              0.035490\n",
       "...         ...  ...                   ...\n",
       "6814          0  ...              0.029890\n",
       "6815          0  ...              0.038284\n",
       "6816          0  ...              0.097649\n",
       "6817          0  ...              0.044009\n",
       "6818          0  ...              0.233902\n",
       "\n",
       "[6819 rows x 96 columns]"
      ]
     },
     "execution_count": 95,
     "metadata": {},
     "output_type": "execute_result"
    }
   ],
   "source": [
    "df"
   ]
  },
  {
   "cell_type": "code",
   "execution_count": 96,
   "metadata": {
    "id": "kJQh4vcEOUV9"
   },
   "outputs": [],
   "source": [
    "#pd.set_option('display.max_columns',None)\n",
    "#df.head()"
   ]
  },
  {
   "cell_type": "markdown",
   "metadata": {
    "id": "ZsICrYX0whGn"
   },
   "source": [
    "Πρόκειται για dataset που περιέχει πληροφορίες για χρεοκοπημένες και μη εταιρίες από το 1999 έως το 2009. Πηγή είναι το Taiwan Economic Journal. \n",
    "Τα features που αντιστοιχούν σε κάθε δείγμα(εταιρία) αποτελούνται από 95 χρηματιστηριακούς δείκτες(FRs). "
   ]
  },
  {
   "cell_type": "markdown",
   "metadata": {
    "id": "ZsOvJ53h5cMO"
   },
   "source": [
    "Το classification γίνεται σε δύο κλασεις:\n",
    "\n",
    "χρεοκοπημένη - 1\n",
    "\n",
    "μη χρεοκοπημένη - 0\n",
    "\n",
    "Ελέγχω αρχικά αν είναι ισορροπημένο το dataset."
   ]
  },
  {
   "cell_type": "code",
   "execution_count": 97,
   "metadata": {
    "colab": {
     "base_uri": "https://localhost:8080/"
    },
    "id": "RsaCTzuP5bXP",
    "outputId": "012b5460-cc75-4ac4-a7f8-27d128a7d024"
   },
   "outputs": [
    {
     "name": "stdout",
     "output_type": "stream",
     "text": [
      "0    6599\n",
      "1     220\n",
      "Name: Bankrupt?, dtype: int64\n",
      "\n",
      "0    96.77372\n",
      "1     3.22628\n",
      "Name: Bankrupt?, dtype: float64\n"
     ]
    }
   ],
   "source": [
    "print(df['Bankrupt?'].value_counts())      #δείγματα που αντιστοιχουν ανά κλάση\n",
    "print()\n",
    "\n",
    "print((df['Bankrupt?'].value_counts()/df.shape[0])*100)      #ποσοστά δειγμάτων"
   ]
  },
  {
   "cell_type": "markdown",
   "metadata": {
    "id": "eDTPuPCd7E4n"
   },
   "source": [
    "To dataset είναι υπερβολικά imbalanced. \n",
    "\n",
    "Υπάρχουν δύο τρόποι να αντιμετωπίσουμε το imbalanced dataset: \n",
    "\n",
    "1) να πειράξουμε το dataset( under/oversampling τεχνικές)\n",
    "\n",
    "2) να αλλάξουμε τις μετρικές απόδοσης ( F1-score κτλ)\n",
    "\n",
    "Επειδή τις παραπάνω τεχνικές θα τις μελετήσουμε διεξοδικά στην βελτιστοποίηση των ταξινομητών, στην out-of-the-box περίπτωση θα χρησιμοποιήσουμε το dataset \n",
    "ως έχει. \n",
    "\n"
   ]
  },
  {
   "cell_type": "markdown",
   "metadata": {
    "id": "Q_fkUCl6Ma_N"
   },
   "source": [
    "Επίσης παρατηρώ πως οι τιμές των features είναι μεταξύ [0,1] , οπότε είναι ήδη κανονικοποιημένα."
   ]
  },
  {
   "cell_type": "code",
   "execution_count": 98,
   "metadata": {
    "colab": {
     "base_uri": "https://localhost:8080/"
    },
    "id": "uTfKb_UH91Vf",
    "outputId": "86292d4a-b3b0-4fd4-ceb3-b1d432566ff0"
   },
   "outputs": [
    {
     "name": "stdout",
     "output_type": "stream",
     "text": [
      "\n"
     ]
    },
    {
     "data": {
      "text/plain": [
       "Bankrupt?                                                   0\n",
       " ROA(C) before interest and depreciation before interest    0\n",
       " ROA(A) before interest and % after tax                     0\n",
       " ROA(B) before interest and depreciation after tax          0\n",
       " Operating Gross Margin                                     0\n",
       "                                                           ..\n",
       " Liability to Equity                                        0\n",
       " Degree of Financial Leverage (DFL)                         0\n",
       " Interest Coverage Ratio (Interest expense to EBIT)         0\n",
       " Net Income Flag                                            0\n",
       " Equity to Liability                                        0\n",
       "Length: 96, dtype: int64"
      ]
     },
     "execution_count": 98,
     "metadata": {},
     "output_type": "execute_result"
    }
   ],
   "source": [
    "df.isnull().values.any() \n",
    "print()\n",
    "df.isna().sum()"
   ]
  },
  {
   "cell_type": "markdown",
   "metadata": {
    "id": "aBE0Ib55DG2D"
   },
   "source": [
    "Δεν υπάρχουν κενές τιμές(NaN) στα χαρακτηριστικά.\n",
    "Ωστόσο υπάρχουν κατηγορήματα στα παρακάτω features:\n",
    "\n",
    "Liability-Assets Flag: 1 if Total Liability exceeds Total Assets, 0 otherwise \n",
    "\n",
    "Net Income Flag: 1 if Net Income is Negative for the last two years, 0 otherwise\n",
    "\n",
    "τα οποία παίρνουν binary τιμές 0,1 οπότε είναι οκ."
   ]
  },
  {
   "cell_type": "markdown",
   "metadata": {
    "id": "aBxYN-MwqV6H"
   },
   "source": [
    "Ωστόσο με μια πιο προσεκτική ματιά , παρατηρούμε πως για το net income flag οι τιμές είναι ταυτόσημες οπότε μπορώ να κάνω drop αυτή τη στήλη."
   ]
  },
  {
   "cell_type": "code",
   "execution_count": 99,
   "metadata": {
    "colab": {
     "base_uri": "https://localhost:8080/"
    },
    "id": "FZWxUqovnZQJ",
    "outputId": "ea32af66-2a22-4365-d06b-8edcc2925b4a"
   },
   "outputs": [
    {
     "name": "stdout",
     "output_type": "stream",
     "text": [
      "1    6819\n",
      "Name:  Net Income Flag, dtype: int64\n",
      "0    6811\n",
      "1       8\n",
      "Name:  Liability-Assets Flag, dtype: int64\n"
     ]
    }
   ],
   "source": [
    "a = df.iloc[:,94]\n",
    "b = df.iloc[:,85]\n",
    "print(a.value_counts()) \n",
    "print(b.value_counts())"
   ]
  },
  {
   "cell_type": "markdown",
   "metadata": {
    "id": "jJS3v-gkAzM-"
   },
   "source": [
    "#Μετρικές"
   ]
  },
  {
   "cell_type": "markdown",
   "metadata": {
    "id": "h-UiUF2iA9Ay"
   },
   "source": [
    "Το accuracy score δεν είναι καλή επιλογή, διότι το dataset είναι imbalanced.\n",
    "Ούτε το F1-score είναι ιδανική επιλογή, αλλά θα το χρησιμοποιήσω στην out-of-the-box μελέτη και με παράμετρο micro-average, που ενδείκνυται για imbalanced set.\n",
    "Βέβαια, υπάρχουν και καλύτερες μετρικές για imbalanced set , όπως η kappa, η ROC, η MCC, η Type I-II error.(ίσως τρέξω και αυτές) \n"
   ]
  },
  {
   "cell_type": "markdown",
   "metadata": {
    "id": "AOtOOlCyH1gO"
   },
   "source": [
    "#Διαχείριση δεδομένων"
   ]
  },
  {
   "cell_type": "code",
   "execution_count": 100,
   "metadata": {
    "colab": {
     "base_uri": "https://localhost:8080/"
    },
    "id": "V5NdRP5M9P2m",
    "outputId": "852c20c0-4a04-42c1-b65b-49fd51871e50"
   },
   "outputs": [
    {
     "data": {
      "text/plain": [
       "array([1, 1, 1, ..., 0, 0, 0])"
      ]
     },
     "execution_count": 100,
     "metadata": {},
     "output_type": "execute_result"
    }
   ],
   "source": [
    "selected_columns = df['Bankrupt?']\n",
    "\n",
    "classes = selected_columns.copy()\n",
    "\n",
    "Classes = classes.to_numpy()\n",
    "\n",
    "Classes"
   ]
  },
  {
   "cell_type": "code",
   "execution_count": 101,
   "metadata": {
    "id": "2S5JLQ-y7lVD"
   },
   "outputs": [],
   "source": [
    "dff=df.copy()                                                #copy για να μην σβηστούν στο αρχικό dataset οι στήλες\n",
    "dff\n",
    "cols = [0, 94]\n",
    "features = dff.drop(dff.columns[cols],axis=1,inplace=True)"
   ]
  },
  {
   "cell_type": "code",
   "execution_count": 102,
   "metadata": {
    "id": "74NgciMY_Y8w"
   },
   "outputs": [],
   "source": [
    "Features = dff.to_numpy()"
   ]
  },
  {
   "cell_type": "markdown",
   "metadata": {
    "id": "UBIBSNXHH_bj"
   },
   "source": [
    "Αρχικά διαχωρίζω και κάνω τα data συμβατά με το scikit learn: "
   ]
  },
  {
   "cell_type": "code",
   "execution_count": 103,
   "metadata": {
    "colab": {
     "base_uri": "https://localhost:8080/"
    },
    "id": "5ad9kRSFZ7Zx",
    "outputId": "c459e9f7-ade6-41b8-c6c4-f4cf56fa5d80"
   },
   "outputs": [
    {
     "name": "stdout",
     "output_type": "stream",
     "text": [
      "(6819, 94)\n",
      "\n",
      "(6819,)\n"
     ]
    }
   ],
   "source": [
    "print(Features.shape)\n",
    "print()\n",
    "print(Classes.shape)"
   ]
  },
  {
   "cell_type": "markdown",
   "metadata": {
    "id": "JwFb0OQrnRmx"
   },
   "source": [
    "Όπως πάντα κάνω split το αρχικό dataset ώστε να προκύψει training set στο οποίο θα κάνω το cross-validation."
   ]
  },
  {
   "cell_type": "code",
   "execution_count": 104,
   "metadata": {
    "id": "w2E1mMP8nhiU"
   },
   "outputs": [],
   "source": [
    "from sklearn.model_selection import train_test_split\n",
    "#X_train -> y_train\n",
    "#X_test  -> y_test\n",
    "X_train, X_test, y_train, y_test = train_test_split(Features, Classes, test_size=0.30)"
   ]
  },
  {
   "cell_type": "code",
   "execution_count": 105,
   "metadata": {
    "colab": {
     "base_uri": "https://localhost:8080/"
    },
    "id": "Ls8--j0hgJ1w",
    "outputId": "15551ee3-7ba6-4fe7-c95f-3d5a31ca9790"
   },
   "outputs": [
    {
     "name": "stdout",
     "output_type": "stream",
     "text": [
      "(2046, 94)\n",
      "(4773,)\n"
     ]
    }
   ],
   "source": [
    "print(X_test.shape)\n",
    "print(y_train.shape)"
   ]
  },
  {
   "cell_type": "code",
   "execution_count": 106,
   "metadata": {
    "colab": {
     "base_uri": "https://localhost:8080/"
    },
    "id": "YC1yTtYNSgVW",
    "outputId": "e56fef13-551c-4924-97c7-ef885a524fb2"
   },
   "outputs": [
    {
     "name": "stdout",
     "output_type": "stream",
     "text": [
      "[1978   68]\n",
      "\n",
      "[4621  152]\n"
     ]
    }
   ],
   "source": [
    "print(np.bincount(y_test))\n",
    "print()\n",
    "print(np.bincount(y_train))\n",
    "\n"
   ]
  },
  {
   "cell_type": "markdown",
   "metadata": {
    "id": "3515N73jIHKw"
   },
   "source": [
    "#Out-of-the-box"
   ]
  },
  {
   "cell_type": "markdown",
   "metadata": {
    "id": "QLGKwQ5YINuy"
   },
   "source": [
    "Στο chapter αυτό, θα εξετάσουμε τους ταξινομητές dummy(uniform, constant, stratified, most_frequent), MLP και SVM και θα αξιολογήσουμε την απόδοσή τους με τη βοήθεια των μετρικών που προανέφερα, χωρίς να κάνουμε βελτιστοποίηση.\n",
    "Εδώ τρέχω τα πάντα με default τιμές.  "
   ]
  },
  {
   "cell_type": "markdown",
   "metadata": {
    "id": "wg5cGro8L3Q-"
   },
   "source": [
    "##Dummy classifier\n",
    "\n",
    "Αρχικά εξετάζουμε τους dummy classifiers με χρήση της κλάσης DummyClassifier, η οποία δέχεται μια παράμετρο που καθορίζει την μέθοδο της dummy ταξινόμησης ως εξής:\n",
    "\n",
    "\"uniform”: προβλέπει τυχαία και ομοιόμορφα\n",
    "\n",
    "“constant”: προβλέπει πάντα μία κατηγορία που τη διαλέγει ο χρήστης\n",
    "\n",
    "“most_frequent”: προβλέπει πάντα την πιο συχνή κατηγορία στο training set\n",
    "\n",
    "“stratified”: κάνει προβλέψεις διατηρώντας την κατανομή των κλάσεων στο training set."
   ]
  },
  {
   "cell_type": "code",
   "execution_count": 107,
   "metadata": {
    "id": "mWCI2mVeIMJX"
   },
   "outputs": [],
   "source": [
    "from sklearn.dummy import DummyClassifier\n",
    "\n",
    "import time\n",
    "\n",
    "def DummyClassification(x_train,y_train,x_test,y_test):\n",
    "    \n",
    "    scores, predictions, fit_times, pred_times = {}, {}, {}, {}\n",
    "\n",
    "    dc_uniform  = DummyClassifier(strategy=\"uniform\")\n",
    "    dc_const_0  = DummyClassifier(strategy=\"constant\",constant=0)             #κλάση 0\n",
    "    dc_const_1  = DummyClassifier(strategy=\"constant\",constant=1)             #κλάση 1\n",
    "    dc_stratif  = DummyClassifier(strategy=\"stratified\")\n",
    "    dc_frequent = DummyClassifier(strategy=\"most_frequent\")\n",
    "\n",
    "    #Fit\n",
    "  \n",
    "    dc_uniform.fit(x_train, y_train)\n",
    "    \n",
    "    dc_const_0.fit(x_train, y_train)\n",
    "    \n",
    "    dc_const_1.fit(x_train, y_train)\n",
    "    \n",
    "    dc_stratif.fit(x_train, y_train)\n",
    "    \n",
    "    dc_frequent.fit(x_train,y_train)\n",
    "    \n",
    "    #Predict\n",
    "    \n",
    "    predictions['uniform']  = dc_uniform.predict(x_test)      #επιστρέφει λίστα\n",
    "    \n",
    "    predictions['const_0']  = dc_const_0.predict(x_test)\n",
    "    \n",
    "    predictions['const_1']  = dc_const_1.predict(x_test)\n",
    "    \n",
    "    predictions['stratif']  = dc_stratif.predict(x_test)\n",
    "    \n",
    "    predictions['frequent'] = dc_frequent.predict(x_test)\n",
    "    \n",
    "    #accuracies , δεν με απασχολούν\n",
    "\n",
    "    \n",
    "    return predictions, scores, fit_times, pred_times"
   ]
  },
  {
   "cell_type": "code",
   "execution_count": 108,
   "metadata": {
    "colab": {
     "base_uri": "https://localhost:8080/"
    },
    "id": "oUwjjVukXmEl",
    "outputId": "1a40b00e-f93e-468b-868d-3fb94dae056b"
   },
   "outputs": [
    {
     "name": "stdout",
     "output_type": "stream",
     "text": [
      "precision-score for uniform : 0.49071358748778104\n",
      "recall-score for uniform : 0.49071358748778104\n",
      "precision-score for const_0 : 0.9667644183773216\n",
      "recall-score for const_0 : 0.9667644183773216\n",
      "precision-score for const_1 : 0.033235581622678395\n",
      "recall-score for const_1 : 0.033235581622678395\n",
      "precision-score for stratif : 0.9403714565004888\n",
      "recall-score for stratif : 0.9403714565004888\n",
      "precision-score for frequent : 0.9667644183773216\n",
      "recall-score for frequent : 0.9667644183773216\n",
      "\n",
      "F1-score for uniform : 0.49071358748778104\n",
      "F1-macro-score for uniform : 0.3566426053787842\n",
      "F1-score for const_0 : 0.9667644183773216\n",
      "F1-macro-score for const_0 : 0.49155069582504973\n",
      "F1-score for const_1 : 0.033235581622678395\n",
      "F1-macro-score for const_1 : 0.03216650898770104\n",
      "F1-score for stratif : 0.9403714565004888\n",
      "F1-macro-score for stratif : 0.48463476070528966\n",
      "F1-score for frequent : 0.9667644183773216\n",
      "F1-macro-score for frequent : 0.49155069582504973\n",
      "MCCfor uniform : 0.0016475430255551739\n",
      "MCCfor const_0 : 0.0\n",
      "MCCfor const_1 : 0.0\n",
      "MCCfor stratif : -0.030527660665546748\n",
      "MCCfor frequent : 0.0\n"
     ]
    }
   ],
   "source": [
    "predictions, _,_,_ = DummyClassification(X_train,y_train,X_test,y_test)  \n",
    "\n",
    "from sklearn.metrics import precision_score, recall_score , f1_score , confusion_matrix , ConfusionMatrixDisplay , matthews_corrcoef\n",
    "\n",
    "for i in predictions:\n",
    "      print(\"precision-score for\", i, ':', precision_score(y_test, predictions[i], average = 'micro' ))\n",
    "      print(\"recall-score for\", i, ':', recall_score(y_test, predictions[i], average = 'micro' ))  \n",
    "\n",
    "print()\n",
    "for i in predictions:\n",
    "      print(\"F1-score for\", i, ':', f1_score(y_test, predictions[i], average = 'micro' )) \n",
    "      print(\"F1-macro-score for\", i, ':', f1_score(y_test, predictions[i], average = 'macro' )) \n",
    "\n",
    "for i in predictions:\n",
    "      print(\"MCCfor\", i, ':',  matthews_corrcoef(y_test,predictions[i])) \n"
   ]
  },
  {
   "cell_type": "markdown",
   "metadata": {
    "id": "IuUivEslYpoo"
   },
   "source": [
    "Παρατηρούμε ότι χρησιμοποιώντας f1-macro έχουμε πολύ χαμηλές αποδόσεις , πράγμα αναμενόμενο, καθώς η macro δεν λαμβάνει υπόψιν imbalance στο set, δηλαδή υπολογίζει το precision ξεχωριστά για κάθε κλάση και μετά διαιρεί απλά με τον αριθμό των κλάσεων.\n",
    "Αν χρησιμοποιήσουμε όμως την f1-micro , τότε παρατηρούμε πιο σωστά αποτελέσματα αφού η micro \"ζυγίζει\" την συνεισφορά της κάθε κλάσης. Επισης παρατηρούμε ότι το f1-micro=precision=recall, που οφείλεται στο ότι δεν έχουμε multi-label classification.  "
   ]
  },
  {
   "cell_type": "markdown",
   "metadata": {
    "id": "-JRiqbEem6hh"
   },
   "source": [
    "Παρακάτω παραθέτουμε το confusion matrix και σχολιάζουμε:"
   ]
  },
  {
   "cell_type": "code",
   "execution_count": 109,
   "metadata": {
    "colab": {
     "base_uri": "https://localhost:8080/"
    },
    "id": "lxvuDiKOQmQ-",
    "outputId": "1e37984d-a03c-433a-d68e-9cb6d63cb268"
   },
   "outputs": [
    {
     "name": "stdout",
     "output_type": "stream",
     "text": [
      "uniform\n",
      "[[ 969 1009]\n",
      " [  33   35]]\n",
      "\n",
      "const_0\n",
      "[[1978    0]\n",
      " [  68    0]]\n",
      "\n",
      "const_1\n",
      "[[   0 1978]\n",
      " [   0   68]]\n",
      "\n",
      "stratif\n",
      "[[1924   54]\n",
      " [  68    0]]\n",
      "\n",
      "frequent\n",
      "[[1978    0]\n",
      " [  68    0]]\n",
      "\n"
     ]
    }
   ],
   "source": [
    "for i in predictions:\n",
    "    # print confusion matrix\n",
    "    cnf_matrix = confusion_matrix(y_test, predictions[i])\n",
    "    print(i)\n",
    "    print(cnf_matrix, end='\\n\\n')"
   ]
  },
  {
   "cell_type": "markdown",
   "metadata": {
    "id": "xVukU___d4ei"
   },
   "source": [
    "\n",
    "Για στρατηγική constant, δεν έχουμε καμία πρόβλεψη για την αντίθετη κλάση, γι αυτό δεν έχουμε και false positives / false negatives.\n",
    "\n",
    "Αντίστοιχα στο most frequent, όπου η κλάση 0 εμφανίζεται υπερβολικά περισσότερες φορές, έχουμε ίδιο αποτέλεσμα με την constant_0 στρατηγική.\n",
    "\n",
    "Η uniform ναι μεν παράγει τυχαία αποτελέσματα αλλά με ομοιόμορφη κατανομή και βλέπουμε πως αποτυγχάνει στην κλάση 1, καθώς η ομοιόμορφη κατανομή ευνοεί την πολυπληθέστερη κλάση.\n",
    "\n",
    "Στην stratified έχουμε επίσης πολλά miss, ιδιαίτερα για στην κλάση 1 καθώς τα predictions γίνονται πιθανοτικά.Αφού λοιπόν, τα συντριπτικά περισσότερα κλάσεις δείγματα ανήκουν στην κλάση 0, προφανώς η πιθανότητα \"γέρνει\" συνεχώς προς αυτή. \n"
   ]
  },
  {
   "cell_type": "markdown",
   "metadata": {
    "id": "XvudkdZGNogS"
   },
   "source": [
    "Παρατηρούμε από τις μετρικές ότι προκύπτουν αποδόσεις υπερβολικά καλές για να είναι αληθινές. Πράγματι, αν εκτυπώσουμε το confusion maxtrix του dummy με στρατηγική stratif και ρίξουμε μια ματιά στην ουσία, βλέπουμε πως μόνο για 2 από τα 58 δείγματα-εταιρίες που είχαν χρεοκοπήσει έγινε σωστή πρόβλεψη χρεοκοπίας τους.   "
   ]
  },
  {
   "cell_type": "code",
   "execution_count": 110,
   "metadata": {
    "colab": {
     "base_uri": "https://localhost:8080/",
     "height": 296
    },
    "id": "RoOk1fqAaEo-",
    "outputId": "698b6859-d440-4093-cf8f-67c614b9f609"
   },
   "outputs": [
    {
     "data": {
      "text/plain": [
       "<sklearn.metrics._plot.confusion_matrix.ConfusionMatrixDisplay at 0x7fbdb3711ed0>"
      ]
     },
     "execution_count": 110,
     "metadata": {},
     "output_type": "execute_result"
    },
    {
     "data": {
      "image/png": "[encoded data removed]",
      "text/plain": [
       "<Figure size 432x288 with 2 Axes>"
      ]
     },
     "metadata": {
      "needs_background": "light"
     },
     "output_type": "display_data"
    }
   ],
   "source": [
    "cm = confusion_matrix(y_test,  predictions['stratif'])\n",
    "cd = ConfusionMatrixDisplay( cm , display_labels=['0' , '1'] )\n",
    "cd.plot()"
   ]
  },
  {
   "cell_type": "markdown",
   "metadata": {
    "id": "f3-1Qv9Xa3vc"
   },
   "source": [
    "Αυτό είναι λογικό, καθώς τα δεδομένα είναι ακραία imbalanced και δεν υπάρχει περιθώριο \"εκπαίδευσης\" του ταξινομητή, πόσο μάλλον του dummy classifier που είναι αδύναμος από την φύση του. Οπότε ναι μεν η μετρική f1-micro δίνει υψηλή απόδοση αλλά δεν πρέπει να την εμπιστευτούμε. "
   ]
  },
  {
   "cell_type": "markdown",
   "metadata": {
    "id": "VYB74IIVQD8i"
   },
   "source": [
    "##MLP"
   ]
  },
  {
   "cell_type": "code",
   "execution_count": 111,
   "metadata": {
    "id": "CpLrPdIaiU9u"
   },
   "outputs": [],
   "source": [
    "from sklearn.neural_network import MLPClassifier"
   ]
  },
  {
   "cell_type": "markdown",
   "metadata": {
    "id": "xDdxylFuQGTy"
   },
   "source": [
    "Συνεχίζουμε με multi-layer perceptron: "
   ]
  },
  {
   "cell_type": "code",
   "execution_count": 112,
   "metadata": {
    "id": "Tvw3XB0QGwSu"
   },
   "outputs": [],
   "source": [
    "clf = MLPClassifier()\n",
    "clf.fit(X_train, y_train)\n",
    "preds_MLP = clf.predict(X_test)\n",
    "\n",
    "#print(\"F1-score for MLP is\", f1_score(y_test, preds_MLP, average = 'micro' ), '\\n') "
   ]
  },
  {
   "cell_type": "code",
   "execution_count": 113,
   "metadata": {
    "colab": {
     "base_uri": "https://localhost:8080/",
     "height": 296
    },
    "id": "a65_yuf6cHKX",
    "outputId": "8a57484a-487b-4a32-be63-ff3ed8b03b5a"
   },
   "outputs": [
    {
     "data": {
      "text/plain": [
       "<sklearn.metrics._plot.confusion_matrix.ConfusionMatrixDisplay at 0x7fbdb35703d0>"
      ]
     },
     "execution_count": 113,
     "metadata": {},
     "output_type": "execute_result"
    },
    {
     "data": {
      "image/png": "[encoded data removed]",
      "text/plain": [
       "<Figure size 432x288 with 2 Axes>"
      ]
     },
     "metadata": {
      "needs_background": "light"
     },
     "output_type": "display_data"
    }
   ],
   "source": [
    "cm = confusion_matrix(y_test,  preds_MLP)\n",
    "cd = ConfusionMatrixDisplay( cm , display_labels=['0' , '1'] )\n",
    "cd.plot()"
   ]
  },
  {
   "cell_type": "markdown",
   "metadata": {
    "id": "2reuvxwwfF_J"
   },
   "source": [
    "\n",
    "\n",
    "Και εδώ βλέπουμε καλύτερα αποτελέσματα σε σχέση με τους προηγούμενους classifiers. Συγκεκριμένα βλέπουμε καλύτερη απόδοση στην κλάση 0, πιθανότατα γιατί ο classifier έχει μάθει καλύτερα να διακρίνει entries από αυτή την κλάση, αφού το dataset μας είναι imbalanced με κλίση προς την κλάση 0.\n"
   ]
  },
  {
   "cell_type": "markdown",
   "metadata": {
    "id": "s4syn6-pc4LY"
   },
   "source": [
    "##SVM"
   ]
  },
  {
   "cell_type": "markdown",
   "metadata": {
    "id": "a1mLUF4auaWi"
   },
   "source": [
    "Ομοίως με support vector machine:"
   ]
  },
  {
   "cell_type": "code",
   "execution_count": null,
   "metadata": {
    "id": "xx3naZp1c-FP"
   },
   "outputs": [],
   "source": [
    "from sklearn.svm import SVC \n",
    "from sklearn.svm import LinearSVC \n",
    "\n",
    "# \"Support vector classifier\"\n",
    "\n",
    "model_svm_linear = LinearSVC()\n",
    "\n",
    "model_svm_linear.fit(X_train, y_train)\n",
    "\n",
    "preds_SVM_linear = model_svm_linear.predict(X_test)\n",
    "\n",
    "#print(\"F1-score for SVM is\", f1_score(y_test, preds_SVM_linear, average = 'micro' )) "
   ]
  },
  {
   "cell_type": "code",
   "execution_count": 115,
   "metadata": {
    "colab": {
     "base_uri": "https://localhost:8080/",
     "height": 296
    },
    "id": "33mgMMcZflHH",
    "outputId": "67b6af8a-18da-4b39-a212-eb6c09994377"
   },
   "outputs": [
    {
     "data": {
      "text/plain": [
       "<sklearn.metrics._plot.confusion_matrix.ConfusionMatrixDisplay at 0x7fbdb624a490>"
      ]
     },
     "execution_count": 115,
     "metadata": {},
     "output_type": "execute_result"
    },
    {
     "data": {
      "image/png": "[encoded data removed]",
      "text/plain": [
       "<Figure size 432x288 with 2 Axes>"
      ]
     },
     "metadata": {
      "needs_background": "light"
     },
     "output_type": "display_data"
    }
   ],
   "source": [
    "cm = confusion_matrix(y_test,  preds_SVM_linear)\n",
    "cd = ConfusionMatrixDisplay( cm , display_labels=['0' , '1'] )\n",
    "cd.plot()"
   ]
  },
  {
   "cell_type": "markdown",
   "metadata": {
    "id": "a0Gf-Ahifvoo"
   },
   "source": [
    "Στον συγκεκριμένο classifier βλέπουμε την καλύτερη απόδοση μέχρι τώρα."
   ]
  },
  {
   "cell_type": "code",
   "execution_count": 116,
   "metadata": {
    "id": "zhpj7K8I8ZH5"
   },
   "outputs": [],
   "source": [
    "model_svm_rbf = SVC( kernel= 'rbf')\n",
    "\n",
    "model_svm_rbf.fit(X_train, y_train)\n",
    "\n",
    "preds_SVM_rbf = model_svm_rbf.predict(X_test)"
   ]
  },
  {
   "cell_type": "code",
   "execution_count": 117,
   "metadata": {
    "id": "JZj7JLst9CZz"
   },
   "outputs": [],
   "source": [
    "model_svm_poly = SVC(kernel = 'poly')\n",
    "\n",
    "model_svm_poly.fit(X_train, y_train)\n",
    "\n",
    "preds_SVM_poly = model_svm_poly.predict(X_test)"
   ]
  },
  {
   "cell_type": "markdown",
   "metadata": {
    "id": "PPbRJ96iFzee"
   },
   "source": [
    "##Σύγκριση ταξινομητών"
   ]
  },
  {
   "cell_type": "code",
   "execution_count": 118,
   "metadata": {
    "colab": {
     "base_uri": "https://localhost:8080/",
     "height": 498
    },
    "id": "rkAYTVPUv8jY",
    "outputId": "801156d2-f11e-4961-85ae-8dcfd55a22f3"
   },
   "outputs": [
    {
     "name": "stdout",
     "output_type": "stream",
     "text": [
      "{'uniform': 0.5048875855327468, 'const_0': 0.9628543499511242, 'const_1': 0.03714565004887586, 'stratif': 0.9369501466275659, 'frequent': 0.9628543499511242, 'MLP': 0.8963831867057672, 'SVM_linear': 0.9613880742913001, 'SVM_rbf': 0.9628543499511242, 'SVM_poly': 0.9628543499511242}\n",
      "[0.49071358748778104, 0.9667644183773216, 0.033235581622678395, 0.9403714565004888, 0.9667644183773216, 0.956989247311828, 0.9643206256109482, 0.9667644183773216, 0.9667644183773216]\n"
     ]
    },
    {
     "data": {
      "image/png": "[encoded data removed]",
      "text/plain": [
       "<Figure size 936x504 with 1 Axes>"
      ]
     },
     "metadata": {
      "needs_background": "light"
     },
     "output_type": "display_data"
    }
   ],
   "source": [
    "F1_micro_scores = {}\n",
    "for i in predictions : \n",
    "   F1_micro_scores[i] = f1_score(y_test, predictions[i], average='micro')\n",
    "\n",
    "F1_micro_scores[\"MLP\"]=f1_score(y_test, preds_MLP, average='micro' )\n",
    "F1_micro_scores[\"SVM_linear\"]=f1_score(y_test, preds_SVM_linear, average='micro' ) \n",
    "F1_micro_scores[\"SVM_rbf\"]=f1_score(y_test, preds_SVM_rbf, average='micro' ) \n",
    "F1_micro_scores[\"SVM_poly\"]=f1_score(y_test, preds_SVM_poly, average='micro' ) \n",
    "\n",
    "print(F1_scores)\n",
    "F1_scoreslist=list(F1_micro_scores.values())   # το κάνω list για να περάσει ως παράμετρος\n",
    "\n",
    "print(F1_scoreslist)\n",
    "\n",
    "import matplotlib.pyplot as plt\n",
    "\n",
    "fig, ax = plt.subplots(figsize=(13,7))\n",
    "classifiers = ['uniform', 'constant_0', 'constant_1', 'stratified' , 'frequent',  'MLP', 'SVM_linear' , 'SVM_rbf' , 'SVM_poly']\n",
    "ax.bar(classifiers , F1_scoreslist, width=0.8)\n",
    "ax.set_title('f1-micro scores')\n",
    "\n",
    "plt.show()"
   ]
  },
  {
   "cell_type": "code",
   "execution_count": 119,
   "metadata": {
    "colab": {
     "base_uri": "https://localhost:8080/",
     "height": 481
    },
    "id": "Oil83VJFjYhn",
    "outputId": "9353ebcc-5954-4c42-ee29-53edf925ea01"
   },
   "outputs": [
    {
     "name": "stdout",
     "output_type": "stream",
     "text": [
      "{'uniform': 0.3566426053787842, 'const_0': 0.49155069582504973, 'const_1': 0.03216650898770104, 'stratif': 0.48463476070528966, 'frequent': 0.49155069582504973, 'MLP': 0.5209093908656456, 'SVM_linear': 0.5168831168831168, 'SVM_rbf': 0.49155069582504973, 'SVM_poly': 0.49155069582504973}\n"
     ]
    },
    {
     "data": {
      "image/png": "[encoded data removed]",
      "text/plain": [
       "<Figure size 936x504 with 1 Axes>"
      ]
     },
     "metadata": {
      "needs_background": "light"
     },
     "output_type": "display_data"
    }
   ],
   "source": [
    "#macro\n",
    "F1_macro_scores={}\n",
    "for i in predictions : \n",
    "   F1_macro_scores[i] = f1_score(y_test, predictions[i], average='macro')\n",
    "\n",
    "F1_macro_scores[\"MLP\"]=f1_score(y_test, preds_MLP, average='macro' )\n",
    "F1_macro_scores[\"SVM_linear\"]=f1_score(y_test, preds_SVM_linear, average='macro' ) \n",
    "F1_macro_scores[\"SVM_rbf\"]=f1_score(y_test, preds_SVM_rbf, average='macro' ) \n",
    "F1_macro_scores[\"SVM_poly\"]=f1_score(y_test, preds_SVM_poly, average='macro' ) \n",
    "\n",
    "\n",
    "print(F1_macro_scores)\n",
    "f1_macro_scoreslist=list(F1_macro_scores.values())   # το κάνω list για να περάσει ως παράμετρος\n",
    "\n",
    "\n",
    "import matplotlib.pyplot as plt\n",
    "\n",
    "fig, ax = plt.subplots(figsize=(13,7))\n",
    "classifiers = ['uniform', 'constant_0', 'constant_1', 'stratified' , 'frequent',  'MLP', 'SVM_linear', 'SVM_rbf' , 'SVM_poly']\n",
    "ax.bar(classifiers , f1_macro_scoreslist, width=0.8)\n",
    "ax.set_title('f1-macro scores')\n",
    "\n",
    "plt.show()"
   ]
  },
  {
   "cell_type": "markdown",
   "metadata": {
    "id": "47WR3yYBmhlg"
   },
   "source": [
    "Παρατηρούμε ότι η μετρική macro δίνει χειρότερη απόδοση (47-55%) σε σχέση με την micro (90-94%). Λογικό , αφού η micro υπολογίζει τον συνολικό αριθμό των TP,FN,FP και ύστερα τον αρμονικό μέσο των precision,recall. Η macro από την άλλη υπολογίζει ξεχωριστά για κάθε κλάση τα precision-recall και μετά παίρνει τον μέσο όρο. Επομένως, σε ένα imbalanced dataset η macro αστοχεί αφού η κατανομή μεταξύ των δύο κλάσεων είναι άνιση. Οι αποδόσεις των dummy clasifiers υπάρχουν στο Plot για λόγους πληρότητας.  "
   ]
  },
  {
   "cell_type": "markdown",
   "metadata": {
    "id": "f-ynXD1CusOo"
   },
   "source": [
    "Συμπερασματικά, αγνοώντας τον dummy classifiers(αφού δεν είναι σοβαρό μοντέλο ταξινόμησης) παρατηρούμε ότι τα SVM κυμαίνονται στα ίδια επίπεδα."
   ]
  },
  {
   "cell_type": "markdown",
   "metadata": {
    "id": "W_FCEUYD-FBL"
   },
   "source": [
    "|method | uniform  | constant0| constant1| stratified  | frequent   | MLP| SVM_linear|SVM_rbf| SVM_poly|\n",
    "|-----|-----|--------|-------|-------|-------|-------|-------|-------|-------|\n",
    "|macro | 0.3677   |0.49    |0.035  |0.483  |0.49   |0.53   |   0.51|  0.49 | 0.49  |\n",
    "|micro | 0.50     | 0.96   | 0.037 | 0.93  | 0.96  | 0.896 | 0.961 | 0.963  | 0.963  |"
   ]
  },
  {
   "cell_type": "code",
   "execution_count": 120,
   "metadata": {
    "id": "-pf5Pw0Hz3tZ"
   },
   "outputs": [],
   "source": [
    "F1_macro_scoreslist =list(np.array([F1_macro_scores[\"MLP\"] , F1_macro_scores[\"SVM_linear\"] , F1_macro_scores[\"SVM_rbf\"] , F1_macro_scores[\"SVM_poly\"] ]))\n",
    "\n",
    "F1_micro_scoreslist =list(np.array([F1_micro_scores[\"MLP\"] , F1_micro_scores[\"SVM_linear\"] , F1_micro_scores[\"SVM_rbf\"] , F1_micro_scores[\"SVM_poly\"] ]))"
   ]
  },
  {
   "cell_type": "markdown",
   "metadata": {
    "id": "aSHN79ew8mDL"
   },
   "source": [
    "Και επειδή έχουμε binary classification, μπορούμε να χρησιμοποιήσουμε Matthews correlation coefficient για να δούμε πόσο ποιοτική είναι η κάθε μέθοδος ταξινόμησης. Βλέπουμε ότι οι τιμές των MLP, SVM κυμαίνονται γύρω από το 0 φανερώνοντας πολύ μέτριες προβλέψεις."
   ]
  },
  {
   "cell_type": "code",
   "execution_count": 121,
   "metadata": {
    "colab": {
     "base_uri": "https://localhost:8080/"
    },
    "id": "V-OaWDAu8DQv",
    "outputId": "2ef64457-87ce-4fe6-e164-b3867c3c98c4"
   },
   "outputs": [
    {
     "name": "stdout",
     "output_type": "stream",
     "text": [
      "MCC for uniform 0.0016475430255551739\n",
      "MCC for const_0 0.0\n",
      "MCC for const_1 0.0\n",
      "MCC for stratif -0.030527660665546748\n",
      "MCC for frequent 0.0\n",
      "\n",
      "MCC for MLP : 0.05199379030213715 \n",
      "\n",
      "MCC for SVM linear : 0.07008012612040027\n",
      "MCC for SVM rbf : 0.0\n",
      "MCC for SVM poly : 0.0\n"
     ]
    }
   ],
   "source": [
    "for i  in predictions : print(\"MCC for\", i ,  matthews_corrcoef(y_test, predictions[i])) \n",
    "print()\n",
    "print(\"MCC for MLP\", ':',  matthews_corrcoef(y_test, preds_MLP), '\\n') \n",
    "print(\"MCC for SVM linear\", ':',  matthews_corrcoef(y_test, preds_SVM_linear)) \n",
    "print(\"MCC for SVM rbf\", ':',  matthews_corrcoef(y_test, preds_SVM_rbf))\n",
    "print(\"MCC for SVM poly\", ':',  matthews_corrcoef(y_test, preds_SVM_poly))"
   ]
  },
  {
   "cell_type": "markdown",
   "metadata": {
    "id": "0ztu2YLjyLeO"
   },
   "source": [
    "# Εποπτική Βελτιστοποίηση"
   ]
  },
  {
   "cell_type": "markdown",
   "metadata": {
    "id": "eF9YO0zAySkB"
   },
   "source": [
    "##Προεπεξεργασία"
   ]
  },
  {
   "cell_type": "code",
   "execution_count": 122,
   "metadata": {
    "id": "V-GQo8iBE0QR"
   },
   "outputs": [],
   "source": [
    "#dff"
   ]
  },
  {
   "cell_type": "code",
   "execution_count": 123,
   "metadata": {
    "id": "6vKCSGFjEny0"
   },
   "outputs": [],
   "source": [
    "#df.where(df >1 ).stack().to_dict()"
   ]
  },
  {
   "cell_type": "markdown",
   "metadata": {
    "id": "lQUR6NbfyXJ1"
   },
   "source": [
    "###Κανονικοποίηση"
   ]
  },
  {
   "cell_type": "markdown",
   "metadata": {
    "id": "FWXLhXnI1-s3"
   },
   "source": [
    "Τα δεδομένα δεν είναι κανονικοποιημένα οπότε θα χρησιμοποιήσουμε ενα minmaxScaler."
   ]
  },
  {
   "cell_type": "code",
   "execution_count": 124,
   "metadata": {
    "colab": {
     "base_uri": "https://localhost:8080/"
    },
    "id": "edf9Z_ltFiiw",
    "outputId": "98d3371c-9e46-4e34-9033-572c9dddde7f"
   },
   "outputs": [
    {
     "name": "stdout",
     "output_type": "stream",
     "text": [
      "[5.19267495e-01 5.58064537e-01 5.52923427e-01 6.07974499e-01\n",
      " 6.07942583e-01 9.96076246e-01 7.58178481e-01 8.08925756e-01\n",
      " 4.16104786e-01 7.47471529e-01 1.99745573e-01 1.95492436e-01\n",
      " 6.29615687e-01 1.71164233e-02 1.18209613e-01 1.89918689e-01\n",
      " 1.89932159e-01 1.89964371e-01 2.19500480e-01 3.23414823e-01\n",
      " 2.44379290e-04 1.85428921e-01 2.54714533e-01 1.80233636e-02\n",
      " 8.48070979e-01 7.85131667e-01 7.85140010e-01 2.17621771e-01\n",
      " 5.42047800e-01 7.07206910e-05 2.64155331e-01 4.99866194e-01\n",
      " 5.59562784e-12 7.42934183e-04 6.30863544e-01 1.16493751e-03\n",
      " 1.13233005e-01 8.86766995e-01 7.93943638e-03 3.92466637e-01\n",
      " 5.78713691e-03 1.85360398e-01 2.02026189e-01 4.02721204e-01\n",
      " 1.45706472e-01 9.82735884e-04 5.73449913e-04 2.09162354e-01\n",
      " 9.03829391e-02 4.00765459e-02 3.91117802e-04 4.09747060e-01\n",
      " 1.23440901e-03 8.15932410e-01 4.12611400e-01 5.33148389e-01\n",
      " 1.26721497e-01 4.17827608e-04 4.71993882e-03 9.19859391e-02\n",
      " 4.69178712e-01 2.77290621e-01 4.52195850e-03 7.70075515e-01\n",
      " 7.36092421e-01 3.31462777e-01 6.44789342e-03 9.35343437e-01\n",
      " 2.40212710e-03 2.97353221e-02 1.21556005e-01 2.12793558e-01\n",
      " 8.81350549e-01 2.39392282e-01 8.24561779e-01 2.93658971e-11\n",
      " 7.70075515e-01 3.31462777e-01 1.15563933e-01 6.50508279e-01\n",
      " 4.62071428e-01 6.09087345e-01 3.15548229e-01 3.38922726e-02\n",
      " 9.77517107e-04 8.07423300e-01 2.13391387e-03 6.23862539e-01\n",
      " 6.07972844e-01 7.56068575e-01 2.80398156e-01 2.72971454e-02\n",
      " 5.88250376e-01 4.88823085e-02]\n",
      "[6.36366417e-02 6.67257870e-02 6.29192670e-02 1.34536481e-02\n",
      " 1.34360502e-02 5.69625454e-02 2.10449924e-02 1.60948729e-02\n",
      " 2.11347859e-02 1.99789699e-02 3.24045661e-01 2.60525305e-01\n",
      " 2.66096105e-02 1.10772800e-01 1.42769404e-01 3.28109163e-02\n",
      " 3.28188034e-02 3.28394450e-02 5.38728877e-02 1.67315475e-02\n",
      " 1.10512405e-02 5.90612393e-02 5.66824946e-02 2.06268560e-03\n",
      " 1.66943495e-03 1.18148450e-02 1.18158623e-02 8.40121406e-04\n",
      " 2.94850216e-01 3.19810819e-03 1.18013048e-03 3.15051460e-02\n",
      " 9.18732109e-12 2.00314751e-02 7.09368402e-03 3.62938377e-02\n",
      " 5.38504295e-02 5.38504295e-02 9.55607790e-03 1.71738923e-02\n",
      " 1.02934151e-03 5.89322028e-02 5.59127463e-02 1.08655927e-02\n",
      " 1.02635980e-01 2.42391150e-02 1.87987363e-02 3.22924314e-01\n",
      " 2.35025345e-01 3.70065231e-02 1.76870024e-02 3.23737192e-02\n",
      " 3.02777103e-02 5.83012872e-02 2.06775723e-01 2.18335254e-01\n",
      " 1.43378283e-01 1.88948647e-02 5.70798327e-02 5.02883833e-02\n",
      " 5.39230136e-02 3.82175514e-03 5.27218162e-02 1.99776867e-01\n",
      " 8.31678329e-03 1.00237419e-02 6.18197421e-02 2.47277548e-02\n",
      " 5.38378836e-04 2.53107267e-02 2.81416071e-01 3.32642743e-01\n",
      " 1.38350107e-02 2.88409881e-01 8.96063008e-03 2.38085461e-11\n",
      " 1.99776867e-01 1.00237419e-02 2.00656956e-02 4.51380597e-02\n",
      " 3.14812023e-02 6.19680269e-02 7.58010078e-03 3.66408865e-02\n",
      " 3.12499851e-02 4.05487613e-02 4.16905678e-02 6.19367136e-03\n",
      " 1.34537206e-02 2.97888243e-02 1.26196906e-02 6.72000788e-03\n",
      " 5.13306030e-02 5.50108028e-02]\n"
     ]
    }
   ],
   "source": [
    "from scipy import stats as st\n",
    "import numpy as np\n",
    "\n",
    "from sklearn import preprocessing\n",
    "\n",
    "# το ίδιο με  min max scaling\n",
    "min_max_scaler = preprocessing.MinMaxScaler()\n",
    "X_train_minmax = min_max_scaler.fit_transform(X_train)\n",
    "#print(X_train_minmax, \"\\n\")\n",
    "X_test_minmax = min_max_scaler.transform(X_test)\n",
    "#print(X_test_minmax)\n",
    "# παρατηρούμε ότι στο test set έχουμε τιμές εκτός [0,1] γιατί στο train set το min ήταν -1 και το max 2\n",
    "\n",
    "print(X_test_minmax.mean(axis=0))\n",
    "print(X_test_minmax.std(axis=0))"
   ]
  },
  {
   "cell_type": "markdown",
   "metadata": {
    "id": "DWzDbAF3zOKW"
   },
   "source": [
    "###Μείωση διαστάσεων"
   ]
  },
  {
   "cell_type": "markdown",
   "metadata": {
    "id": "pWJvgUktzSHR"
   },
   "source": [
    "Θα δοκιμάσω variance threshold, PCA και FA.\n",
    "Θα επεξεργαστούμε λίγο τα δεδομένα για να βρούμε τις διακυμάνσεις ώστε αργότερα στο pipeline να ξέρουμε το πεδίο των παραμέτρων που θα προσθέσουμε."
   ]
  },
  {
   "cell_type": "markdown",
   "metadata": {
    "id": "h3KKlSqBJkQH"
   },
   "source": [
    "####Variance threshold"
   ]
  },
  {
   "cell_type": "code",
   "execution_count": 125,
   "metadata": {
    "colab": {
     "base_uri": "https://localhost:8080/"
    },
    "id": "EpfiRiXOmN9u",
    "outputId": "13dda376-d3bd-4bbb-fd39-1d565c0a0a99"
   },
   "outputs": [
    {
     "data": {
      "text/plain": [
       "array([0.00383723, 0.00424216, 0.00372216, 0.00033203, 0.00033137,\n",
       "       0.00021593, 0.0001458 , 0.00015317, 0.00014228, 0.00013469,\n",
       "       0.10502694, 0.06772867, 0.00044659, 0.01182636, 0.01872348,\n",
       "       0.00113073, 0.00113855, 0.00113859, 0.0021327 , 0.00032302,\n",
       "       0.00036637, 0.00169747, 0.00193529, 0.00020838, 0.00016395,\n",
       "       0.0002955 , 0.00029844, 0.00014435, 0.08309902, 0.00020947,\n",
       "       0.00013198, 0.00063807, 0.00020947, 0.00083185, 0.00015884,\n",
       "       0.00040299, 0.00291002, 0.00291002, 0.00109259, 0.00028915,\n",
       "       0.00021173, 0.00167197, 0.00191012, 0.00020294, 0.01008762,\n",
       "       0.00091395, 0.00084   , 0.10627073, 0.0641117 , 0.00133352,\n",
       "       0.00020947, 0.00114903, 0.00095982, 0.00352258, 0.04122875,\n",
       "       0.04744857, 0.01888236, 0.0003878 , 0.00259821, 0.00252755,\n",
       "       0.00183147, 0.00015029, 0.00405852, 0.04386451, 0.00016511,\n",
       "       0.0002168 , 0.00346567, 0.00067343, 0.00020875, 0.00077805,\n",
       "       0.07973956, 0.11526449, 0.00017011, 0.08766058, 0.00015335,\n",
       "       0.00020947, 0.04386451, 0.0002168 , 0.0003722 , 0.00233187,\n",
       "       0.00085584, 0.00350471, 0.00021533, 0.00104119, 0.00125549,\n",
       "       0.00161877, 0.00135413, 0.0001993 , 0.00033202, 0.00032099,\n",
       "       0.00023054, 0.00033127, 0.00030207, 0.00227484])"
      ]
     },
     "execution_count": 125,
     "metadata": {},
     "output_type": "execute_result"
    }
   ],
   "source": [
    "Xvar = np.var(X_train_minmax, axis=0)\n",
    "Xvar"
   ]
  },
  {
   "cell_type": "markdown",
   "metadata": {
    "id": "XbwiQwJhHJ2k"
   },
   "source": [
    "Η πλειοψηφία των διασπορών της κάθε στήλης του κανονικοποιημένου X_train είναι σχεδόν μηδενική, οπότε για threshold το 0.001 παρατηροούμε ότι η διάσταση των features μειώνεται στο μισό. "
   ]
  },
  {
   "cell_type": "code",
   "execution_count": 126,
   "metadata": {
    "colab": {
     "base_uri": "https://localhost:8080/"
    },
    "id": "TW_aMQOdHIq1",
    "outputId": "e9686a3d-f1e7-4ffe-e713-85e0cb7ad147"
   },
   "outputs": [
    {
     "name": "stdout",
     "output_type": "stream",
     "text": [
      "(2046, 94)\n",
      "(4773, 45)\n"
     ]
    }
   ],
   "source": [
    "from sklearn.feature_selection import VarianceThreshold\n",
    "\n",
    "#print(X_train)\n",
    "# αρχικοποιούμε έναν selector\n",
    "selector = VarianceThreshold(threshold=0.001)\n",
    "# όπως κάναμε και με τους ταξινομητές τον κάνουμε fit στα δεδομένα εκπαίδευσης\n",
    "train_reduced = selector.fit_transform(X_train_minmax)\n",
    "#print(train_reduced)\n",
    "mask = selector.get_support()\n",
    "#print(mask)\n",
    "\n",
    "print(X_test.shape)\n",
    "\n",
    "#test_reduced = selector.transform(X_test_minmax)\n",
    "#print(test_reduced)\n",
    "print(train_reduced.shape)"
   ]
  },
  {
   "cell_type": "markdown",
   "metadata": {
    "id": "lPp4GBIcJr3N"
   },
   "source": [
    "####PCA"
   ]
  },
  {
   "cell_type": "code",
   "execution_count": 127,
   "metadata": {
    "colab": {
     "base_uri": "https://localhost:8080/",
     "height": 519
    },
    "id": "4XK2eYXoJucs",
    "outputId": "461e01ba-be6c-438e-d1b8-a03635c8cdc1"
   },
   "outputs": [
    {
     "name": "stdout",
     "output_type": "stream",
     "text": [
      "(4773, 94)\n",
      "(4773,)\n",
      "\n",
      "The first component contains 16.48% of the total information and the second one contains 13.01%\n",
      "In total the 2 components contains 29.49% of the total information\n",
      "\n"
     ]
    },
    {
     "data": {
      "image/png": "[encoded data removed]",
      "text/plain": [
       "<Figure size 432x432 with 1 Axes>"
      ]
     },
     "metadata": {
      "needs_background": "light"
     },
     "output_type": "display_data"
    }
   ],
   "source": [
    "from sklearn.decomposition import PCA\n",
    "\n",
    "#SMOTE\n",
    "#from imblearn.over_sampling import SMOTE\n",
    "\n",
    "#smote= SMOTE()\n",
    "#X_train_smote, y_train_smote = smote.fit_resample(X_train_minmax , y_train)\n",
    "\n",
    "from imblearn.over_sampling import RandomOverSampler\n",
    "from sklearn.preprocessing import MultiLabelBinarizer\n",
    "from collections import Counter\n",
    "\n",
    "print(X_train_minmax.shape)\n",
    "print(y_train.shape)\n",
    "\n",
    "#τα κάνω oversampler για να τσεκάρω αν αλλάζει κάτι στο plot\n",
    "ros = RandomOverSampler(random_state = 0)\n",
    "X_train_over, y_train_over = ros.fit_resample(X_train_minmax,y_train)\n",
    "\n",
    "pca = PCA(n_components=2)\n",
    "\n",
    "#principalComponents = pca.fit_transform(X_train_smote)\n",
    "principalComponents = pca.fit_transform(X_train_over)\n",
    "\n",
    "print()\n",
    "print(\"The first component contains {:.2f}% of the total information and the second one contains {:.2f}%\".format( (100*pca.explained_variance_ratio_[0]),(100*pca.explained_variance_ratio_[1]) ) )\n",
    "print(\"In total the 2 components contains {:.2f}% of the total information\".format((100*pca.explained_variance_ratio_[0])+(100*pca.explained_variance_ratio_[1])) )\n",
    "print()\n",
    "\n",
    "principalDf = pd.DataFrame(data = principalComponents , columns = ['principal component 1', 'principal component 2'])\n",
    "\n",
    "finalDf = pd.concat([principalDf, df['Bankrupt?'] ], axis = 1)\n",
    "\n",
    "fig = plt.figure(figsize = (6,6))\n",
    "ax = fig.add_subplot(1,1,1) \n",
    "ax.set_xlabel('Principal Component 1', fontsize = 20)\n",
    "ax.set_ylabel('Principal Component 2', fontsize = 20)\n",
    "ax.set_title('2 component PCA', fontsize = 20)\n",
    "\n",
    "targets = [0, 1]\n",
    "colors = ['r', 'b']\n",
    "\n",
    "for target, color in zip(targets,colors):\n",
    "    indicesToKeep = finalDf['Bankrupt?'] == target\n",
    "    ax.scatter(finalDf.loc[indicesToKeep, 'principal component 1']\n",
    "               , finalDf.loc[indicesToKeep, 'principal component 2']\n",
    "               , c = color\n",
    "               , s = 35)\n",
    "ax.legend(targets)\n",
    "ax.grid()"
   ]
  },
  {
   "cell_type": "markdown",
   "metadata": {
    "id": "PPWZN1jSY6eO"
   },
   "source": [
    "####FA"
   ]
  },
  {
   "cell_type": "code",
   "execution_count": 128,
   "metadata": {
    "id": "HGtm_m-ChdtM"
   },
   "outputs": [],
   "source": [
    "dfff = pd.DataFrame(X_train_minmax)\n",
    "#dfff"
   ]
  },
  {
   "cell_type": "code",
   "execution_count": 129,
   "metadata": {
    "colab": {
     "base_uri": "https://localhost:8080/"
    },
    "id": "jN0_avkhYRmt",
    "outputId": "f33922d9-0e8d-4e81-8974-75413dc9e59a"
   },
   "outputs": [
    {
     "name": "stdout",
     "output_type": "stream",
     "text": [
      "Requirement already satisfied: factor-analyzer in /usr/local/lib/python3.7/dist-packages (0.4.0)\n",
      "Requirement already satisfied: numpy in /usr/local/lib/python3.7/dist-packages (from factor-analyzer) (1.19.5)\n",
      "Requirement already satisfied: scikit-learn in /usr/local/lib/python3.7/dist-packages (from factor-analyzer) (1.0.1)\n",
      "Requirement already satisfied: scipy in /usr/local/lib/python3.7/dist-packages (from factor-analyzer) (1.4.1)\n",
      "Requirement already satisfied: pandas in /usr/local/lib/python3.7/dist-packages (from factor-analyzer) (1.1.5)\n",
      "Requirement already satisfied: python-dateutil>=2.7.3 in /usr/local/lib/python3.7/dist-packages (from pandas->factor-analyzer) (2.8.2)\n",
      "Requirement already satisfied: pytz>=2017.2 in /usr/local/lib/python3.7/dist-packages (from pandas->factor-analyzer) (2018.9)\n",
      "Requirement already satisfied: six>=1.5 in /usr/local/lib/python3.7/dist-packages (from python-dateutil>=2.7.3->pandas->factor-analyzer) (1.15.0)\n",
      "Requirement already satisfied: joblib>=0.11 in /usr/local/lib/python3.7/dist-packages (from scikit-learn->factor-analyzer) (1.1.0)\n",
      "Requirement already satisfied: threadpoolctl>=2.0.0 in /usr/local/lib/python3.7/dist-packages (from scikit-learn->factor-analyzer) (3.0.0)\n"
     ]
    },
    {
     "data": {
      "text/plain": [
       "array([ 1.27851607e+01,  6.83102343e+00,  6.37313428e+00,  4.68453306e+00,\n",
       "        4.30200177e+00,  3.12459405e+00,  2.90122635e+00,  2.66167763e+00,\n",
       "        2.03307563e+00,  1.98486674e+00,  1.85342306e+00,  1.69302374e+00,\n",
       "        1.58480795e+00,  1.53129005e+00,  1.42192052e+00,  1.38039922e+00,\n",
       "        1.36761914e+00,  1.28591257e+00,  1.21989724e+00,  1.16535913e+00,\n",
       "        1.13327641e+00,  1.12991659e+00,  1.07965033e+00,  1.05719800e+00,\n",
       "        1.04605816e+00,  1.03453669e+00,  1.01745325e+00,  1.00591846e+00,\n",
       "        9.97799789e-01,  9.87021647e-01,  9.82129460e-01,  9.69467941e-01,\n",
       "        9.52732745e-01,  9.41264861e-01,  9.36832151e-01,  9.33592978e-01,\n",
       "        9.07416534e-01,  8.76280338e-01,  8.70052836e-01,  8.51817879e-01,\n",
       "        8.30538721e-01,  8.19859784e-01,  8.05879804e-01,  7.55481101e-01,\n",
       "        7.10948030e-01,  6.95025366e-01,  6.66008443e-01,  6.45683861e-01,\n",
       "        5.64934457e-01,  5.36263852e-01,  5.01670249e-01,  4.88112114e-01,\n",
       "        4.46865978e-01,  3.86276528e-01,  3.53871761e-01,  3.40329535e-01,\n",
       "        3.33760145e-01,  2.91027865e-01,  2.55812819e-01,  2.07919347e-01,\n",
       "        1.82652210e-01,  1.76139960e-01,  1.68826999e-01,  1.55000108e-01,\n",
       "        1.34814991e-01,  1.16560340e-01,  9.61970174e-02,  8.69392343e-02,\n",
       "        7.51351223e-02,  5.75054896e-02,  4.73862730e-02,  3.66712087e-02,\n",
       "        3.00971473e-02,  2.38746703e-02,  2.11677822e-02,  1.64554330e-02,\n",
       "        1.36848177e-02,  9.15384382e-03,  6.55244614e-03,  4.80907288e-03,\n",
       "        4.46488105e-03,  1.32848853e-03,  1.18108845e-03,  1.06297114e-03,\n",
       "        2.80383437e-04,  2.03834974e-04,  1.48419579e-04,  7.26842867e-05,\n",
       "        6.40565808e-09,  2.71511834e-11, -6.64777058e-17, -2.95019561e-16,\n",
       "       -3.36339354e-16, -6.04875152e-16])"
      ]
     },
     "execution_count": 129,
     "metadata": {},
     "output_type": "execute_result"
    }
   ],
   "source": [
    "!pip install factor-analyzer\n",
    "# Instantiate factor analysis object\n",
    "from factor_analyzer.factor_analyzer import FactorAnalyzer \n",
    "fa = FactorAnalyzer(rotation='varimax')\n",
    "fa.fit(dfff)\n",
    "# Check Eigenvalues\n",
    "ev, v = fa.get_eigenvalues()\n",
    "ev\n"
   ]
  },
  {
   "cell_type": "markdown",
   "metadata": {
    "id": "CPWzNXb-nZU_"
   },
   "source": [
    "Ένα κριτήριο για να επιλέξω καλά factors είναι να επιλέξω τα factors που αντιστοιχούν σε eigenvalues > 1. Οπότε κάνω το παρακάτω plot: "
   ]
  },
  {
   "cell_type": "code",
   "execution_count": 130,
   "metadata": {
    "colab": {
     "base_uri": "https://localhost:8080/",
     "height": 295
    },
    "id": "jYg49zpHnHJ6",
    "outputId": "c6996378-e6a2-40f7-8df9-2772c98110dc"
   },
   "outputs": [
    {
     "data": {
      "image/png": "[encoded data removed]",
      "text/plain": [
       "<Figure size 432x288 with 1 Axes>"
      ]
     },
     "metadata": {
      "needs_background": "light"
     },
     "output_type": "display_data"
    }
   ],
   "source": [
    "plt.scatter(range(1, dfff.shape[1]+1), ev)\n",
    "plt.plot(range(1, dfff.shape[1]+1), ev)\n",
    "plt.title('Plot')\n",
    "plt.xlabel('Factors')\n",
    "plt.ylabel('Eigenvalue')\n",
    "plt.grid()\n",
    "plt.show()"
   ]
  },
  {
   "cell_type": "markdown",
   "metadata": {
    "id": "vYI-_OOgotIW"
   },
   "source": [
    "Από το plot βλέπουμε το αποτύπωμα 94 eigenvalues, όσα και τα features δηλαδή. Προφανώς δεν θέλουμε αριθμό από factors που να πλησιάζει των αριθμό των features, αφού τα features εκφράζονται ως γραμμικός συνδυασμός των factors.Οπότε θα επιλέξω factors των οποίων οι eigenvalues είναι μεγαλύτερες από 1. \n",
    "Άρα 10 factors. \n",
    "Στην συνέχεια φυσικά δεν χρειάζεται αυτή η διαδικασία αφού το gridsearch βρίσκει μόνο του τις υπερπαραμέτρους. Το παραπάνω ήταν για λόγους επεξήγησης, αφού με τα Pipelines δεν χρειάζεται να βρω χειροκίνητα τον αριθμό των factors. "
   ]
  },
  {
   "cell_type": "markdown",
   "metadata": {
    "id": "wo5_3tlQzS-P"
   },
   "source": [
    "###Εξισορρόπηση δεδομένων"
   ]
  },
  {
   "cell_type": "markdown",
   "metadata": {
    "id": "hrzUQuhi9mze"
   },
   "source": [
    "Επειδή οι ταξινομητές μου είναι SVM, MLP θα χρησιμοποιήσω oversampling. \n",
    "Ένας ακόμα λόγος είναι το πολύ μικρό πλήθος δειγμάτων κλάσης 1 (bunkrupt), από το οποίο θα προέκυπτε ένα πολύ μικρό train dataset. Θα χρησιμοποιήσω randomoversampler και SMOTE και συγκρίνω στο τέλος. Η διαφορά των δύο είναι ότι ο πρώτος απλά διπλασιάζει την minority class έως ότου ισορροπήσουν τα δείγματα των δύο κλάσεων,ουσιαστικά φορτώνει τα ίδια δείγματα ξανά και ξανά , ενώ η μέθοδος SMOTE δημιουργεί νέα δείγματα που αντιστοιχούν στη minority class. "
   ]
  },
  {
   "cell_type": "code",
   "execution_count": 131,
   "metadata": {
    "colab": {
     "base_uri": "https://localhost:8080/"
    },
    "id": "a6P-F9B9Y2du",
    "outputId": "97f0a861-6067-4cea-c0d6-ca9a74ce59e7"
   },
   "outputs": [
    {
     "name": "stdout",
     "output_type": "stream",
     "text": [
      "0    6599\n",
      "1     220\n",
      "Name: Bankrupt?, dtype: int64\n"
     ]
    }
   ],
   "source": [
    "print(df['Bankrupt?'].value_counts())  #δείγματα που αντιστοιχουν ανά κλάση"
   ]
  },
  {
   "cell_type": "code",
   "execution_count": 132,
   "metadata": {
    "colab": {
     "base_uri": "https://localhost:8080/"
    },
    "id": "Kxy_f6_6yV8A",
    "outputId": "0b9cfb34-316c-4f0e-cac6-e435939efe0b"
   },
   "outputs": [
    {
     "name": "stdout",
     "output_type": "stream",
     "text": [
      "Requirement already satisfied: imbalanced-learn in /usr/local/lib/python3.7/dist-packages (0.8.1)\n",
      "Requirement already satisfied: scikit-learn>=0.24 in /usr/local/lib/python3.7/dist-packages (from imbalanced-learn) (1.0.1)\n",
      "Requirement already satisfied: joblib>=0.11 in /usr/local/lib/python3.7/dist-packages (from imbalanced-learn) (1.1.0)\n",
      "Requirement already satisfied: scipy>=0.19.1 in /usr/local/lib/python3.7/dist-packages (from imbalanced-learn) (1.4.1)\n",
      "Requirement already satisfied: numpy>=1.13.3 in /usr/local/lib/python3.7/dist-packages (from imbalanced-learn) (1.19.5)\n",
      "Requirement already satisfied: threadpoolctl>=2.0.0 in /usr/local/lib/python3.7/dist-packages (from scikit-learn>=0.24->imbalanced-learn) (3.0.0)\n"
     ]
    }
   ],
   "source": [
    "!pip install -U imbalanced-learn"
   ]
  },
  {
   "cell_type": "code",
   "execution_count": 133,
   "metadata": {
    "colab": {
     "base_uri": "https://localhost:8080/"
    },
    "id": "j2sz8a1Zzjj0",
    "outputId": "9707420e-377d-400b-fd10-8dcc70552879"
   },
   "outputs": [
    {
     "name": "stdout",
     "output_type": "stream",
     "text": [
      "(4773, 94)\n",
      "(4773,)\n",
      "Counter({0: 4621, 1: 4621})\n",
      "(9242, 94)\n",
      "(9242,)\n"
     ]
    }
   ],
   "source": [
    "#randomoversampler\n",
    "from imblearn.over_sampling import RandomOverSampler\n",
    "from sklearn.preprocessing import MultiLabelBinarizer\n",
    "from collections import Counter\n",
    "\n",
    "print(X_train.shape)\n",
    "print(y_train.shape)\n",
    "\n",
    "ros = RandomOverSampler(random_state = 0)\n",
    "x_train_over, y_train_over = ros.fit_resample(X_train,y_train)\n",
    "\n",
    "\n",
    "freq=Counter(y_train_over)\n",
    "print(freq)            #dictionary με συχνότητες\n",
    "\n",
    "print(x_train_over.shape)\n",
    "print(y_train_over.shape)"
   ]
  },
  {
   "cell_type": "code",
   "execution_count": 134,
   "metadata": {
    "colab": {
     "base_uri": "https://localhost:8080/"
    },
    "id": "T6RaI3rI7g5P",
    "outputId": "278c7fb7-c2d1-4850-c96e-7318ac572a00"
   },
   "outputs": [
    {
     "name": "stdout",
     "output_type": "stream",
     "text": [
      "Counter({0: 4621, 1: 4621})\n",
      "(9242, 94)\n",
      "(9242,)\n"
     ]
    }
   ],
   "source": [
    "#SMOTE\n",
    "from imblearn.over_sampling import SMOTE, ADASYN\n",
    "\n",
    "smote= SMOTE()\n",
    "X_train_smote, y_train_smote = smote.fit_resample(X_train, y_train)\n",
    "\n",
    "freq=Counter(y_train_over)\n",
    "print(freq)            #dictionary με συχνότητες\n",
    "\n",
    "print(X_train_smote.shape)\n",
    "print(y_train_smote.shape)"
   ]
  },
  {
   "cell_type": "markdown",
   "metadata": {
    "id": "yN79iOVn8j0U"
   },
   "source": [
    "Βλέπουμε πως πλέον η αναλογία των κλάσεων είναι 1:1 και συνεπώς το training set είναι ισορροπημένο. Το Oversamping έγινε μόνο στο training set, αφού το test set θέλουμε να μείνει αναλοίωτο."
   ]
  },
  {
   "cell_type": "markdown",
   "metadata": {
    "id": "-oqD7-dpzd2p"
   },
   "source": [
    "#Βελτιστοποίηση ταξινομητών με χρήση pipelines"
   ]
  },
  {
   "cell_type": "markdown",
   "metadata": {
    "id": "pHW3srm18fZ_"
   },
   "source": [
    "Στην συνέχεια θα χρησιμοποιήσουμε pipelines για να μελετήσουμε ειδικότερα την επίδραση διαφορετικών βελτιστοποιήσεων στην απόδοση των ταξινομητών βρίσκοντας ποιες υπερπαράμετροι είναι βέλτιστες."
   ]
  },
  {
   "cell_type": "markdown",
   "metadata": {
    "id": "-A3vWyFVA4Pd"
   },
   "source": [
    "\n",
    "\n",
    "Στο βήμα αυτό θα κάνουμε tuning υπερπαραμέτρων ώστε να βρούμε τους κατάλληλους συνδυασμούς που θα βελτιστοποιήσουν τους ταξινομητές μας(MLP,SVM). Κάνω Grid-search με 5-fold-cross validation, το οποίο κοστίζει σε χρόνο. Κάνω cross validation με μετρική micro γιατί ενδείκνυται για imbalanced δεδομένα. Ωστόσο η τελική εκτύπωση της απόδοσης είναι σε macro.\n",
    "\n",
    "Στην προεπεξεργασία τυπώσαμε το variance των δεδομένων μας και παρατηρούμε ότι οι τιμές της διασποράς είναι κοντά στο 0. Τo variance thresholding μπορεί να θεωρηθεί ως υπερπαράμετρος, την οποία αρχικά εισάγαμε ως μέρος της αρχιτεκτονικής του pipeline αλλά παρατηρήσαμε πως πάντα επιλεγόταν threshold κάτω από το min των τιμών, δηλαδή τα αποτελέσματα είναι χειρότερα κάνοντας variance thresholding. Οπότε δεν αποτελεί χρήσιμη υπερπαράμετρο στο συγκεκριμένο πρόβλημα γιαυτό την αφαιρούμε.\n",
    "\n",
    "Η στρατηγική εύρεσης υπερπαραμέτρων που θα χρησιμοποιήσω είναι η ακόλουθη:\n",
    "Για κάθε ταξινομητή (MLP , SVM_linear , SVM_rbf , SVM_poly) για δύο διαφορετικές τεχνικές oversampling(randomoversampling και SMOTE) και δύο διαφορετικές τεχνικές dimensionality reduction (pca , fa) υπολογίζω τις υπερπαραμέτρους. Στη συνέχεια αναλύω πως επηρεάζει κάθε τεχνική την απόδοση και στο τέλος συγκρίνω αναλυτικά όλους τους ταξινομητές.\n"
   ]
  },
  {
   "cell_type": "markdown",
   "metadata": {
    "id": "CFaaBzpBNmkQ"
   },
   "source": [
    "Θα βελτιστοποιήσω το MLP με Optuna ενώ το SVM με scikit learn. "
   ]
  },
  {
   "cell_type": "code",
   "execution_count": 135,
   "metadata": {
    "colab": {
     "base_uri": "https://localhost:8080/"
    },
    "id": "8I2OCuqXpEFp",
    "outputId": "9b2c62ff-6aee-48cb-c7d8-bc9e2e3ec8f9"
   },
   "outputs": [
    {
     "name": "stdout",
     "output_type": "stream",
     "text": [
      "Requirement already satisfied: imbalanced-learn in /usr/local/lib/python3.7/dist-packages (0.8.1)\n",
      "Requirement already satisfied: scikit-learn>=0.24 in /usr/local/lib/python3.7/dist-packages (from imbalanced-learn) (1.0.1)\n",
      "Requirement already satisfied: scipy>=0.19.1 in /usr/local/lib/python3.7/dist-packages (from imbalanced-learn) (1.4.1)\n",
      "Requirement already satisfied: numpy>=1.13.3 in /usr/local/lib/python3.7/dist-packages (from imbalanced-learn) (1.19.5)\n",
      "Requirement already satisfied: joblib>=0.11 in /usr/local/lib/python3.7/dist-packages (from imbalanced-learn) (1.1.0)\n",
      "Requirement already satisfied: threadpoolctl>=2.0.0 in /usr/local/lib/python3.7/dist-packages (from scikit-learn>=0.24->imbalanced-learn) (3.0.0)\n"
     ]
    }
   ],
   "source": [
    "!pip install --upgrade imbalanced-learn"
   ]
  },
  {
   "cell_type": "code",
   "execution_count": 136,
   "metadata": {
    "id": "4c4wnS27L41Y"
   },
   "outputs": [],
   "source": [
    "from imblearn.pipeline import Pipeline\n",
    "from sklearn.model_selection import GridSearchCV\n",
    "from sklearn.metrics import classification_report\n",
    "\n",
    "from sklearn.svm import SVC\n",
    "from sklearn.svm import LinearSVC\n",
    "\n",
    "from imblearn.over_sampling import RandomOverSampler\n",
    "from imblearn.over_sampling import SMOTE\n",
    "\n",
    "from sklearn.feature_selection import VarianceThreshold\n",
    "from sklearn.decomposition import FactorAnalysis\n",
    "\n",
    "from sklearn.decomposition import PCA"
   ]
  },
  {
   "cell_type": "markdown",
   "metadata": {
    "id": "I27FIG7Q9nCd"
   },
   "source": [
    "##MLP"
   ]
  },
  {
   "cell_type": "code",
   "execution_count": 137,
   "metadata": {
    "colab": {
     "base_uri": "https://localhost:8080/"
    },
    "id": "SXq1x7Gbieej",
    "outputId": "b14a2335-bfb1-4119-e5d5-125764a5cb7b"
   },
   "outputs": [
    {
     "name": "stdout",
     "output_type": "stream",
     "text": [
      "Requirement already satisfied: optuna in /usr/local/lib/python3.7/dist-packages (2.10.0)\n",
      "Requirement already satisfied: tqdm in /usr/local/lib/python3.7/dist-packages (from optuna) (4.62.3)\n",
      "Requirement already satisfied: PyYAML in /usr/local/lib/python3.7/dist-packages (from optuna) (3.13)\n",
      "Requirement already satisfied: scipy!=1.4.0 in /usr/local/lib/python3.7/dist-packages (from optuna) (1.4.1)\n",
      "Requirement already satisfied: numpy in /usr/local/lib/python3.7/dist-packages (from optuna) (1.19.5)\n",
      "Requirement already satisfied: colorlog in /usr/local/lib/python3.7/dist-packages (from optuna) (6.6.0)\n",
      "Requirement already satisfied: alembic in /usr/local/lib/python3.7/dist-packages (from optuna) (1.7.5)\n",
      "Requirement already satisfied: packaging>=20.0 in /usr/local/lib/python3.7/dist-packages (from optuna) (21.3)\n",
      "Requirement already satisfied: sqlalchemy>=1.1.0 in /usr/local/lib/python3.7/dist-packages (from optuna) (1.4.27)\n",
      "Requirement already satisfied: cliff in /usr/local/lib/python3.7/dist-packages (from optuna) (3.9.0)\n",
      "Requirement already satisfied: cmaes>=0.8.2 in /usr/local/lib/python3.7/dist-packages (from optuna) (0.8.2)\n",
      "Requirement already satisfied: pyparsing!=3.0.5,>=2.0.2 in /usr/local/lib/python3.7/dist-packages (from packaging>=20.0->optuna) (3.0.6)\n",
      "Requirement already satisfied: importlib-metadata in /usr/local/lib/python3.7/dist-packages (from sqlalchemy>=1.1.0->optuna) (4.8.2)\n",
      "Requirement already satisfied: greenlet!=0.4.17 in /usr/local/lib/python3.7/dist-packages (from sqlalchemy>=1.1.0->optuna) (1.1.2)\n",
      "Requirement already satisfied: importlib-resources in /usr/local/lib/python3.7/dist-packages (from alembic->optuna) (5.4.0)\n",
      "Requirement already satisfied: Mako in /usr/local/lib/python3.7/dist-packages (from alembic->optuna) (1.1.6)\n",
      "Requirement already satisfied: PrettyTable>=0.7.2 in /usr/local/lib/python3.7/dist-packages (from cliff->optuna) (2.4.0)\n",
      "Requirement already satisfied: autopage>=0.4.0 in /usr/local/lib/python3.7/dist-packages (from cliff->optuna) (0.4.0)\n",
      "Requirement already satisfied: pbr!=2.1.0,>=2.0.0 in /usr/local/lib/python3.7/dist-packages (from cliff->optuna) (5.8.0)\n",
      "Requirement already satisfied: cmd2>=1.0.0 in /usr/local/lib/python3.7/dist-packages (from cliff->optuna) (2.3.1)\n",
      "Requirement already satisfied: stevedore>=2.0.1 in /usr/local/lib/python3.7/dist-packages (from cliff->optuna) (3.5.0)\n",
      "Requirement already satisfied: pyperclip>=1.6 in /usr/local/lib/python3.7/dist-packages (from cmd2>=1.0.0->cliff->optuna) (1.8.2)\n",
      "Requirement already satisfied: typing-extensions in /usr/local/lib/python3.7/dist-packages (from cmd2>=1.0.0->cliff->optuna) (3.10.0.2)\n",
      "Requirement already satisfied: attrs>=16.3.0 in /usr/local/lib/python3.7/dist-packages (from cmd2>=1.0.0->cliff->optuna) (21.2.0)\n",
      "Requirement already satisfied: wcwidth>=0.1.7 in /usr/local/lib/python3.7/dist-packages (from cmd2>=1.0.0->cliff->optuna) (0.2.5)\n",
      "Requirement already satisfied: zipp>=0.5 in /usr/local/lib/python3.7/dist-packages (from importlib-metadata->sqlalchemy>=1.1.0->optuna) (3.6.0)\n",
      "Requirement already satisfied: MarkupSafe>=0.9.2 in /usr/local/lib/python3.7/dist-packages (from Mako->alembic->optuna) (2.0.1)\n"
     ]
    }
   ],
   "source": [
    "!pip install --upgrade optuna"
   ]
  },
  {
   "cell_type": "code",
   "execution_count": 138,
   "metadata": {
    "id": "7faB6VPxMwAC"
   },
   "outputs": [],
   "source": [
    "from sklearn.neural_network import MLPClassifier\n",
    "import optuna"
   ]
  },
  {
   "cell_type": "code",
   "execution_count": 139,
   "metadata": {
    "id": "UNCeh17lo4fT"
   },
   "outputs": [],
   "source": [
    "f1_macro_optimized_MLP = []"
   ]
  },
  {
   "cell_type": "code",
   "execution_count": 140,
   "metadata": {
    "id": "JFNCU8aG9roN"
   },
   "outputs": [],
   "source": [
    "def objective(trial, x_train, y_train , x_test , y_test, dr ):\n",
    "\n",
    "    if( dr == 0):                                              #pca\n",
    "      pca = PCA(n_components=78)\n",
    "      x_train = pca.fit_transform(x_train)\n",
    "      x_test = pca.transform(x_test)\n",
    "    else:                                                      #fa\n",
    "      fa = FactorAnalyzer(rotation='varimax')\n",
    "      x_train = fa.fit_transform(x_train)\n",
    "      x_test = fa.transform(x_test)\n",
    "\n",
    "    n_layers = trial.suggest_int('n_layers', 1, 2 )           #number of layers\n",
    "\n",
    "    layers = []\n",
    "    for i in range(n_layers):\n",
    "        layers.append(trial.suggest_int(f'n_units_{i}', 10, 20 ))      #space of neurons per layer\n",
    "\n",
    "\n",
    "    #alpha=trial.suggest_loguniform('alpha',1e-4,100)     # penalty  parameter.\n",
    "    #tol=trial.suggest_float('tol',1e-8,1e-4)             # tol\n",
    "\n",
    "    clf = MLPClassifier(hidden_layer_sizes=tuple(layers))\n",
    "\n",
    "    clf.fit(x_train, y_train)\n",
    "\n",
    "    score = clf.score(x_test, y_test)\n",
    "\n",
    "    f1_macro_optimized_MLP.append(score)\n",
    "\n",
    "    return score"
   ]
  },
  {
   "cell_type": "code",
   "execution_count": 141,
   "metadata": {
    "id": "DD27Sz6a1PiM"
   },
   "outputs": [],
   "source": [
    "#randomOverSampler\n",
    "ros = RandomOverSampler(random_state = 0)\n",
    "x_train_over, y_train_over = ros.fit_resample(X_train_minmax,y_train)\n",
    "\n",
    "#SMOTE\n",
    "smote= SMOTE()\n",
    "x_train_smote, y_train_smote = smote.fit_resample(X_train_minmax, y_train)\n"
   ]
  },
  {
   "cell_type": "code",
   "execution_count": 142,
   "metadata": {
    "colab": {
     "base_uri": "https://localhost:8080/"
    },
    "id": "lbu2j3ubxK7j",
    "outputId": "6c29bbdd-da60-41e5-d696-a9bcfb7d36d9"
   },
   "outputs": [
    {
     "name": "stderr",
     "output_type": "stream",
     "text": [
      "\u001b[32m[I 2021-11-22 08:37:34,283]\u001b[0m A new study created in memory with name: no-name-798c452b-2c1b-41ec-abfb-8245da849dfd\u001b[0m\n"
     ]
    },
    {
     "name": "stdout",
     "output_type": "stream",
     "text": [
      "THIS IS PCA\n"
     ]
    },
    {
     "name": "stderr",
     "output_type": "stream",
     "text": [
      "/usr/local/lib/python3.7/dist-packages/sklearn/neural_network/_multilayer_perceptron.py:696: ConvergenceWarning:\n",
      "\n",
      "Stochastic Optimizer: Maximum iterations (200) reached and the optimization hasn't converged yet.\n",
      "\n",
      "\u001b[32m[I 2021-11-22 08:37:41,141]\u001b[0m Trial 0 finished with value: 0.9486803519061584 and parameters: {'n_layers': 2, 'n_units_0': 11, 'n_units_1': 16}. Best is trial 0 with value: 0.9486803519061584.\u001b[0m\n",
      "/usr/local/lib/python3.7/dist-packages/sklearn/neural_network/_multilayer_perceptron.py:696: ConvergenceWarning:\n",
      "\n",
      "Stochastic Optimizer: Maximum iterations (200) reached and the optimization hasn't converged yet.\n",
      "\n",
      "\u001b[32m[I 2021-11-22 08:37:46,057]\u001b[0m Trial 1 finished with value: 0.9120234604105572 and parameters: {'n_layers': 1, 'n_units_0': 11}. Best is trial 0 with value: 0.9486803519061584.\u001b[0m\n",
      "/usr/local/lib/python3.7/dist-packages/sklearn/neural_network/_multilayer_perceptron.py:696: ConvergenceWarning:\n",
      "\n",
      "Stochastic Optimizer: Maximum iterations (200) reached and the optimization hasn't converged yet.\n",
      "\n",
      "\u001b[32m[I 2021-11-22 08:37:56,651]\u001b[0m Trial 2 finished with value: 0.9506353861192571 and parameters: {'n_layers': 2, 'n_units_0': 17, 'n_units_1': 17}. Best is trial 2 with value: 0.9506353861192571.\u001b[0m\n"
     ]
    },
    {
     "name": "stdout",
     "output_type": "stream",
     "text": [
      "\n",
      "THIS IS FA\n"
     ]
    },
    {
     "name": "stderr",
     "output_type": "stream",
     "text": [
      "\u001b[32m[I 2021-11-22 08:37:58,643]\u001b[0m Trial 3 finished with value: 0.4521016617790811 and parameters: {'n_layers': 2, 'n_units_0': 16, 'n_units_1': 17}. Best is trial 2 with value: 0.9506353861192571.\u001b[0m\n",
      "\u001b[32m[I 2021-11-22 08:38:01,044]\u001b[0m Trial 4 finished with value: 0.9198435972629521 and parameters: {'n_layers': 1, 'n_units_0': 15}. Best is trial 2 with value: 0.9506353861192571.\u001b[0m\n",
      "\u001b[32m[I 2021-11-22 08:38:03,315]\u001b[0m Trial 5 finished with value: 0.9349951124144672 and parameters: {'n_layers': 1, 'n_units_0': 13}. Best is trial 2 with value: 0.9506353861192571.\u001b[0m\n"
     ]
    }
   ],
   "source": [
    "#for RandomOversampling\n",
    "study = optuna.create_study(direction='maximize')\n",
    "print(\"THIS IS PCA\")\n",
    "study.optimize(lambda trial: objective(trial, x_train_over, y_train_over, X_test_minmax , y_test, 0) , n_trials=3) \n",
    "print()\n",
    "print(\"THIS IS FA\")\n",
    "study.optimize(lambda trial: objective(trial, x_train_over, y_train_over, X_test_minmax , y_test, 1) , n_trials=3) \n"
   ]
  },
  {
   "cell_type": "code",
   "execution_count": 143,
   "metadata": {
    "colab": {
     "base_uri": "https://localhost:8080/"
    },
    "id": "3Z7MlITiyf19",
    "outputId": "e0561163-0315-40d4-c71c-a29ed0c99c02"
   },
   "outputs": [
    {
     "name": "stderr",
     "output_type": "stream",
     "text": [
      "\u001b[32m[I 2021-11-22 08:38:03,338]\u001b[0m A new study created in memory with name: no-name-98748016-5408-4f58-b2bf-cf897bcfacd0\u001b[0m\n"
     ]
    },
    {
     "name": "stdout",
     "output_type": "stream",
     "text": [
      "THIS IS PCA\n"
     ]
    },
    {
     "name": "stderr",
     "output_type": "stream",
     "text": [
      "/usr/local/lib/python3.7/dist-packages/sklearn/neural_network/_multilayer_perceptron.py:696: ConvergenceWarning:\n",
      "\n",
      "Stochastic Optimizer: Maximum iterations (200) reached and the optimization hasn't converged yet.\n",
      "\n",
      "\u001b[32m[I 2021-11-22 08:38:08,116]\u001b[0m Trial 0 finished with value: 0.9188660801564027 and parameters: {'n_layers': 1, 'n_units_0': 16}. Best is trial 0 with value: 0.9188660801564027.\u001b[0m\n",
      "/usr/local/lib/python3.7/dist-packages/sklearn/neural_network/_multilayer_perceptron.py:696: ConvergenceWarning:\n",
      "\n",
      "Stochastic Optimizer: Maximum iterations (200) reached and the optimization hasn't converged yet.\n",
      "\n",
      "\u001b[32m[I 2021-11-22 08:38:18,645]\u001b[0m Trial 1 finished with value: 0.9501466275659824 and parameters: {'n_layers': 2, 'n_units_0': 17, 'n_units_1': 14}. Best is trial 1 with value: 0.9501466275659824.\u001b[0m\n",
      "/usr/local/lib/python3.7/dist-packages/sklearn/neural_network/_multilayer_perceptron.py:696: ConvergenceWarning:\n",
      "\n",
      "Stochastic Optimizer: Maximum iterations (200) reached and the optimization hasn't converged yet.\n",
      "\n",
      "\u001b[32m[I 2021-11-22 08:38:25,663]\u001b[0m Trial 2 finished with value: 0.9501466275659824 and parameters: {'n_layers': 2, 'n_units_0': 16, 'n_units_1': 19}. Best is trial 1 with value: 0.9501466275659824.\u001b[0m\n"
     ]
    },
    {
     "name": "stdout",
     "output_type": "stream",
     "text": [
      "\n",
      "THIS IS FA\n"
     ]
    },
    {
     "name": "stderr",
     "output_type": "stream",
     "text": [
      "\u001b[32m[I 2021-11-22 08:38:28,055]\u001b[0m Trial 3 finished with value: 0.38758553274682306 and parameters: {'n_layers': 2, 'n_units_0': 10, 'n_units_1': 11}. Best is trial 1 with value: 0.9501466275659824.\u001b[0m\n",
      "\u001b[32m[I 2021-11-22 08:38:30,063]\u001b[0m Trial 4 finished with value: 0.28885630498533726 and parameters: {'n_layers': 1, 'n_units_0': 10}. Best is trial 1 with value: 0.9501466275659824.\u001b[0m\n",
      "\u001b[32m[I 2021-11-22 08:38:32,315]\u001b[0m Trial 5 finished with value: 0.19696969696969696 and parameters: {'n_layers': 2, 'n_units_0': 16, 'n_units_1': 14}. Best is trial 1 with value: 0.9501466275659824.\u001b[0m\n"
     ]
    }
   ],
   "source": [
    "#for SMOTE\n",
    "study = optuna.create_study(direction='maximize')\n",
    "print(\"THIS IS PCA\")\n",
    "study.optimize(lambda trial: objective(trial, x_train_smote, y_train_smote, X_test_minmax, y_test ,0) , n_trials=3) \n",
    "print()\n",
    "print(\"THIS IS FA\")\n",
    "study.optimize(lambda trial: objective(trial, x_train_smote, y_train_smote, X_test_minmax, y_test ,1) , n_trials=3) "
   ]
  },
  {
   "cell_type": "markdown",
   "metadata": {
    "id": "BPtnNA_R9shu"
   },
   "source": [
    "##SVM\n",
    "\n",
    "#dimensionality reduction params\n",
    "- vthreshold \n",
    "- pca_n_components \n",
    "- fa_n_components \n",
    "\n",
    "#oversamling techinques\n",
    "- randomoversampler\n",
    "- smote = SMOTE()"
   ]
  },
  {
   "cell_type": "code",
   "execution_count": 144,
   "metadata": {
    "id": "m30F6jMZ5JvK"
   },
   "outputs": [],
   "source": [
    "f1_macro_scoreslist_SVM=[]"
   ]
  },
  {
   "cell_type": "code",
   "execution_count": 145,
   "metadata": {
    "id": "ojYYgsSyV1Br"
   },
   "outputs": [],
   "source": [
    "def gridsearch_class_report(classifier, param_grid, pipe, train, train_labels, test, test_labels):\n",
    "\n",
    "                                                # X_train_minmax , y_train , X_test_minmax , y_test\n",
    "\n",
    "    # We will use 5 fold validation\n",
    "    estimator = GridSearchCV(pipe, param_grid=param_grid, cv=5, scoring='f1_micro', n_jobs=-1, verbose=10)\n",
    "\n",
    "    %time estimator.fit(train, train_labels)\n",
    "    \n",
    "    \n",
    "    preds = estimator.predict(test)                         #test = X_test_minmax\n",
    "    \n",
    "    print(classification_report(test_labels, preds))\n",
    "\n",
    "    print(estimator.best_estimator_)\n",
    "    print(estimator.best_params_)\n",
    "\n",
    "    #f1_acc_optimized[classifier] = rep_dict['accuracy']\n",
    "\n",
    "    # Compute confusion matrix\n",
    "    pred = estimator.predict(test)\n",
    "    print(\"Confusion matrix\\n\")\n",
    "    cnf_matrix = confusion_matrix(test_labels, pred)\n",
    "    print(classifier, \"Classifier\", )\n",
    "    print(cnf_matrix, end='\\n\\n')\n",
    "\n",
    "    rep_dict = classification_report(test_labels, preds, output_dict = True)\n",
    "\n",
    "    f1_macro_scoreslist_SVM.append(rep_dict['weighted avg']['f1-score'])\n",
    "    #f1_macro_optimized[classifier] = mylist "
   ]
  },
  {
   "cell_type": "markdown",
   "metadata": {
    "id": "27k_veST-X2-"
   },
   "source": [
    "###Linear Kernel"
   ]
  },
  {
   "cell_type": "markdown",
   "metadata": {
    "id": "-6bJlY8zeFAH"
   },
   "source": [
    "Για αρχή δοκιμάζω τα παρακάτω διαστήματα για τις υπερπαραμέτρους:"
   ]
  },
  {
   "cell_type": "code",
   "execution_count": null,
   "metadata": {
    "id": "lIPg2GlCYGtc"
   },
   "outputs": [],
   "source": [
    "#dimensionality reduction params\n",
    "vthreshold = [0.001, 0.002 , 0.003]\n",
    "\n",
    "#linear_svm params\n",
    "loss = [\"hinge\", \"squared_hinge\"]        # default ‘squared_hinge’\n",
    "tol = [1e-2, 1e-8, 1e-14]                 # default 1e-4\n",
    "c = [0.5, 1 , 1.5]\n",
    "\n",
    "linear_svm = LinearSVC()\n",
    "selector = VarianceThreshold()\n",
    "sampler = RandomOverSampler()\n",
    "\n",
    "\n",
    "param_grid = dict(selector__threshold=vthreshold , linearsvm__loss = loss, linearsvm__tol = tol , linearsvm__C = c)\n",
    "\n",
    "pipe = Pipeline(steps=[('sampler' , sampler) , ('selector', selector), ('linearsvm', linear_svm) ], memory = 'tmp')\n",
    "\n",
    "gridsearch_class_report('SVM_linear', param_grid, pipe, X_train_minmax, y_train, X_test_minmax, y_test)"
   ]
  },
  {
   "cell_type": "code",
   "execution_count": null,
   "metadata": {
    "id": "F-OgeRqX9uaN"
   },
   "outputs": [],
   "source": [
    "#μειώνω το tol και αυξάνω το C\n",
    "\n",
    "#dimensionality reduction params\n",
    "vthreshold = [0.001, 0.002 , 0.003]\n",
    "\n",
    "#linear_svm params\n",
    "loss = [\"hinge\", \"squared_hinge\"]       \n",
    "tol = [ 1e-10, 1e-14, 1e-16]               \n",
    "c = [ 70, 72 , 73 , 74 ]\n",
    "\n",
    "linear_svm = LinearSVC()\n",
    "selector = VarianceThreshold()\n",
    "sampler = RandomOverSampler()\n",
    "\n",
    "\n",
    "param_grid = dict(selector__threshold=vthreshold , linearsvm__loss = loss, linearsvm__tol = tol , linearsvm__C = c)\n",
    "\n",
    "pipe = Pipeline(steps=[('sampler' , sampler) , ('selector', selector), ('linearsvm', linear_svm) ], memory = 'tmp')\n",
    "\n",
    "gridsearch_class_report('SVM_linear', param_grid, pipe, X_train_minmax, y_train, X_test_minmax, y_test)\n"
   ]
  },
  {
   "cell_type": "markdown",
   "metadata": {
    "id": "wiiYhuzAdIe2"
   },
   "source": [
    "Μετά από πολλές δοκιμές(μετατοπίζοντας το διάστημα των αντίστοιχων υπερπαραμέτρων) οι βέλτιστοι είναι 73-75 για το C, tol = 1e-10, loss=squared hinge . "
   ]
  },
  {
   "cell_type": "markdown",
   "metadata": {
    "id": "WD9aPvmBoRth"
   },
   "source": [
    "δοκιμάζω με SMOTE oversampling τώρα:"
   ]
  },
  {
   "cell_type": "code",
   "execution_count": null,
   "metadata": {
    "id": "d-T0ooWLCxYA"
   },
   "outputs": [],
   "source": [
    "#dimensionality reduction params\n",
    "vthreshold = [0.001, 0.002 , 0.003]\n",
    "\n",
    "#linear_svm params\n",
    "loss = [\"hinge\", \"squared_hinge\"]      \n",
    "tol = [ 1e-8, 1e-10, 1e-14, 1e-16]         \n",
    "c = [ 70, 72 , 73 , 74 ]\n",
    "\n",
    "linear_svm = LinearSVC()\n",
    "selector = VarianceThreshold()\n",
    "sampler = SMOTE()\n",
    "\n",
    "param_grid = dict(selector__threshold=vthreshold , linearsvm__loss = loss, linearsvm__tol = tol , linearsvm__C = c)\n",
    "\n",
    "pipe = Pipeline(steps=[('sampler' , sampler) , ('selector', selector), ('linearsvm', linear_svm) ], memory = 'tmp')\n",
    "\n",
    "gridsearch_class_report('SVM_linear', param_grid, pipe, X_train_minmax, y_train, X_test_minmax, y_test) \n"
   ]
  },
  {
   "cell_type": "markdown",
   "metadata": {
    "id": "FKgvtyOzo3XX"
   },
   "source": [
    "Με SMOTE παρατηρούμε βελτιώθηκε η απόδοση. \n",
    "\n",
    "Ώστοσο, όπως αναφέραμε και στην εισαγωγή το gridsearch επιλέγει πάντοτε τιμή vth < min(X.var) οπότε δεν προκύπτει ποτε καλή απόδοση. "
   ]
  },
  {
   "cell_type": "markdown",
   "metadata": {
    "id": "-9sRiMLh2yAC"
   },
   "source": [
    "Γιαυτό προχωράμε με τη μέθοδο PCA:"
   ]
  },
  {
   "cell_type": "code",
   "execution_count": 149,
   "metadata": {
    "colab": {
     "base_uri": "https://localhost:8080/"
    },
    "id": "F6ZKbfMgBllk",
    "outputId": "2facfc26-dcfd-4716-f21f-08596d85f657"
   },
   "outputs": [
    {
     "name": "stdout",
     "output_type": "stream",
     "text": [
      "Fitting 5 folds for each of 96 candidates, totalling 480 fits\n",
      "CPU times: user 5.27 s, sys: 656 ms, total: 5.93 s\n",
      "Wall time: 5min 19s\n",
      "              precision    recall  f1-score   support\n",
      "\n",
      "           0       0.99      0.87      0.93      1978\n",
      "           1       0.17      0.76      0.28        68\n",
      "\n",
      "    accuracy                           0.87      2046\n",
      "   macro avg       0.58      0.82      0.60      2046\n",
      "weighted avg       0.96      0.87      0.91      2046\n",
      "\n",
      "Pipeline(memory='tmp',\n",
      "         steps=[('sampler', RandomOverSampler()),\n",
      "                ('selector', PCA(n_components=70)),\n",
      "                ('linearsvm', LinearSVC(C=72))])\n",
      "{'linearsvm__C': 72, 'linearsvm__loss': 'squared_hinge', 'linearsvm__tol': 0.0001, 'selector__n_components': 70}\n",
      "Confusion matrix\n",
      "\n",
      "SVM_linear Classifier\n",
      "[[1726  252]\n",
      " [  16   52]]\n",
      "\n"
     ]
    },
    {
     "name": "stderr",
     "output_type": "stream",
     "text": [
      "/usr/local/lib/python3.7/dist-packages/sklearn/svm/_base.py:1208: ConvergenceWarning:\n",
      "\n",
      "Liblinear failed to converge, increase the number of iterations.\n",
      "\n"
     ]
    }
   ],
   "source": [
    "selector = PCA()\n",
    "\n",
    "#dimensionality reduction params\n",
    "pca_components = [ 50 , 60 , 70 , 80 ]\n",
    "\n",
    "#linear_svm params\n",
    "loss = [\"hinge\", \"squared_hinge\"]        \n",
    "tol = [1e-4, 1e-10, 1e-14, 1e-16]             \n",
    "c = [ 72, 73 , 75]\n",
    "\n",
    "linear_svm = LinearSVC()\n",
    "sampler = RandomOverSampler()\n",
    "\n",
    "param_grid = dict(selector__n_components=pca_components , linearsvm__loss = loss, linearsvm__tol = tol , linearsvm__C = c)\n",
    "\n",
    "pipe = Pipeline(steps=[ ('sampler', sampler), ('selector', selector), ('linearsvm' , linear_svm) ] , memory = 'tmp')\n",
    "\n",
    "gridsearch_class_report('SVM_linear', param_grid, pipe, X_train_minmax, y_train, X_test_minmax, y_test)"
   ]
  },
  {
   "cell_type": "markdown",
   "metadata": {
    "id": "8aVwkSkIChKY"
   },
   "source": [
    "Κάνουμε την ίδια δουλεια με SMOTE"
   ]
  },
  {
   "cell_type": "code",
   "execution_count": 150,
   "metadata": {
    "colab": {
     "base_uri": "https://localhost:8080/"
    },
    "id": "tJk91sxissf1",
    "outputId": "2dce1fe0-7c47-47bc-ad9e-33a89bd66134"
   },
   "outputs": [
    {
     "name": "stdout",
     "output_type": "stream",
     "text": [
      "Fitting 5 folds for each of 96 candidates, totalling 480 fits\n",
      "CPU times: user 4.88 s, sys: 528 ms, total: 5.41 s\n",
      "Wall time: 4min 42s\n",
      "              precision    recall  f1-score   support\n",
      "\n",
      "           0       0.99      0.88      0.93      1978\n",
      "           1       0.18      0.72      0.28        68\n",
      "\n",
      "    accuracy                           0.88      2046\n",
      "   macro avg       0.58      0.80      0.61      2046\n",
      "weighted avg       0.96      0.88      0.91      2046\n",
      "\n",
      "Pipeline(memory='tmp',\n",
      "         steps=[('sampler', SMOTE()), ('selector', PCA(n_components=80)),\n",
      "                ('linearsvm', LinearSVC(C=73, tol=0.001))])\n",
      "{'linearsvm__C': 73, 'linearsvm__loss': 'squared_hinge', 'linearsvm__tol': 0.001, 'selector__n_components': 80}\n",
      "Confusion matrix\n",
      "\n",
      "SVM_linear Classifier\n",
      "[[1748  230]\n",
      " [  19   49]]\n",
      "\n"
     ]
    },
    {
     "name": "stderr",
     "output_type": "stream",
     "text": [
      "/usr/local/lib/python3.7/dist-packages/sklearn/svm/_base.py:1208: ConvergenceWarning:\n",
      "\n",
      "Liblinear failed to converge, increase the number of iterations.\n",
      "\n"
     ]
    }
   ],
   "source": [
    "selector = PCA()\n",
    "\n",
    "#dimensionality reduction params\n",
    "pca_components = [ 50 , 60 , 70 , 80 ]\n",
    "\n",
    "#linear_svm params\n",
    "loss = [\"hinge\", \"squared_hinge\"]       \n",
    "tol = [1e-3, 1e-10, 1e-14, 1e-16]           \n",
    "c = [ 72, 73 , 75]\n",
    "\n",
    "linear_svm = LinearSVC()\n",
    "sampler = SMOTE()\n",
    "\n",
    "param_grid = dict(selector__n_components=pca_components , linearsvm__loss = loss, linearsvm__tol = tol , linearsvm__C = c)\n",
    "\n",
    "pipe = Pipeline(steps=[ ('sampler', sampler), ('selector', selector), ('linearsvm' , linear_svm) ] , memory = 'tmp')\n",
    "\n",
    "gridsearch_class_report('SVM_linear', param_grid, pipe, X_train_minmax, y_train, X_test_minmax, y_test)"
   ]
  },
  {
   "cell_type": "markdown",
   "metadata": {
    "id": "bNSQNTNG7kSf"
   },
   "source": [
    "Ας δούμε με factor analysis"
   ]
  },
  {
   "cell_type": "code",
   "execution_count": 151,
   "metadata": {
    "colab": {
     "base_uri": "https://localhost:8080/"
    },
    "id": "NY0P43-5Bo0n",
    "outputId": "edc98284-a485-4ea4-e779-a66a90778857"
   },
   "outputs": [
    {
     "name": "stdout",
     "output_type": "stream",
     "text": [
      "Fitting 5 folds for each of 72 candidates, totalling 360 fits\n",
      "CPU times: user 17.8 s, sys: 11.2 s, total: 28.9 s\n",
      "Wall time: 8min 55s\n",
      "              precision    recall  f1-score   support\n",
      "\n",
      "           0       0.99      0.86      0.92      1978\n",
      "           1       0.15      0.72      0.25        68\n",
      "\n",
      "    accuracy                           0.85      2046\n",
      "   macro avg       0.57      0.79      0.58      2046\n",
      "weighted avg       0.96      0.85      0.90      2046\n",
      "\n",
      "Pipeline(memory='tmp',\n",
      "         steps=[('sampler', RandomOverSampler()),\n",
      "                ('selector', FactorAnalysis(n_components=60)),\n",
      "                ('linearsvm', LinearSVC(C=75, loss='hinge', tol=1e-14))])\n",
      "{'linearsvm__C': 75, 'linearsvm__loss': 'hinge', 'linearsvm__tol': 1e-14, 'selector__n_components': 60}\n",
      "Confusion matrix\n",
      "\n",
      "SVM_linear Classifier\n",
      "[[1699  279]\n",
      " [  19   49]]\n",
      "\n"
     ]
    },
    {
     "name": "stderr",
     "output_type": "stream",
     "text": [
      "/usr/local/lib/python3.7/dist-packages/sklearn/svm/_base.py:1208: ConvergenceWarning:\n",
      "\n",
      "Liblinear failed to converge, increase the number of iterations.\n",
      "\n"
     ]
    }
   ],
   "source": [
    "selector = FactorAnalysis()\n",
    "\n",
    "#dimensionality reduction params\n",
    "fa_components = [ 50 , 60 , 70 , 80 ]\n",
    "\n",
    "#linear_svm params\n",
    "loss = [\"hinge\", \"squared_hinge\"]     \n",
    "tol = [1e-3, 1e-10, 1e-14]           \n",
    "c = [ 72 , 73 , 75]\n",
    "\n",
    "linear_svm = LinearSVC()\n",
    "sampler = RandomOverSampler()\n",
    "\n",
    "param_grid = dict(selector__n_components=fa_components , linearsvm__loss = loss, linearsvm__tol = tol , linearsvm__C = c)\n",
    "\n",
    "pipe = Pipeline(steps=[ ('sampler', sampler), ('selector', selector), ('linearsvm' , linear_svm) ] , memory = 'tmp')\n",
    "\n",
    "gridsearch_class_report('SVM_linear', param_grid, pipe, X_train_minmax, y_train, X_test_minmax, y_test)"
   ]
  },
  {
   "cell_type": "markdown",
   "metadata": {
    "id": "x2HqdFBuqaSK"
   },
   "source": [
    "δοκιμάζω και με SMOTE"
   ]
  },
  {
   "cell_type": "code",
   "execution_count": 152,
   "metadata": {
    "colab": {
     "base_uri": "https://localhost:8080/"
    },
    "id": "BPERGOqDBxbP",
    "outputId": "b1205641-dbc5-472a-ebd1-78b20c5a8c70"
   },
   "outputs": [
    {
     "name": "stdout",
     "output_type": "stream",
     "text": [
      "Fitting 5 folds for each of 72 candidates, totalling 360 fits\n",
      "CPU times: user 24.1 s, sys: 16.2 s, total: 40.2 s\n",
      "Wall time: 8min 35s\n",
      "              precision    recall  f1-score   support\n",
      "\n",
      "           0       0.99      0.88      0.93      1978\n",
      "           1       0.16      0.68      0.25        68\n",
      "\n",
      "    accuracy                           0.87      2046\n",
      "   macro avg       0.57      0.78      0.59      2046\n",
      "weighted avg       0.96      0.87      0.91      2046\n",
      "\n",
      "Pipeline(memory='tmp',\n",
      "         steps=[('sampler', SMOTE()),\n",
      "                ('selector', FactorAnalysis(n_components=80)),\n",
      "                ('linearsvm', LinearSVC(C=75, loss='hinge', tol=0.001))])\n",
      "{'linearsvm__C': 75, 'linearsvm__loss': 'hinge', 'linearsvm__tol': 0.001, 'selector__n_components': 80}\n",
      "Confusion matrix\n",
      "\n",
      "SVM_linear Classifier\n",
      "[[1731  247]\n",
      " [  22   46]]\n",
      "\n"
     ]
    },
    {
     "name": "stderr",
     "output_type": "stream",
     "text": [
      "/usr/local/lib/python3.7/dist-packages/sklearn/svm/_base.py:1208: ConvergenceWarning:\n",
      "\n",
      "Liblinear failed to converge, increase the number of iterations.\n",
      "\n"
     ]
    }
   ],
   "source": [
    "selector = FactorAnalysis()\n",
    "\n",
    "#dimensionality reduction params\n",
    "fa_components = [ 50 , 60 , 70 , 80 ]\n",
    "\n",
    "#linear_svm params\n",
    "loss = [\"hinge\", \"squared_hinge\"]      \n",
    "tol = [1e-3, 1e-10, 1e-14 ]              \n",
    "c = [ 72 , 73 , 75]\n",
    "\n",
    "linear_svm = LinearSVC()\n",
    "sampler = SMOTE()\n",
    "\n",
    "param_grid = dict(selector__n_components=fa_components , linearsvm__loss = loss, linearsvm__tol = tol , linearsvm__C = c)\n",
    "\n",
    "pipe = Pipeline(steps=[ ('sampler', sampler), ('selector', selector), ('linearsvm' , linear_svm) ] , memory = 'tmp')\n",
    "\n",
    "gridsearch_class_report('SVM_linear', param_grid, pipe, X_train_minmax, y_train, X_test_minmax, y_test)"
   ]
  },
  {
   "cell_type": "markdown",
   "metadata": {
    "id": "t2QycBCEw3YY"
   },
   "source": [
    "Συμπεράσματα για linear kernel: \n",
    "- αφού βρούμε τις κατάλληλες υπερπαραμέτρους loss,tol,C το μοντέλο ισορροπεί γύρω από μία συγκεκριμένη απόδοση. Δηλαδή μικροαλλαγές δεν επιφέρουν ουσιαστική αλλαγή(βελτίωση) στην απόδοση και αυτό οφείλεται στο ότι τα δεδομένα μας δεν είναι γραμμικά διαχωρίσιμα.\n",
    "- καλύτερη απόδοση (της τάξεως του 1-2%) εμφανίζεται πάντα με SMOTE εξισορρόπηση ανεξάρτητα από την επιλογή dimensionality reduction μεθόδου.\n",
    "- για οποιαδήποτε dimensionality reduction μέθοδο(vth, pca, fa) η απόδοση παραμένει σταθερή. "
   ]
  },
  {
   "cell_type": "markdown",
   "metadata": {
    "id": "Tlye6La71Uqb"
   },
   "source": [
    "Για τους υπόλοιπους kernels θα χρησιμοποιήσω μόνο pca, fa ως μεθόδους μείωσης διάστασης."
   ]
  },
  {
   "cell_type": "code",
   "execution_count": 153,
   "metadata": {
    "colab": {
     "base_uri": "https://localhost:8080/"
    },
    "id": "pmPg-SwE0Fws",
    "outputId": "9cee837a-9fbc-44a8-9b93-05b905055bfb"
   },
   "outputs": [
    {
     "name": "stdout",
     "output_type": "stream",
     "text": [
      "[0.902020144985069, 0.9227661933291887, 0.9064074669693817, 0.9118719737116452, 0.8970413886103037, 0.9055320350285162]\n"
     ]
    }
   ],
   "source": [
    "print(f1_macro_scoreslist_SVM)"
   ]
  },
  {
   "cell_type": "markdown",
   "metadata": {
    "id": "lZXHGIWWDAt1"
   },
   "source": [
    "\n",
    "###RBF Kernel"
   ]
  },
  {
   "cell_type": "markdown",
   "metadata": {
    "id": "z_NGuhMKi8hl"
   },
   "source": [
    "Η Radial Basis Function που χρησιμοποιείται σε αυτόν τον kernel περιέχει την υπερπαράμετρο gamma."
   ]
  },
  {
   "cell_type": "code",
   "execution_count": 154,
   "metadata": {
    "colab": {
     "base_uri": "https://localhost:8080/"
    },
    "id": "NEaS2bglDZ6r",
    "outputId": "afa32492-8343-44e4-b49a-83f961168e62"
   },
   "outputs": [
    {
     "name": "stdout",
     "output_type": "stream",
     "text": [
      "Fitting 5 folds for each of 24 candidates, totalling 120 fits\n",
      "CPU times: user 2.12 s, sys: 190 ms, total: 2.31 s\n",
      "Wall time: 1min 24s\n",
      "              precision    recall  f1-score   support\n",
      "\n",
      "           0       0.98      0.98      0.98      1978\n",
      "           1       0.38      0.37      0.38        68\n",
      "\n",
      "    accuracy                           0.96      2046\n",
      "   macro avg       0.68      0.67      0.68      2046\n",
      "weighted avg       0.96      0.96      0.96      2046\n",
      "\n",
      "Pipeline(memory='tmp',\n",
      "         steps=[('sampler', RandomOverSampler()),\n",
      "                ('selector', PCA(n_components=80)), ('rbfsvc', SVC(C=135))])\n",
      "{'rbfsvc__C': 135, 'rbfsvc__gamma': 'scale', 'rbfsvc__tol': 0.001, 'selector__n_components': 80}\n",
      "Confusion matrix\n",
      "\n",
      "SVM_rbf Classifier\n",
      "[[1938   40]\n",
      " [  43   25]]\n",
      "\n"
     ]
    }
   ],
   "source": [
    "sampler = RandomOverSampler()\n",
    "selector = PCA()\n",
    "\n",
    "gamma = ['scale'] \n",
    "\n",
    "pca_components = [ 10, 40 , 70 , 80 ]\n",
    "tol = [1e-3, 1e-4] \n",
    "c = [  120, 130, 135] \n",
    "\n",
    "rbf_svc = SVC(kernel='rbf')\n",
    "\n",
    "param_grid = dict(selector__n_components=pca_components , rbfsvc__gamma = gamma,  rbfsvc__tol = tol , rbfsvc__C = c)\n",
    "\n",
    "pipe = Pipeline(steps=[ ('sampler', sampler), ('selector', selector), ('rbfsvc', rbf_svc) ] , memory = 'tmp')\n",
    "\n",
    "gridsearch_class_report('SVM_rbf', param_grid, pipe, X_train_minmax, y_train, X_test_minmax, y_test)"
   ]
  },
  {
   "cell_type": "markdown",
   "metadata": {
    "id": "iLSiMLZbIplr"
   },
   "source": [
    "Η κύρια υπερπαράμετρος είναι η gamma. Έπειτα από αρκετά πειράματα διαλέγω gamma = scale και δοκιμάζοντας διάφορες παραμέτρους διαλέγω C= 130 , tol=1e-3 και pca γύρω από το 80."
   ]
  },
  {
   "cell_type": "code",
   "execution_count": 155,
   "metadata": {
    "colab": {
     "base_uri": "https://localhost:8080/"
    },
    "id": "MCLJVVoMDC1u",
    "outputId": "3253f8da-f5c7-4aef-be4f-ca5aa2404165"
   },
   "outputs": [
    {
     "name": "stdout",
     "output_type": "stream",
     "text": [
      "Fitting 5 folds for each of 18 candidates, totalling 90 fits\n",
      "CPU times: user 1.23 s, sys: 43.3 ms, total: 1.27 s\n",
      "Wall time: 48.2 s\n",
      "              precision    recall  f1-score   support\n",
      "\n",
      "           0       0.98      0.98      0.98      1978\n",
      "           1       0.36      0.29      0.33        68\n",
      "\n",
      "    accuracy                           0.96      2046\n",
      "   macro avg       0.67      0.64      0.65      2046\n",
      "weighted avg       0.96      0.96      0.96      2046\n",
      "\n",
      "Pipeline(memory='tmp',\n",
      "         steps=[('sampler', SMOTE()), ('selector', PCA(n_components=80)),\n",
      "                ('rbfsvc', SVC(C=120, tol=1.0))])\n",
      "{'rbfsvc__C': 120, 'rbfsvc__gamma': 'scale', 'rbfsvc__tol': 1.0, 'selector__n_components': 80}\n",
      "Confusion matrix\n",
      "\n",
      "SVM_rbf Classifier\n",
      "[[1943   35]\n",
      " [  48   20]]\n",
      "\n"
     ]
    }
   ],
   "source": [
    "sampler = SMOTE()\n",
    "selector = PCA()\n",
    "\n",
    "gamma = ['scale'] # default scale\n",
    "\n",
    "pca_components = [ 70 , 80 , 90 ]\n",
    "tol = [1e-0,  1e-4 ] # default 1e-4\n",
    "c = [ 120, 130, 135] # default 1.0\n",
    "\n",
    "rbf_svc = SVC(kernel='rbf')\n",
    "\n",
    "param_grid = dict(selector__n_components=pca_components , rbfsvc__gamma = gamma,  rbfsvc__tol = tol , rbfsvc__C = c)\n",
    "\n",
    "pipe = Pipeline(steps=[ ('sampler', sampler), ('selector', selector), ('rbfsvc', rbf_svc) ] , memory = 'tmp')\n",
    "\n",
    "gridsearch_class_report('SVM_rbf', param_grid, pipe, X_train_minmax, y_train, X_test_minmax, y_test)"
   ]
  },
  {
   "cell_type": "markdown",
   "metadata": {
    "id": "STJ5CmSf5Q8m"
   },
   "source": [
    "Δοκιμάζουμε με fa:"
   ]
  },
  {
   "cell_type": "code",
   "execution_count": 156,
   "metadata": {
    "colab": {
     "base_uri": "https://localhost:8080/"
    },
    "id": "fDiBaT6CDjTU",
    "outputId": "f0fa2f22-439d-4586-9fc8-ca8c6d3c982a"
   },
   "outputs": [
    {
     "name": "stdout",
     "output_type": "stream",
     "text": [
      "Fitting 5 folds for each of 18 candidates, totalling 90 fits\n",
      "CPU times: user 19 s, sys: 15.6 s, total: 34.7 s\n",
      "Wall time: 1min 17s\n",
      "              precision    recall  f1-score   support\n",
      "\n",
      "           0       0.98      0.98      0.98      1978\n",
      "           1       0.33      0.28      0.30        68\n",
      "\n",
      "    accuracy                           0.96      2046\n",
      "   macro avg       0.65      0.63      0.64      2046\n",
      "weighted avg       0.95      0.96      0.96      2046\n",
      "\n",
      "Pipeline(memory='tmp',\n",
      "         steps=[('sampler', RandomOverSampler()),\n",
      "                ('selector', FactorAnalysis(n_components=80)),\n",
      "                ('rbfsvc', SVC(C=130, tol=1.0))])\n",
      "{'rbfsvc__C': 130, 'rbfsvc__gamma': 'scale', 'rbfsvc__tol': 1.0, 'selector__n_components': 80}\n",
      "Confusion matrix\n",
      "\n",
      "SVM_rbf Classifier\n",
      "[[1940   38]\n",
      " [  49   19]]\n",
      "\n"
     ]
    }
   ],
   "source": [
    "sampler = RandomOverSampler()\n",
    "selector = FactorAnalysis()\n",
    "\n",
    "gamma = ['scale'] # default scale\n",
    "\n",
    "pca_components = [ 70 , 80 , 90 ]\n",
    "tol = [1e-0,  1e-4 ] # default 1e-4\n",
    "c = [ 120, 130, 135] # default 1.0\n",
    "\n",
    "rbf_svc = SVC(kernel='rbf')\n",
    "\n",
    "param_grid = dict(selector__n_components=pca_components , rbfsvc__gamma = gamma,  rbfsvc__tol = tol , rbfsvc__C = c)\n",
    "\n",
    "pipe = Pipeline(steps=[ ('sampler', sampler), ('selector', selector), ('rbfsvc', rbf_svc) ] , memory = 'tmp')\n",
    "\n",
    "gridsearch_class_report('SVM_rbf', param_grid, pipe, X_train_minmax, y_train, X_test_minmax, y_test)"
   ]
  },
  {
   "cell_type": "code",
   "execution_count": 157,
   "metadata": {
    "colab": {
     "base_uri": "https://localhost:8080/"
    },
    "id": "-ktS-jf6DnFt",
    "outputId": "1508ced9-6288-4ece-eec0-4b43b10830b2"
   },
   "outputs": [
    {
     "name": "stdout",
     "output_type": "stream",
     "text": [
      "Fitting 5 folds for each of 18 candidates, totalling 90 fits\n",
      "CPU times: user 20.4 s, sys: 16.3 s, total: 36.6 s\n",
      "Wall time: 1min 39s\n",
      "              precision    recall  f1-score   support\n",
      "\n",
      "           0       0.98      0.98      0.98      1978\n",
      "           1       0.39      0.29      0.34        68\n",
      "\n",
      "    accuracy                           0.96      2046\n",
      "   macro avg       0.68      0.64      0.66      2046\n",
      "weighted avg       0.96      0.96      0.96      2046\n",
      "\n",
      "Pipeline(memory='tmp',\n",
      "         steps=[('sampler', SMOTE()),\n",
      "                ('selector', FactorAnalysis(n_components=90)),\n",
      "                ('rbfsvc', SVC(C=120, tol=1.0))])\n",
      "{'rbfsvc__C': 120, 'rbfsvc__gamma': 'scale', 'rbfsvc__tol': 1.0, 'selector__n_components': 90}\n",
      "Confusion matrix\n",
      "\n",
      "SVM_rbf Classifier\n",
      "[[1947   31]\n",
      " [  48   20]]\n",
      "\n"
     ]
    }
   ],
   "source": [
    "sampler = SMOTE()\n",
    "selector = FactorAnalysis()\n",
    "\n",
    "gamma = ['scale'] # default scale\n",
    "\n",
    "pca_components = [ 80 , 90 , 100 ]\n",
    "tol = [1e-0,  1e-4 ] # default 1e-4\n",
    "c = [ 100 , 120, 130] # default 1.0\n",
    "\n",
    "rbf_svc = SVC(kernel='rbf')\n",
    "\n",
    "param_grid = dict(selector__n_components=pca_components , rbfsvc__gamma = gamma,  rbfsvc__tol = tol , rbfsvc__C = c)\n",
    "\n",
    "pipe = Pipeline(steps=[ ('sampler', sampler), ('selector', selector), ('rbfsvc', rbf_svc) ] , memory = 'tmp')\n",
    "\n",
    "gridsearch_class_report('SVM_rbf', param_grid, pipe, X_train_minmax, y_train, X_test_minmax, y_test)"
   ]
  },
  {
   "cell_type": "markdown",
   "metadata": {
    "id": "qkwZ0aokdOVv"
   },
   "source": [
    "Συμπεράσματα για τον rbf kernel: \n",
    "- υπερέχει του linear kernel, διότι με το kernel trick αυξάνονται οι διαστάσεις και τα data διαχωρίζονται, οπότε η ταξινόμηση γίνεται πιο αποδοτικά.\n",
    "- καταλήξαμε στην μεταβληρή gamma = scale = 1 / (n_features * X.var()) = 10.4 αντί του auto. Επίσης παρατηρούμε επειδή έχουμε μικρό variance στα δεδομένα μας πως η τιμή του gamma αυξάνει και όταν βάλαμε δοκιμαστικά μεγαλύτερες τιμές gamma ο χρόνος βελτιώθηκε(απόδοση model) αλλά η απόδοση έπεσε (απόδοση test data). Αυτό συνάδει με την θεωρία.\n",
    "- και εδώ παρατηρούμε ότι βελτιώνεται η απόδοση κάθε φορά που χρησιμοποιούμε SMOTE oversampling.\n",
    "- υπάρχει βελτίωση απόδοσης (κατά 1%) με factor analysis έναντι της PCA ως τεχνική μείωσης διαστάσεων.\n",
    "- προφανώς καλύτερο από linear kernel "
   ]
  },
  {
   "cell_type": "code",
   "execution_count": 158,
   "metadata": {
    "colab": {
     "base_uri": "https://localhost:8080/"
    },
    "id": "RbELMt3AKDcA",
    "outputId": "0c6218cb-d06a-4198-f65b-a4e3b1aa9369"
   },
   "outputs": [
    {
     "name": "stdout",
     "output_type": "stream",
     "text": [
      "[0.902020144985069, 0.9227661933291887, 0.9064074669693817, 0.9118719737116452, 0.8970413886103037, 0.9055320350285162, 0.9589908881278699, 0.9573556938336575, 0.955665992236538, 0.9587126875435864]\n"
     ]
    }
   ],
   "source": [
    "print(f1_macro_scoreslist_SVM)"
   ]
  },
  {
   "cell_type": "markdown",
   "metadata": {
    "id": "cHGR-KQ8EK9R"
   },
   "source": [
    "###Poly Kernel"
   ]
  },
  {
   "cell_type": "markdown",
   "metadata": {
    "id": "bJ52GElGhwde"
   },
   "source": [
    "O poly(πολυωνυμικός) kernel έχει μια επιπλεόν υπερπαράμετρο, την degree, που είναι ο βαθμός του πολυωνύμου που χρησιμοποιούμε. Για degree=1 είναι περίπτωση linear kernel."
   ]
  },
  {
   "cell_type": "code",
   "execution_count": 159,
   "metadata": {
    "colab": {
     "base_uri": "https://localhost:8080/"
    },
    "id": "md1tXJnAX0e0",
    "outputId": "a73b5ed9-56af-4a8f-ebe3-a61eef5f5d86"
   },
   "outputs": [
    {
     "name": "stdout",
     "output_type": "stream",
     "text": [
      "Fitting 5 folds for each of 54 candidates, totalling 270 fits\n",
      "CPU times: user 2.58 s, sys: 349 ms, total: 2.93 s\n",
      "Wall time: 2min 19s\n",
      "              precision    recall  f1-score   support\n",
      "\n",
      "           0       0.98      0.97      0.97      1978\n",
      "           1       0.24      0.31      0.27        68\n",
      "\n",
      "    accuracy                           0.95      2046\n",
      "   macro avg       0.61      0.64      0.62      2046\n",
      "weighted avg       0.95      0.95      0.95      2046\n",
      "\n",
      "Pipeline(memory='tmp',\n",
      "         steps=[('sampler', RandomOverSampler()),\n",
      "                ('selector', PCA(n_components=50)),\n",
      "                ('polysvm', SVC(C=40, degree=4, kernel='poly'))])\n",
      "{'polysvm__C': 40, 'polysvm__degree': 4, 'polysvm__tol': 0.001, 'selector__n_components': 50}\n",
      "Confusion matrix\n",
      "\n",
      "SVM_poly Classifier\n",
      "[[1913   65]\n",
      " [  47   21]]\n",
      "\n"
     ]
    }
   ],
   "source": [
    "sampler = RandomOverSampler()\n",
    "\n",
    "selector = PCA()\n",
    "\n",
    "#dimensionality reduction params\n",
    "pca_components = [ 50 , 55 , 60 ]\n",
    "\n",
    "#poly_svm params\n",
    "degree = [ 3, 4 , 5]\n",
    "tol = [1e-3, 1e-4]                \n",
    "c = [30 , 40, 50 ]\n",
    "\n",
    "poly_svm = SVC(kernel='poly')\n",
    "\n",
    "param_grid = dict(selector__n_components=pca_components , polysvm__tol = tol , polysvm__C = c, polysvm__degree = degree)\n",
    "\n",
    "pipe = Pipeline(steps=[ ('sampler', sampler), ('selector', selector), ('polysvm' , poly_svm) ] , memory = 'tmp')\n",
    "\n",
    "gridsearch_class_report('SVM_poly', param_grid, pipe, X_train_minmax, y_train, X_test_minmax, y_test)"
   ]
  },
  {
   "cell_type": "markdown",
   "metadata": {
    "id": "YnJtFUVmXLQl"
   },
   "source": [
    "Έπειτα από αρκετές δοκιμές διαλέγουμε degree=4."
   ]
  },
  {
   "cell_type": "code",
   "execution_count": 160,
   "metadata": {
    "colab": {
     "base_uri": "https://localhost:8080/"
    },
    "id": "yAccdK63EQdX",
    "outputId": "8a8ef8c9-724b-4fc6-d911-4a306c7a6a05"
   },
   "outputs": [
    {
     "name": "stdout",
     "output_type": "stream",
     "text": [
      "Fitting 5 folds for each of 54 candidates, totalling 270 fits\n",
      "CPU times: user 3 s, sys: 485 ms, total: 3.49 s\n",
      "Wall time: 2min 40s\n",
      "              precision    recall  f1-score   support\n",
      "\n",
      "           0       0.98      0.96      0.97      1978\n",
      "           1       0.23      0.34      0.28        68\n",
      "\n",
      "    accuracy                           0.94      2046\n",
      "   macro avg       0.60      0.65      0.62      2046\n",
      "weighted avg       0.95      0.94      0.95      2046\n",
      "\n",
      "Pipeline(memory='tmp',\n",
      "         steps=[('sampler', SMOTE()), ('selector', PCA(n_components=55)),\n",
      "                ('polysvm', SVC(C=40, degree=4, kernel='poly'))])\n",
      "{'polysvm__C': 40, 'polysvm__degree': 4, 'polysvm__tol': 0.001, 'selector__n_components': 55}\n",
      "Confusion matrix\n",
      "\n",
      "SVM_poly Classifier\n",
      "[[1902   76]\n",
      " [  45   23]]\n",
      "\n"
     ]
    }
   ],
   "source": [
    "sampler = SMOTE()\n",
    "\n",
    "selector = PCA()\n",
    "\n",
    "#dimensionality reduction params\n",
    "pca_components = [ 50 , 55 , 60 ]\n",
    "\n",
    "#poly_svm params\n",
    "degree = [ 3, 4 , 5]\n",
    "tol = [1e-3, 1e-4]                \n",
    "c = [30 , 40, 50 ]\n",
    "\n",
    "poly_svm = SVC(kernel='poly')\n",
    "\n",
    "param_grid = dict(selector__n_components=pca_components , polysvm__tol = tol , polysvm__C = c , polysvm__degree= degree)\n",
    "\n",
    "pipe = Pipeline(steps=[ ('sampler', sampler), ('selector', selector), ('polysvm' , poly_svm) ] , memory = 'tmp')\n",
    "\n",
    "gridsearch_class_report('SVM_poly', param_grid, pipe, X_train_minmax, y_train, X_test_minmax, y_test)"
   ]
  },
  {
   "cell_type": "markdown",
   "metadata": {
    "id": "sqa6CaRpNIW5"
   },
   "source": [
    "Δοκιμάζουμε με FA :"
   ]
  },
  {
   "cell_type": "code",
   "execution_count": 161,
   "metadata": {
    "colab": {
     "base_uri": "https://localhost:8080/"
    },
    "id": "yVb-MrMvEWNd",
    "outputId": "c6a5728f-004d-4950-f2bd-8c7cec4471ad"
   },
   "outputs": [
    {
     "name": "stdout",
     "output_type": "stream",
     "text": [
      "Fitting 5 folds for each of 18 candidates, totalling 90 fits\n",
      "CPU times: user 14.5 s, sys: 11.2 s, total: 25.7 s\n",
      "Wall time: 1min 14s\n",
      "              precision    recall  f1-score   support\n",
      "\n",
      "           0       0.98      0.97      0.97      1978\n",
      "           1       0.26      0.35      0.30        68\n",
      "\n",
      "    accuracy                           0.95      2046\n",
      "   macro avg       0.62      0.66      0.64      2046\n",
      "weighted avg       0.95      0.95      0.95      2046\n",
      "\n",
      "Pipeline(memory='tmp',\n",
      "         steps=[('sampler', RandomOverSampler()),\n",
      "                ('selector', FactorAnalysis(n_components=70)),\n",
      "                ('polysvm', SVC(C=30, kernel='poly'))])\n",
      "{'polysvm__C': 30, 'polysvm__tol': 0.001, 'selector__n_components': 70}\n",
      "Confusion matrix\n",
      "\n",
      "SVM_poly Classifier\n",
      "[[1911   67]\n",
      " [  44   24]]\n",
      "\n"
     ]
    }
   ],
   "source": [
    "sampler = RandomOverSampler()\n",
    "selector = FactorAnalysis()\n",
    "\n",
    "#dimensionality reduction params\n",
    "fa_components = [ 60 , 70 , 80 ]\n",
    "\n",
    "#poly_svm params\n",
    "degree = [ 4 ]\n",
    "tol = [1e-3, 1e-4]                \n",
    "c = [30 , 40, 50 ]\n",
    "\n",
    "poly_svm = SVC(kernel='poly')\n",
    "\n",
    "param_grid = dict(selector__n_components=fa_components ,  polysvm__tol = tol , polysvm__C = c)\n",
    "\n",
    "pipe = Pipeline(steps=[ ('sampler', sampler), ('selector', selector), ('polysvm' , poly_svm) ] , memory = 'tmp')\n",
    "\n",
    "gridsearch_class_report('SVM_poly', param_grid, pipe, X_train_minmax, y_train, X_test_minmax, y_test)"
   ]
  },
  {
   "cell_type": "code",
   "execution_count": 162,
   "metadata": {
    "colab": {
     "base_uri": "https://localhost:8080/"
    },
    "id": "H1nK8LMHEY3n",
    "outputId": "165b2c7e-8b26-4aa9-aa8b-5d8e91723398"
   },
   "outputs": [
    {
     "name": "stdout",
     "output_type": "stream",
     "text": [
      "Fitting 5 folds for each of 18 candidates, totalling 90 fits\n",
      "CPU times: user 3.44 s, sys: 121 ms, total: 3.56 s\n",
      "Wall time: 1min 55s\n",
      "              precision    recall  f1-score   support\n",
      "\n",
      "           0       0.98      0.97      0.98      1978\n",
      "           1       0.31      0.35      0.33        68\n",
      "\n",
      "    accuracy                           0.95      2046\n",
      "   macro avg       0.64      0.66      0.65      2046\n",
      "weighted avg       0.96      0.95      0.95      2046\n",
      "\n",
      "Pipeline(memory='tmp',\n",
      "         steps=[('sampler', SMOTE()),\n",
      "                ('selector', FactorAnalysis(n_components=80)),\n",
      "                ('polysvm', SVC(C=25, degree=4, kernel='poly'))])\n",
      "{'polysvm__C': 25, 'polysvm__degree': 4, 'polysvm__tol': 0.001, 'selector__n_components': 80}\n",
      "Confusion matrix\n",
      "\n",
      "SVM_poly Classifier\n",
      "[[1924   54]\n",
      " [  44   24]]\n",
      "\n"
     ]
    }
   ],
   "source": [
    "sampler = SMOTE()\n",
    "selector = FactorAnalysis()\n",
    "\n",
    "#dimensionality reduction params\n",
    "fa_components = [ 60 , 70 , 80 ]\n",
    "\n",
    "#poly_svm params\n",
    "degree = [ 4 ]\n",
    "tol = [1e-3, 1e-4]                \n",
    "c = [25 , 30 , 40]\n",
    "\n",
    "poly_svm = SVC(kernel='poly')\n",
    "\n",
    "param_grid = dict(selector__n_components=fa_components , polysvm__tol = tol , polysvm__C = c , polysvm__degree= degree)\n",
    "\n",
    "pipe = Pipeline(steps=[ ('sampler', sampler), ('selector', selector), ('polysvm' , poly_svm) ] , memory = 'tmp')\n",
    "\n",
    "gridsearch_class_report('SVM_poly', param_grid, pipe, X_train_minmax, y_train, X_test_minmax, y_test)"
   ]
  },
  {
   "cell_type": "markdown",
   "metadata": {
    "id": "X14jnXB3bbYN"
   },
   "source": [
    "Συμπεράσματα για τον poly kernel:\n",
    "- Καταλήγουμε σε βαθμό πολυωνύμου 4 και παρατηρούμε ότι όσο αυξάνουμε τον βαθμό του πολυωνύμου τόσο αυξάνεται ο χρόνος \"εκπαίδευσης\" του μοντέλου.\n",
    "- και εδώ το SMOTE βελτιώνει την απόδοση κατά 1%\n",
    "- η απόδοση παραμένει σταθερή ανεξάρτητα από την επιλογή μεθόδου μείωσης διάστασης\n"
   ]
  },
  {
   "cell_type": "code",
   "execution_count": 163,
   "metadata": {
    "colab": {
     "base_uri": "https://localhost:8080/"
    },
    "id": "jUROCG_CM35E",
    "outputId": "22bf99cd-f212-4a94-d9c0-22b369a8def4"
   },
   "outputs": [
    {
     "name": "stdout",
     "output_type": "stream",
     "text": [
      "[0.902020144985069, 0.9227661933291887, 0.9064074669693817, 0.9118719737116452, 0.8970413886103037, 0.9055320350285162, 0.9589908881278699, 0.9573556938336575, 0.955665992236538, 0.9587126875435864, 0.9483330826242733, 0.9461156913622929, 0.9495130696399235, 0.9536813235593432]\n"
     ]
    }
   ],
   "source": [
    "print(f1_macro_scoreslist_SVM)"
   ]
  },
  {
   "cell_type": "markdown",
   "metadata": {
    "id": "JGPfY8IYmp3L"
   },
   "source": [
    "#Γενικά Συμπεράσματα"
   ]
  },
  {
   "cell_type": "markdown",
   "metadata": {
    "id": "jpHA6gs9eI75"
   },
   "source": [
    "Παραθέτουμε παρακάτω plot σύγκρισης της απόδοσης πριν(out-of-the-box) και μετά(βελτιστοποίηση υπερπαραμέτρων). "
   ]
  },
  {
   "cell_type": "code",
   "execution_count": 164,
   "metadata": {
    "id": "XMCtpzf55N0o"
   },
   "outputs": [],
   "source": [
    "from statistics import mean"
   ]
  },
  {
   "cell_type": "code",
   "execution_count": 170,
   "metadata": {
    "id": "nNyCN8bApew0"
   },
   "outputs": [],
   "source": [
    "f1_default = F1_macro_scoreslist"
   ]
  },
  {
   "cell_type": "code",
   "execution_count": 166,
   "metadata": {
    "colab": {
     "base_uri": "https://localhost:8080/"
    },
    "id": "3rCLmhpNQRp2",
    "outputId": "ae7f429f-1a5a-45d3-f5d3-a15c7bdc90e9"
   },
   "outputs": [
    {
     "name": "stdout",
     "output_type": "stream",
     "text": [
      "[0.5209093908656456, 0.5168831168831168, 0.49155069582504973, 0.49155069582504973]\n",
      "[0.9486803519061584, 0.9120234604105572, 0.9506353861192571, 0.4521016617790811, 0.9198435972629521, 0.9349951124144672, 0.9188660801564027, 0.9501466275659824, 0.9501466275659824, 0.38758553274682306, 0.28885630498533726, 0.19696969696969696]\n",
      "[0.902020144985069, 0.9227661933291887, 0.9064074669693817, 0.9118719737116452, 0.8970413886103037, 0.9055320350285162, 0.9589908881278699, 0.9573556938336575, 0.955665992236538, 0.9587126875435864, 0.9483330826242733, 0.9461156913622929, 0.9495130696399235, 0.9536813235593432]\n"
     ]
    }
   ],
   "source": [
    "print(F1_macro_scoreslist)  # του out-of-the-box  #4\n",
    "\n",
    "print(f1_macro_optimized_MLP) # του MLP #12    ->  4*3\n",
    "\n",
    "print(f1_macro_scoreslist_SVM)  # του SVM # 15"
   ]
  },
  {
   "cell_type": "code",
   "execution_count": 167,
   "metadata": {
    "colab": {
     "base_uri": "https://localhost:8080/"
    },
    "id": "MuYCDjtuRALE",
    "outputId": "87093615-4fa0-44f4-d110-b27a7cf42ccd"
   },
   "outputs": [
    {
     "name": "stdout",
     "output_type": "stream",
     "text": [
      "0.9506353861192571\n"
     ]
    }
   ],
   "source": [
    "#MLP\n",
    "f1_macro_MLP_splitted = [f1_macro_optimized_MLP[x:x+3] for x in range(0, 12, 3)]\n",
    "f1_macro_MLP_splitted\n",
    "\n",
    "f1_macro_MLP_max = [max(sublist) for sublist in f1_macro_MLP_splitted]\n",
    "\n",
    "f1_macro_MLP = max(f1_macro_MLP_max) \n",
    "\n",
    "print(f1_macro_MLP)"
   ]
  },
  {
   "cell_type": "code",
   "execution_count": 168,
   "metadata": {
    "colab": {
     "base_uri": "https://localhost:8080/"
    },
    "id": "cRU4HIo7UhKM",
    "outputId": "568b8448-7ab1-4dce-e5a2-166d3206db65"
   },
   "outputs": [
    {
     "data": {
      "text/plain": [
       "[0.9506353861192571,\n",
       " 0.9227661933291887,\n",
       " 0.9587126875435864,\n",
       " 0.9536813235593432]"
      ]
     },
     "execution_count": 168,
     "metadata": {},
     "output_type": "execute_result"
    }
   ],
   "source": [
    "#SVM\n",
    "f1_macro_SVM_kernel = max(f1_macro_scoreslist_SVM[0:6])\n",
    "\n",
    "f1_macro_SVM_rbf = max(f1_macro_scoreslist_SVM[7:10])\n",
    "\n",
    "f1_macro_SVM_poly = max(f1_macro_scoreslist_SVM[11:14])\n",
    "\n",
    "f1_optimized_values = [f1_macro_MLP , f1_macro_SVM_kernel , f1_macro_SVM_rbf , f1_macro_SVM_poly]\n",
    "f1_optimized_values"
   ]
  },
  {
   "cell_type": "code",
   "execution_count": 171,
   "metadata": {
    "colab": {
     "base_uri": "https://localhost:8080/",
     "height": 296
    },
    "id": "HFmeDDRRiPCd",
    "outputId": "ed9bb857-bf41-49f7-8288-76b7758e342e"
   },
   "outputs": [
    {
     "data": {
      "image/png": "[encoded data removed]",
      "text/plain": [
       "<Figure size 432x288 with 1 Axes>"
      ]
     },
     "metadata": {
      "needs_background": "light"
     },
     "output_type": "display_data"
    }
   ],
   "source": [
    "#plot\n",
    "n=4\n",
    "r = np.arange(n)\n",
    "width = 0.25\n",
    "  \n",
    "  \n",
    "percent_f1_default = [element * 100 for element in f1_default]  \n",
    "\n",
    "percent_f1_optimized_values = [element * 100 for element in f1_optimized_values]\n",
    "\n",
    "plt.bar(r, percent_f1_default, color = 'g', width = width, edgecolor = 'black')\n",
    "plt.bar(r + width, percent_f1_optimized_values , color = 'b', width = width, edgecolor = 'black')\n",
    "  \n",
    "plt.xlabel(\"model\")\n",
    "plt.ylabel(\"F1 macro score\")\n",
    "plt.title(\"F1 macro score:  default vs optimized\")\n",
    "  \n",
    "# plt.grid(linestyle='--')\n",
    "plt.xticks(r + width/2, ['MLP','SVM_linear','SVM_rbf','SVM_poly'])\n",
    "  \n",
    "plt.show()"
   ]
  },
  {
   "cell_type": "markdown",
   "metadata": {
    "id": "FPMZU1PVWbx0"
   },
   "source": [
    "|   | MLP  | SVM_linear   |  SVM_rbf  | SVM_poly |\n",
    "|---|---|---|---|---|\n",
    "|   |0.9506353861192571 |0.9227661933291887 |0.9587126875435864 |0.9536813235593432 \n",
    "|   |   |   |   |   |"
   ]
  },
  {
   "cell_type": "markdown",
   "metadata": {
    "id": "PBB_WWvVVH5Z"
   },
   "source": [
    "Γενικά συμπεράσματα ύστερα από αρκετές \"εκπαιδεύσης\" του μοντέλου:\n",
    "- βελτιώνεται ουσιαστικά η απόδοση με την βελτιστοποίηση, όπως ήταν και ο στόχος\n",
    "- ο kernel rbf έχει τη βέλτιστη απόδοση πάντα και ακολουθεί ο πολυωνυμικός με πολυώνυμο βαθμού 4. Ο kernel linear έχει τη χειρότερη, όπως αναμενόταν, αφού τα data δεν είναι γραμμικά διαχωρίσιμα.\n",
    "- το MLP έχει αρκετά καλή απόδοση , καλύτερη από του linear σε κάθε επανάληψη που έτρεξα, ωστόσο δεν έχει σταθερή απόδοση, υπάρχουν απότομες διακυμάνσεις μεταξύ 0.93-0.95. Αυτό οφείλεται στο ότι το MLP έχει μη κυρτή συνάρτηση κόστους με πολλές υπερπαραμέτρους, οπότε είναι δύσκολο να βρεθούν τιμές για όλες.\n",
    "- Η χρήση του framework Optuna για την μελέτη απόδοσης του MLP προσφέρει ταχύτητα σε αντίθεση με το scikit learn."
   ]
  },
  {
   "cell_type": "markdown",
   "metadata": {
    "id": "Eoj3jAvF-VgH"
   },
   "source": [
    "#Πηγές"
   ]
  },
  {
   "cell_type": "markdown",
   "metadata": {
    "id": "DZMunila-YOG"
   },
   "source": [
    "https://www.sciencedirect.com/science/article/pii/S0377221716000412\n",
    "\n",
    "https://simonhessner.de/why-are-precision-recall-and-f1-score-equal-when-using-micro-averaging-in-a-multi-class-problem/\n",
    "\n",
    "https://journals.plos.org/plosone/article?id=10.1371/journal.pone.0177678\n",
    "\n",
    "https://towardsdatascience.com/svm-classifier-and-rbf-kernel-how-to-make-better-models-in-python-73bb4914af5b\n",
    "\n",
    "https://github.com/optuna/optuna-examples/blob/main/sklearn/sklearn_simple.py\n",
    "\n",
    "\n",
    "\n",
    "\n",
    "\n"
   ]
  }
 ],
 "metadata": {
  "colab": {
   "collapsed_sections": [
    "pnRIwOa19mii"
   ],
   "name": "Copy of kaggle_data.ipynb",
   "provenance": []
  },
  "kernelspec": {
   "display_name": "Python 3",
   "language": "python",
   "name": "python3"
  },
  "language_info": {
   "codemirror_mode": {
    "name": "ipython",
    "version": 3
   },
   "file_extension": ".py",
   "mimetype": "text/x-python",
   "name": "python",
   "nbconvert_exporter": "python",
   "pygments_lexer": "ipython3",
   "version": "3.7.4"
  }
 },
 "nbformat": 4,
 "nbformat_minor": 1
}
