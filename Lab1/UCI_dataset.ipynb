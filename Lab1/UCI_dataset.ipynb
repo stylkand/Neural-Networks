{
  "cells": [
    {
      "cell_type": "markdown",
      "metadata": {
        "id": "MffS62lP6bZZ"
      },
      "source": [
        "# Mount Drive"
      ]
    },
    {
      "cell_type": "code",
      "execution_count": 2,
      "metadata": {
        "colab": {
          "base_uri": "https://localhost:8080/"
        },
        "id": "2IrfnqSx1t8x",
        "outputId": "b50d8232-a6cd-416c-d665-3e91c92b9e6d"
      },
      "outputs": [
        {
          "name": "stdout",
          "output_type": "stream",
          "text": [
            "Mounted at /content/drive\n"
          ]
        }
      ],
      "source": [
        "#Σε πρώτη φάση θα κάνω mount το google drive, ώστε να μην χρειάζεται να φορτώνω τα δεδομένα   κάθε φορά από τον υπολογιστή μου\n",
        "\n",
        "from google.colab import drive\n",
        "drive.mount('/content/drive')"
      ]
    },
    {
      "cell_type": "code",
      "execution_count": 3,
      "metadata": {
        "colab": {
          "base_uri": "https://localhost:8080/"
        },
        "id": "1GGiqpVV5BxT",
        "outputId": "b4a7afec-8370-4c61-a045-7d186b390136"
      },
      "outputs": [
        {
          "name": "stdout",
          "output_type": "stream",
          "text": [
            "'Colab Notebooks'   datasets  'ergastirio 3'  'gari '   gkar   εκλογες\n"
          ]
        }
      ],
      "source": [
        "!ls \"/content/drive/MyDrive\""
      ]
    },
    {
      "cell_type": "markdown",
      "metadata": {
        "id": "iP5sx2466yoU"
      },
      "source": [
        "# Imports"
      ]
    },
    {
      "cell_type": "code",
      "execution_count": 4,
      "metadata": {
        "id": "VbtQ-uTC6-1m"
      },
      "outputs": [],
      "source": [
        "#add all the libraries i need\n",
        "import pandas as pd\n",
        "import numpy as np"
      ]
    },
    {
      "cell_type": "markdown",
      "metadata": {
        "id": "z5ajVIAY7Ugg"
      },
      "source": [
        "# **Μέρος 1. UCI dataset**"
      ]
    },
    {
      "cell_type": "markdown",
      "metadata": {
        "id": "tOanJzKo7sq_"
      },
      "source": [
        "## Εισαγωγή και επισκόπηση"
      ]
    },
    {
      "cell_type": "markdown",
      "metadata": {
        "id": "zZvrvFY-8a7l"
      },
      "source": [
        "Θα εισάγουμε τα δεδομένα σε dataframes απευθείας από τα αρχεία που βρίσκονται αποθηκευμένα στο drive μας. Όπως ζητήθηκε, τα κάνουμε concatenate ώστε να επιλέξουμε αργότερα εμείς την αναλογία training/test data."
      ]
    },
    {
      "cell_type": "code",
      "execution_count": 5,
      "metadata": {
        "colab": {
          "base_uri": "https://localhost:8080/",
          "height": 418
        },
        "id": "Dg0wpc0k8lGa",
        "outputId": "c4f87c23-c900-4ce3-ea34-5e9c5f6d2811"
      },
      "outputs": [
        {
          "data": {
            "text/html": [
              "<div>\n",
              "<style scoped>\n",
              "    .dataframe tbody tr th:only-of-type {\n",
              "        vertical-align: middle;\n",
              "    }\n",
              "\n",
              "    .dataframe tbody tr th {\n",
              "        vertical-align: top;\n",
              "    }\n",
              "\n",
              "    .dataframe thead th {\n",
              "        text-align: right;\n",
              "    }\n",
              "</style>\n",
              "<table border=\"1\" class=\"dataframe\">\n",
              "  <thead>\n",
              "    <tr style=\"text-align: right;\">\n",
              "      <th></th>\n",
              "      <th>0</th>\n",
              "      <th>1</th>\n",
              "      <th>2</th>\n",
              "      <th>3</th>\n",
              "      <th>4</th>\n",
              "      <th>5</th>\n",
              "      <th>6</th>\n",
              "      <th>7</th>\n",
              "      <th>8</th>\n",
              "      <th>9</th>\n",
              "      <th>10</th>\n",
              "      <th>11</th>\n",
              "      <th>12</th>\n",
              "      <th>13</th>\n",
              "      <th>14</th>\n",
              "      <th>15</th>\n",
              "      <th>16</th>\n",
              "      <th>17</th>\n",
              "      <th>18</th>\n",
              "      <th>19</th>\n",
              "      <th>20</th>\n",
              "      <th>21</th>\n",
              "      <th>22</th>\n",
              "      <th>23</th>\n",
              "      <th>24</th>\n",
              "      <th>25</th>\n",
              "      <th>26</th>\n",
              "      <th>27</th>\n",
              "      <th>28</th>\n",
              "      <th>29</th>\n",
              "      <th>30</th>\n",
              "      <th>31</th>\n",
              "      <th>32</th>\n",
              "      <th>33</th>\n",
              "      <th>34</th>\n",
              "      <th>35</th>\n",
              "      <th>36</th>\n",
              "    </tr>\n",
              "  </thead>\n",
              "  <tbody>\n",
              "    <tr>\n",
              "      <th>0</th>\n",
              "      <td>92</td>\n",
              "      <td>115</td>\n",
              "      <td>120</td>\n",
              "      <td>94</td>\n",
              "      <td>84</td>\n",
              "      <td>102</td>\n",
              "      <td>106</td>\n",
              "      <td>79</td>\n",
              "      <td>84</td>\n",
              "      <td>102</td>\n",
              "      <td>102</td>\n",
              "      <td>83</td>\n",
              "      <td>101</td>\n",
              "      <td>126</td>\n",
              "      <td>133</td>\n",
              "      <td>103</td>\n",
              "      <td>92</td>\n",
              "      <td>112</td>\n",
              "      <td>118</td>\n",
              "      <td>85</td>\n",
              "      <td>84</td>\n",
              "      <td>103</td>\n",
              "      <td>104</td>\n",
              "      <td>81</td>\n",
              "      <td>102</td>\n",
              "      <td>126</td>\n",
              "      <td>134</td>\n",
              "      <td>104</td>\n",
              "      <td>88</td>\n",
              "      <td>121</td>\n",
              "      <td>128</td>\n",
              "      <td>100</td>\n",
              "      <td>84</td>\n",
              "      <td>107</td>\n",
              "      <td>113</td>\n",
              "      <td>87</td>\n",
              "      <td>3</td>\n",
              "    </tr>\n",
              "    <tr>\n",
              "      <th>1</th>\n",
              "      <td>84</td>\n",
              "      <td>102</td>\n",
              "      <td>106</td>\n",
              "      <td>79</td>\n",
              "      <td>84</td>\n",
              "      <td>102</td>\n",
              "      <td>102</td>\n",
              "      <td>83</td>\n",
              "      <td>80</td>\n",
              "      <td>102</td>\n",
              "      <td>102</td>\n",
              "      <td>79</td>\n",
              "      <td>92</td>\n",
              "      <td>112</td>\n",
              "      <td>118</td>\n",
              "      <td>85</td>\n",
              "      <td>84</td>\n",
              "      <td>103</td>\n",
              "      <td>104</td>\n",
              "      <td>81</td>\n",
              "      <td>84</td>\n",
              "      <td>99</td>\n",
              "      <td>104</td>\n",
              "      <td>78</td>\n",
              "      <td>88</td>\n",
              "      <td>121</td>\n",
              "      <td>128</td>\n",
              "      <td>100</td>\n",
              "      <td>84</td>\n",
              "      <td>107</td>\n",
              "      <td>113</td>\n",
              "      <td>87</td>\n",
              "      <td>84</td>\n",
              "      <td>99</td>\n",
              "      <td>104</td>\n",
              "      <td>79</td>\n",
              "      <td>3</td>\n",
              "    </tr>\n",
              "    <tr>\n",
              "      <th>2</th>\n",
              "      <td>84</td>\n",
              "      <td>102</td>\n",
              "      <td>102</td>\n",
              "      <td>83</td>\n",
              "      <td>80</td>\n",
              "      <td>102</td>\n",
              "      <td>102</td>\n",
              "      <td>79</td>\n",
              "      <td>84</td>\n",
              "      <td>94</td>\n",
              "      <td>102</td>\n",
              "      <td>79</td>\n",
              "      <td>84</td>\n",
              "      <td>103</td>\n",
              "      <td>104</td>\n",
              "      <td>81</td>\n",
              "      <td>84</td>\n",
              "      <td>99</td>\n",
              "      <td>104</td>\n",
              "      <td>78</td>\n",
              "      <td>84</td>\n",
              "      <td>99</td>\n",
              "      <td>104</td>\n",
              "      <td>81</td>\n",
              "      <td>84</td>\n",
              "      <td>107</td>\n",
              "      <td>113</td>\n",
              "      <td>87</td>\n",
              "      <td>84</td>\n",
              "      <td>99</td>\n",
              "      <td>104</td>\n",
              "      <td>79</td>\n",
              "      <td>84</td>\n",
              "      <td>99</td>\n",
              "      <td>104</td>\n",
              "      <td>79</td>\n",
              "      <td>3</td>\n",
              "    </tr>\n",
              "    <tr>\n",
              "      <th>3</th>\n",
              "      <td>80</td>\n",
              "      <td>102</td>\n",
              "      <td>102</td>\n",
              "      <td>79</td>\n",
              "      <td>84</td>\n",
              "      <td>94</td>\n",
              "      <td>102</td>\n",
              "      <td>79</td>\n",
              "      <td>80</td>\n",
              "      <td>94</td>\n",
              "      <td>98</td>\n",
              "      <td>76</td>\n",
              "      <td>84</td>\n",
              "      <td>99</td>\n",
              "      <td>104</td>\n",
              "      <td>78</td>\n",
              "      <td>84</td>\n",
              "      <td>99</td>\n",
              "      <td>104</td>\n",
              "      <td>81</td>\n",
              "      <td>76</td>\n",
              "      <td>99</td>\n",
              "      <td>104</td>\n",
              "      <td>81</td>\n",
              "      <td>84</td>\n",
              "      <td>99</td>\n",
              "      <td>104</td>\n",
              "      <td>79</td>\n",
              "      <td>84</td>\n",
              "      <td>99</td>\n",
              "      <td>104</td>\n",
              "      <td>79</td>\n",
              "      <td>84</td>\n",
              "      <td>103</td>\n",
              "      <td>104</td>\n",
              "      <td>79</td>\n",
              "      <td>3</td>\n",
              "    </tr>\n",
              "    <tr>\n",
              "      <th>4</th>\n",
              "      <td>84</td>\n",
              "      <td>94</td>\n",
              "      <td>102</td>\n",
              "      <td>79</td>\n",
              "      <td>80</td>\n",
              "      <td>94</td>\n",
              "      <td>98</td>\n",
              "      <td>76</td>\n",
              "      <td>80</td>\n",
              "      <td>102</td>\n",
              "      <td>102</td>\n",
              "      <td>79</td>\n",
              "      <td>84</td>\n",
              "      <td>99</td>\n",
              "      <td>104</td>\n",
              "      <td>81</td>\n",
              "      <td>76</td>\n",
              "      <td>99</td>\n",
              "      <td>104</td>\n",
              "      <td>81</td>\n",
              "      <td>76</td>\n",
              "      <td>99</td>\n",
              "      <td>108</td>\n",
              "      <td>85</td>\n",
              "      <td>84</td>\n",
              "      <td>99</td>\n",
              "      <td>104</td>\n",
              "      <td>79</td>\n",
              "      <td>84</td>\n",
              "      <td>103</td>\n",
              "      <td>104</td>\n",
              "      <td>79</td>\n",
              "      <td>79</td>\n",
              "      <td>107</td>\n",
              "      <td>109</td>\n",
              "      <td>87</td>\n",
              "      <td>3</td>\n",
              "    </tr>\n",
              "    <tr>\n",
              "      <th>...</th>\n",
              "      <td>...</td>\n",
              "      <td>...</td>\n",
              "      <td>...</td>\n",
              "      <td>...</td>\n",
              "      <td>...</td>\n",
              "      <td>...</td>\n",
              "      <td>...</td>\n",
              "      <td>...</td>\n",
              "      <td>...</td>\n",
              "      <td>...</td>\n",
              "      <td>...</td>\n",
              "      <td>...</td>\n",
              "      <td>...</td>\n",
              "      <td>...</td>\n",
              "      <td>...</td>\n",
              "      <td>...</td>\n",
              "      <td>...</td>\n",
              "      <td>...</td>\n",
              "      <td>...</td>\n",
              "      <td>...</td>\n",
              "      <td>...</td>\n",
              "      <td>...</td>\n",
              "      <td>...</td>\n",
              "      <td>...</td>\n",
              "      <td>...</td>\n",
              "      <td>...</td>\n",
              "      <td>...</td>\n",
              "      <td>...</td>\n",
              "      <td>...</td>\n",
              "      <td>...</td>\n",
              "      <td>...</td>\n",
              "      <td>...</td>\n",
              "      <td>...</td>\n",
              "      <td>...</td>\n",
              "      <td>...</td>\n",
              "      <td>...</td>\n",
              "      <td>...</td>\n",
              "    </tr>\n",
              "    <tr>\n",
              "      <th>6430</th>\n",
              "      <td>60</td>\n",
              "      <td>83</td>\n",
              "      <td>96</td>\n",
              "      <td>85</td>\n",
              "      <td>64</td>\n",
              "      <td>87</td>\n",
              "      <td>100</td>\n",
              "      <td>88</td>\n",
              "      <td>64</td>\n",
              "      <td>83</td>\n",
              "      <td>104</td>\n",
              "      <td>88</td>\n",
              "      <td>59</td>\n",
              "      <td>83</td>\n",
              "      <td>100</td>\n",
              "      <td>83</td>\n",
              "      <td>63</td>\n",
              "      <td>87</td>\n",
              "      <td>100</td>\n",
              "      <td>87</td>\n",
              "      <td>63</td>\n",
              "      <td>83</td>\n",
              "      <td>104</td>\n",
              "      <td>87</td>\n",
              "      <td>66</td>\n",
              "      <td>91</td>\n",
              "      <td>104</td>\n",
              "      <td>92</td>\n",
              "      <td>66</td>\n",
              "      <td>87</td>\n",
              "      <td>108</td>\n",
              "      <td>89</td>\n",
              "      <td>63</td>\n",
              "      <td>83</td>\n",
              "      <td>104</td>\n",
              "      <td>85</td>\n",
              "      <td>1</td>\n",
              "    </tr>\n",
              "    <tr>\n",
              "      <th>6431</th>\n",
              "      <td>64</td>\n",
              "      <td>79</td>\n",
              "      <td>100</td>\n",
              "      <td>85</td>\n",
              "      <td>56</td>\n",
              "      <td>71</td>\n",
              "      <td>96</td>\n",
              "      <td>85</td>\n",
              "      <td>56</td>\n",
              "      <td>68</td>\n",
              "      <td>91</td>\n",
              "      <td>81</td>\n",
              "      <td>63</td>\n",
              "      <td>79</td>\n",
              "      <td>100</td>\n",
              "      <td>87</td>\n",
              "      <td>59</td>\n",
              "      <td>75</td>\n",
              "      <td>96</td>\n",
              "      <td>87</td>\n",
              "      <td>59</td>\n",
              "      <td>72</td>\n",
              "      <td>96</td>\n",
              "      <td>83</td>\n",
              "      <td>63</td>\n",
              "      <td>83</td>\n",
              "      <td>100</td>\n",
              "      <td>85</td>\n",
              "      <td>66</td>\n",
              "      <td>83</td>\n",
              "      <td>100</td>\n",
              "      <td>85</td>\n",
              "      <td>63</td>\n",
              "      <td>83</td>\n",
              "      <td>100</td>\n",
              "      <td>81</td>\n",
              "      <td>1</td>\n",
              "    </tr>\n",
              "    <tr>\n",
              "      <th>6432</th>\n",
              "      <td>56</td>\n",
              "      <td>68</td>\n",
              "      <td>91</td>\n",
              "      <td>81</td>\n",
              "      <td>56</td>\n",
              "      <td>64</td>\n",
              "      <td>91</td>\n",
              "      <td>81</td>\n",
              "      <td>53</td>\n",
              "      <td>64</td>\n",
              "      <td>83</td>\n",
              "      <td>78</td>\n",
              "      <td>59</td>\n",
              "      <td>72</td>\n",
              "      <td>96</td>\n",
              "      <td>83</td>\n",
              "      <td>59</td>\n",
              "      <td>75</td>\n",
              "      <td>96</td>\n",
              "      <td>75</td>\n",
              "      <td>59</td>\n",
              "      <td>75</td>\n",
              "      <td>89</td>\n",
              "      <td>75</td>\n",
              "      <td>63</td>\n",
              "      <td>83</td>\n",
              "      <td>100</td>\n",
              "      <td>81</td>\n",
              "      <td>59</td>\n",
              "      <td>87</td>\n",
              "      <td>96</td>\n",
              "      <td>81</td>\n",
              "      <td>63</td>\n",
              "      <td>83</td>\n",
              "      <td>92</td>\n",
              "      <td>74</td>\n",
              "      <td>5</td>\n",
              "    </tr>\n",
              "    <tr>\n",
              "      <th>6433</th>\n",
              "      <td>56</td>\n",
              "      <td>68</td>\n",
              "      <td>87</td>\n",
              "      <td>74</td>\n",
              "      <td>60</td>\n",
              "      <td>71</td>\n",
              "      <td>91</td>\n",
              "      <td>81</td>\n",
              "      <td>60</td>\n",
              "      <td>64</td>\n",
              "      <td>104</td>\n",
              "      <td>99</td>\n",
              "      <td>59</td>\n",
              "      <td>79</td>\n",
              "      <td>89</td>\n",
              "      <td>71</td>\n",
              "      <td>63</td>\n",
              "      <td>79</td>\n",
              "      <td>93</td>\n",
              "      <td>75</td>\n",
              "      <td>63</td>\n",
              "      <td>68</td>\n",
              "      <td>109</td>\n",
              "      <td>92</td>\n",
              "      <td>59</td>\n",
              "      <td>83</td>\n",
              "      <td>96</td>\n",
              "      <td>74</td>\n",
              "      <td>59</td>\n",
              "      <td>83</td>\n",
              "      <td>92</td>\n",
              "      <td>74</td>\n",
              "      <td>59</td>\n",
              "      <td>83</td>\n",
              "      <td>92</td>\n",
              "      <td>70</td>\n",
              "      <td>5</td>\n",
              "    </tr>\n",
              "    <tr>\n",
              "      <th>6434</th>\n",
              "      <td>60</td>\n",
              "      <td>71</td>\n",
              "      <td>91</td>\n",
              "      <td>81</td>\n",
              "      <td>60</td>\n",
              "      <td>64</td>\n",
              "      <td>104</td>\n",
              "      <td>99</td>\n",
              "      <td>56</td>\n",
              "      <td>64</td>\n",
              "      <td>108</td>\n",
              "      <td>96</td>\n",
              "      <td>63</td>\n",
              "      <td>79</td>\n",
              "      <td>93</td>\n",
              "      <td>75</td>\n",
              "      <td>63</td>\n",
              "      <td>68</td>\n",
              "      <td>109</td>\n",
              "      <td>92</td>\n",
              "      <td>59</td>\n",
              "      <td>75</td>\n",
              "      <td>109</td>\n",
              "      <td>96</td>\n",
              "      <td>59</td>\n",
              "      <td>83</td>\n",
              "      <td>92</td>\n",
              "      <td>74</td>\n",
              "      <td>59</td>\n",
              "      <td>83</td>\n",
              "      <td>92</td>\n",
              "      <td>70</td>\n",
              "      <td>63</td>\n",
              "      <td>79</td>\n",
              "      <td>108</td>\n",
              "      <td>92</td>\n",
              "      <td>5</td>\n",
              "    </tr>\n",
              "  </tbody>\n",
              "</table>\n",
              "<p>6435 rows × 37 columns</p>\n",
              "</div>"
            ],
            "text/plain": [
              "      0    1    2   3   4    5    6   7   ...   29   30   31  32   33   34  35  36\n",
              "0     92  115  120  94  84  102  106  79  ...  121  128  100  84  107  113  87   3\n",
              "1     84  102  106  79  84  102  102  83  ...  107  113   87  84   99  104  79   3\n",
              "2     84  102  102  83  80  102  102  79  ...   99  104   79  84   99  104  79   3\n",
              "3     80  102  102  79  84   94  102  79  ...   99  104   79  84  103  104  79   3\n",
              "4     84   94  102  79  80   94   98  76  ...  103  104   79  79  107  109  87   3\n",
              "...   ..  ...  ...  ..  ..  ...  ...  ..  ...  ...  ...  ...  ..  ...  ...  ..  ..\n",
              "6430  60   83   96  85  64   87  100  88  ...   87  108   89  63   83  104  85   1\n",
              "6431  64   79  100  85  56   71   96  85  ...   83  100   85  63   83  100  81   1\n",
              "6432  56   68   91  81  56   64   91  81  ...   87   96   81  63   83   92  74   5\n",
              "6433  56   68   87  74  60   71   91  81  ...   83   92   74  59   83   92  70   5\n",
              "6434  60   71   91  81  60   64  104  99  ...   83   92   70  63   79  108  92   5\n",
              "\n",
              "[6435 rows x 37 columns]"
            ]
          },
          "execution_count": 5,
          "metadata": {},
          "output_type": "execute_result"
        }
      ],
      "source": [
        "df1 = pd.read_csv(\"/content/drive/My Drive/datasets/sat.trn\", sep=\" \", header=None )\n",
        "df2 = pd.read_csv(\"/content/drive/My Drive/datasets/sat.tst\", sep=\" \", header=None )\n",
        "\n",
        "\n",
        "df2.index=[str(i) for i in range(4435, 6435)]   # https://www.listendata.com/2020/09/How-to-rename-columns-in-Pandas.html\n",
        "\n",
        "\n",
        "df = pd.concat([df1,df2])\n",
        "\n",
        "df"
      ]
    },
    {
      "cell_type": "markdown",
      "metadata": {
        "id": "B8-8LqG-D5Qw"
      },
      "source": [
        "Δεν υπάρχουν επικεφαλίδες και η αρίθμηση έγινε by default από το Pandas"
      ]
    },
    {
      "cell_type": "markdown",
      "metadata": {
        "id": "-5kvfW4K9BX2"
      },
      "source": [
        "Συνεχίζουμε με μια γενική επισκόπηση του dataset για να δούμε την μορφή των πληροφοριών που περιέχει."
      ]
    },
    {
      "cell_type": "markdown",
      "metadata": {
        "id": "vicIVGVPA052"
      },
      "source": [
        "Πρόκειται για instances που αντιστοιχούν σε πολύχρωμες εικόνες τραβηγμένες από δορυφόρο. Κάθε μία από αυτές αντιστοιχεί σε μία κλάση ανάλογα τί έδαφος αποτυπώνεται στην εικόνα (red soil, grey soil κτλ).\n"
      ]
    },
    {
      "cell_type": "markdown",
      "metadata": {
        "id": "Qn6ra574SMk1"
      },
      "source": [
        "Παρακάτω φαίνεται το concatenated dataframe-training set."
      ]
    },
    {
      "cell_type": "code",
      "execution_count": 6,
      "metadata": {
        "id": "bMKWrCZAAQf1"
      },
      "outputs": [],
      "source": [
        "#pd.set_option('display.max_rows', None)\n",
        "np.set_printoptions(threshold=np.inf)\n",
        "\n",
        "df.loc[df[36] == 7, 36] = 6  # επειδή στο documentation αναφέρει ότι στο dataset δεν υπάρχει εικόνα κλάσης 6, ονομάζω την κλάση 7 ως 6"
      ]
    },
    {
      "cell_type": "markdown",
      "metadata": {
        "id": "o-1gZEX1TLYp"
      },
      "source": [
        "Πρόκειται για 6435 δείγματα με 36 χαρακτηριστικά το καθένα.\n",
        "Κάθε δείγμα αντιστοιχεί σε μία από τις 5 κλάσεις:\n",
        "\n",
        "\t1\t\t\tred soil\n",
        "\t2\t\t\tcotton crop\n",
        "\t3\t\t\tgrey soil\n",
        "\t4\t\t\tdamp grey soil\n",
        "\t5\t\t\tsoil with vegetation stubble\n",
        "\t6\t\t\tvery damp grey soil\t\n",
        "\n"
      ]
    },
    {
      "cell_type": "code",
      "execution_count": 7,
      "metadata": {
        "id": "syOY-mQyEs1d"
      },
      "outputs": [],
      "source": [
        "#df.isnull().values.any()     # δεν λείπει feature"
      ]
    },
    {
      "cell_type": "markdown",
      "metadata": {
        "id": "W_SjXAFHzewd"
      },
      "source": [
        "Ως προς το balance, έχουμε 6 κλάσεις οπότε βρίσκουμε εύκολα την συχνότητα τους:"
      ]
    },
    {
      "cell_type": "code",
      "execution_count": 8,
      "metadata": {
        "colab": {
          "base_uri": "https://localhost:8080/"
        },
        "id": "44ZF-uiBw7MZ",
        "outputId": "64542d32-2f04-40df-a91d-a9a93332ed7b"
      },
      "outputs": [
        {
          "data": {
            "text/plain": [
              "1    23.822844\n",
              "6    23.434343\n",
              "3    21.103341\n",
              "5    10.986791\n",
              "2    10.924631\n",
              "4     9.728050\n",
              "Name: 36, dtype: float64"
            ]
          },
          "execution_count": 8,
          "metadata": {},
          "output_type": "execute_result"
        }
      ],
      "source": [
        "df[36].value_counts()      #δείγματα που αντιστοιχουν ανά κλάση\n",
        "\n",
        "(df[36].value_counts()/df.shape[0])*100      #ποσοστά δειγμάτων"
      ]
    },
    {
      "cell_type": "markdown",
      "metadata": {
        "id": "dOPn-hf32gJD"
      },
      "source": [
        "Οι κλάσεις 2,4,5 είναι 1.5 φορά πιο συχνές από τις υπόλοιπες(δηλαδή 60-40 αναλογία) προκύπτει ότι το εν λόγω data set είναι **μη ισορροπημένο**. "
      ]
    },
    {
      "cell_type": "markdown",
      "metadata": {
        "id": "Ejsr0QYA4NnP"
      },
      "source": [
        "##Προετοιμασία"
      ]
    },
    {
      "cell_type": "markdown",
      "metadata": {
        "id": "6bDr2bdx9LhQ"
      },
      "source": [
        "Το δοσμένο training set είχε 4435 δείγματα ενώ το test set 2000.\n",
        "Εμείς όμως θέλουμε 70 - 30, οπότε το κάναμε concatenate και παρακάτω το σπάμε αναλογικά.\n"
      ]
    },
    {
      "cell_type": "code",
      "execution_count": 9,
      "metadata": {
        "id": "Enw8QUlN3HNl"
      },
      "outputs": [],
      "source": [
        "#ξεχωρίζω τις κλάσεις και τα χαρακτηριστικά\n",
        "features = df.drop(columns = 36)\n",
        "\n",
        "classes = df[36]             # κλάσεις βρίσκονται στo column #36\n",
        "\n",
        "#τα κάνω συμβατά με scikit learn\n",
        "Features= features.values   \n",
        "\n",
        "Classes= classes.values\n",
        "from sklearn.model_selection import train_test_split\n",
        "# Split our data\n",
        "X_train, X_test, y_train, y_test = train_test_split(Features, Classes, test_size=0.30)"
      ]
    },
    {
      "cell_type": "code",
      "execution_count": 10,
      "metadata": {
        "colab": {
          "base_uri": "https://localhost:8080/"
        },
        "id": "FFEqWzPT9tVJ",
        "outputId": "30831b3a-2d9a-49ca-9c4a-294241a5c441"
      },
      "outputs": [
        {
          "name": "stdout",
          "output_type": "stream",
          "text": [
            "(4504, 36)\n",
            "(1931, 36)\n",
            "(4504,)\n"
          ]
        }
      ],
      "source": [
        "print(X_train.shape)\n",
        "print(X_test.shape)\n",
        "\n",
        "print(y_train.shape)\n",
        "#print(X_train)\n",
        "#print(y_train)"
      ]
    },
    {
      "cell_type": "markdown",
      "metadata": {
        "id": "SYbrFrCvTRcd"
      },
      "source": [
        "Δεν υπάρχουν απουσιάζουσες τιμές ούτε μη διατεταγμένα χαρακτηριστικά."
      ]
    },
    {
      "cell_type": "markdown",
      "metadata": {
        "id": "gvRJXFJBfr-Z"
      },
      "source": [
        "##Ταξινόμηση"
      ]
    },
    {
      "cell_type": "markdown",
      "metadata": {
        "id": "xaQOa2Vhi4eJ"
      },
      "source": [
        "Στο chapter αυτό, θα εξετάσουμε τους ταξιμομητές dummy(uniform, constant, stratified, most_frequent), Gaussian Naive Bayes, KNN και Logistic regression και θα αξιολογήσουμε την απόδοσή τους με τη βοήθεια των μετρικών accuracy και f1_score, με απλή αρχικοποίηση, χωρίς να κάνουμε βελτιστοποίηση."
      ]
    },
    {
      "cell_type": "markdown",
      "metadata": {
        "id": "X7yRziCejabn"
      },
      "source": [
        "\n",
        "\n",
        "   Confusion Matrix\n",
        "   \n",
        "  Θα αποτυπώνουμε τα αποτελέσματα σε confusion matrix. Κάθε στήλη του πίνακα σύγχυσης αναπαριστά τα δείγματα που προβλέφθηκε ότι ανήκουν στη συγκεκριμένη κλάση, ενώ κάθε γραμμή, αυτά που όντως ανήκουν στην κλάση αυτή. Επομένως, το στοιχείο $C_{i,j}$ είναι ίσο με τα δείγματα που ανήκουν στην κατηγορία i, ενώ προβλέφθηκε ότι ανήκουν στην κατηγορία j. Αν το $i \\neq j$, τα πλήθος αυτών των στοιχείων έχει ταξινομηθεί λανθασμένα, ενώ αν $i = j$ (κύρια διαγώνιος) τα δείγματα αυτά έχουν ταξινομηθεί σωστά (ταξινομήθηκαν στην κλάση i και όντως ανήκουν σε αυτή).\n",
        "\n"
      ]
    },
    {
      "cell_type": "code",
      "execution_count": 11,
      "metadata": {
        "id": "r6pXLaGFkdsK"
      },
      "outputs": [],
      "source": [
        "import matplotlib.pyplot as plt \n",
        "\n",
        "def plot_confusion_matrix(cm, classes,title='Confusion matrix',cmap=plt.cm.Blues):\n",
        "    plt.imshow(cm, interpolation='nearest', cmap=cmap)\n",
        "    plt.title(title)\n",
        "    plt.colorbar()\n",
        "    tick_marks = np.arange(len(classes))\n",
        "    plt.xticks(tick_marks, classes, rotation=45)\n",
        "    plt.yticks(tick_marks, classes)\n",
        "\n",
        "    fmt = 'd'\n",
        "    thresh = cm.max() / 2.\n",
        "    for i, j in itertools.product(range(cm.shape[0]), range(cm.shape[1])):\n",
        "        plt.text(j, i, format(cm[i, j], fmt),\n",
        "                 horizontalalignment=\"center\",\n",
        "                 color=\"white\" if cm[i, j] > thresh else \"black\")\n",
        "\n",
        "    plt.ylabel('Predicted label')\n",
        "    plt.xlabel('True label')\n",
        "    plt.tight_layout()  \n",
        "    plt.show()"
      ]
    },
    {
      "cell_type": "markdown",
      "metadata": {
        "id": "8rXpRa9xgAU9"
      },
      "source": [
        "###Dummy Classifier"
      ]
    },
    {
      "cell_type": "markdown",
      "metadata": {
        "id": "vE3jrKYwkfwz"
      },
      "source": [
        "\n",
        "\n",
        "Αρχικά εξετάζουμε τους dummy classifiers με χρήση της κλάσης DummyClassifier, η οποία δέχεται μια παράμετρο που καθορίζει την μέθοδο της dummy ταξινόμησης ως εξής:\n",
        "\n",
        "  \"uniform”: προβλέπει τυχαία και ομοιόμορφα \n",
        "\n",
        "  “constant”: προβλέπει πάντα μία κατηγορία που τη διαλέγει ο χρήστης \n",
        "\n",
        "  “most_frequent”: προβλέπει πάντα την πιο συχνή κατηγορία στο training set\n",
        "\n",
        "  “stratified”: κάνει προβλέψεις διατηρώντας την κατανομή των κλάσεων στο training set\n"
      ]
    },
    {
      "cell_type": "code",
      "execution_count": 12,
      "metadata": {
        "id": "I3J6y2R9M3oh"
      },
      "outputs": [],
      "source": [
        "from sklearn.dummy import DummyClassifier\n",
        "\n",
        "\n",
        "import time\n",
        "\n",
        "def DummyClassification(x_train,y_train,x_test,y_test):\n",
        "    \n",
        "    scores, predictions, fit_times, pred_times = {}, {}, {}, {}\n",
        "\n",
        "    dc_uniform  = DummyClassifier(strategy=\"uniform\")\n",
        "    dc_const_0  = DummyClassifier(strategy=\"constant\",constant=2)             #κλάση 2\n",
        "    dc_const_1  = DummyClassifier(strategy=\"constant\",constant=4)             #κλάση 4\n",
        "    dc_stratif  = DummyClassifier(strategy=\"stratified\")\n",
        "    dc_frequent = DummyClassifier(strategy=\"most_frequent\")\n",
        "\n",
        "    #Fit\n",
        "  \n",
        "    start_time = time.time()\n",
        "    dc_uniform.fit(x_train, y_train)\n",
        "    fit_times['uniform'] = time.time()-start_time\n",
        "    \n",
        "    start_time = time.time()\n",
        "    dc_const_0.fit(x_train, y_train)\n",
        "    fit_times['const_2'] = time.time()-start_time\n",
        "    \n",
        "    start_time = time.time()\n",
        "    dc_const_1.fit(x_train, y_train)\n",
        "    fit_times['const_4'] = time.time()-start_time\n",
        "    \n",
        "    start_time = time.time()\n",
        "    dc_stratif.fit(x_train, y_train)\n",
        "    fit_times['stratif'] = time.time()-start_time\n",
        "    \n",
        "    start_time = time.time()\n",
        "    dc_frequent.fit(x_train,y_train)\n",
        "    fit_times['frequent'] = time.time()-start_time\n",
        "    \n",
        "    #Predict\n",
        "    \n",
        "    start_time = time.time()\n",
        "    predictions['uniform']  = dc_uniform.predict(x_test)      #επιστρέφει λίστα\n",
        "    pred_times['uniform'] = time.time()-start_time\n",
        "    \n",
        "    start_time = time.time()\n",
        "    predictions['const_2']  = dc_const_0.predict(x_test)\n",
        "    pred_times['const_2'] = time.time()-start_time\n",
        "    \n",
        "    start_time = time.time()\n",
        "    predictions['const_4']  = dc_const_1.predict(x_test)\n",
        "    pred_times['const_4'] = time.time()-start_time\n",
        "    \n",
        "    start_time = time.time()\n",
        "    predictions['stratif']  = dc_stratif.predict(x_test)\n",
        "    pred_times['stratif'] = time.time()-start_time\n",
        "    \n",
        "    start_time = time.time()\n",
        "    predictions['frequent'] = dc_frequent.predict(x_test)\n",
        "    pred_times['frequent'] = time.time()-start_time\n",
        "    \n",
        "\n",
        "    #Scores/accuracies\n",
        "    \n",
        "    scores['uniform']  = dc_uniform.score(x_test, y_test)\n",
        "    scores['const_2']  = dc_const_0.score(x_test, y_test)\n",
        "    scores['const_4']  = dc_const_1.score(x_test, y_test)\n",
        "    scores['stratif']  = dc_stratif.score(x_test, y_test)\n",
        "    scores['frequent'] = dc_frequent.score(x_test,y_test)\n",
        "\n",
        "    \n",
        "    return predictions, scores, fit_times, pred_times"
      ]
    },
    {
      "cell_type": "code",
      "execution_count": 165,
      "metadata": {
        "colab": {
          "base_uri": "https://localhost:8080/"
        },
        "id": "jIooJbhdNA58",
        "outputId": "e8b83a59-378b-4574-ddc3-0848358774d5"
      },
      "outputs": [
        {
          "name": "stdout",
          "output_type": "stream",
          "text": [
            "\n",
            "Classification Accuracy on our Dataset : \n",
            "\n",
            "frequent 0.23252200932159503\n",
            "stratif 0.19368203003625065\n",
            "uniform 0.16986017607457277\n",
            "const_2 0.10668047643707923\n",
            "const_4 0.10253754531330916\n",
            "\n",
            "F1-scores on our Dataset : \n",
            "\n",
            "F1-score for uniform : 0.1582791560440713\n",
            "F1-score for const_2 : 0.032132272656371856\n",
            "F1-score for const_4 : 0.031000469704086427\n",
            "F1-score for stratif : 0.16810255018191977\n",
            "F1-score for frequent : 0.06288515406162466\n"
          ]
        }
      ],
      "source": [
        "predictions, accuracies,_,_ = DummyClassification(X_train,y_train,X_test,y_test)          #παραπάνω συνάρτηση\n",
        "\n",
        "\n",
        "#for i in predictions:\n",
        "#    print(\"Prediction for\", i, ':', predictions[i])\n",
        "\n",
        "print()\n",
        "\n",
        "print(\"Classification Accuracy on our Dataset : \\n\")\n",
        "\n",
        "sorted_accuracy = [(k, accuracies[k]) for k in sorted(accuracies, key=accuracies.get, reverse=True)]\n",
        "for k,v in sorted_accuracy:\n",
        "    print(k,v)\n",
        "\n",
        "print()\n",
        "\n",
        "from sklearn.metrics import f1_score\n",
        "\n",
        "print(\"F1-scores on our Dataset : \\n\")\n",
        "\n",
        "for i in predictions:\n",
        "      print(\"F1-score for\", i, ':', f1_score(y_test, predictions[i], average = 'macro' ))    \n",
        "  "
      ]
    },
    {
      "cell_type": "code",
      "execution_count": 14,
      "metadata": {
        "colab": {
          "base_uri": "https://localhost:8080/"
        },
        "id": "Cs8ilgFBnJBD",
        "outputId": "7f1b3bf1-5202-474e-c006-6156b4c4ecc0"
      },
      "outputs": [
        {
          "name": "stdout",
          "output_type": "stream",
          "text": [
            "Confusion matrices :\n",
            "\n",
            "uniform\n",
            "[[82 75 81 74 75 62]\n",
            " [35 38 22 31 41 39]\n",
            " [67 60 76 74 77 68]\n",
            " [40 39 29 32 26 32]\n",
            " [17 44 43 42 42 25]\n",
            " [70 70 89 80 69 65]]\n",
            "\n",
            "const_2\n",
            "[[  0 449   0   0   0   0]\n",
            " [  0 206   0   0   0   0]\n",
            " [  0 422   0   0   0   0]\n",
            " [  0 198   0   0   0   0]\n",
            " [  0 213   0   0   0   0]\n",
            " [  0 443   0   0   0   0]]\n",
            "\n",
            "const_4\n",
            "[[  0   0   0 449   0   0]\n",
            " [  0   0   0 206   0   0]\n",
            " [  0   0   0 422   0   0]\n",
            " [  0   0   0 198   0   0]\n",
            " [  0   0   0 213   0   0]\n",
            " [  0   0   0 443   0   0]]\n",
            "\n",
            "stratif\n",
            "[[116  51  94  28  42 118]\n",
            " [ 46  18  54  20  14  54]\n",
            " [ 89  56  79  41  43 114]\n",
            " [ 50  23  44  13  24  44]\n",
            " [ 58  18  42  20  28  47]\n",
            " [107  42  94  48  48 104]]\n",
            "\n",
            "frequent\n",
            "[[449   0   0   0   0   0]\n",
            " [206   0   0   0   0   0]\n",
            " [422   0   0   0   0   0]\n",
            " [198   0   0   0   0   0]\n",
            " [213   0   0   0   0   0]\n",
            " [443   0   0   0   0   0]]\n",
            "\n"
          ]
        }
      ],
      "source": [
        "from sklearn.metrics import confusion_matrix\n",
        "\n",
        "# Compute confusion matrix\n",
        "print(\"Confusion matrices :\\n\")\n",
        "for i in predictions:\n",
        "    cnf_matrix = confusion_matrix(y_test, predictions[i])\n",
        "    print(i)\n",
        "    print(cnf_matrix, end='\\n\\n')\n",
        "\n",
        "\n",
        "#πίνακας 6x6 όσες και οι κλάσεις    "
      ]
    },
    {
      "cell_type": "code",
      "execution_count": 15,
      "metadata": {
        "colab": {
          "base_uri": "https://localhost:8080/"
        },
        "id": "16_5s3fWPhNd",
        "outputId": "5a07912f-f115-4e44-a254-cc99d9491d5e"
      },
      "outputs": [
        {
          "name": "stdout",
          "output_type": "stream",
          "text": [
            "\n",
            "Classification Report of uniform strategy:\n",
            "               precision    recall  f1-score   support\n",
            "\n",
            "           1       0.26      0.18      0.22       449\n",
            "           2       0.12      0.18      0.14       206\n",
            "           3       0.22      0.18      0.20       422\n",
            "           4       0.10      0.16      0.12       198\n",
            "           5       0.13      0.20      0.15       213\n",
            "           6       0.22      0.15      0.18       443\n",
            "\n",
            "    accuracy                           0.17      1931\n",
            "   macro avg       0.18      0.18      0.17      1931\n",
            "weighted avg       0.20      0.17      0.18      1931\n",
            "\n",
            "\n",
            "Classification Report of const_2 strategy:\n",
            "               precision    recall  f1-score   support\n",
            "\n",
            "           1       0.00      0.00      0.00       449\n",
            "           2       0.11      1.00      0.19       206\n",
            "           3       0.00      0.00      0.00       422\n",
            "           4       0.00      0.00      0.00       198\n",
            "           5       0.00      0.00      0.00       213\n",
            "           6       0.00      0.00      0.00       443\n",
            "\n",
            "    accuracy                           0.11      1931\n",
            "   macro avg       0.02      0.17      0.03      1931\n",
            "weighted avg       0.01      0.11      0.02      1931\n",
            "\n",
            "\n",
            "Classification Report of const_4 strategy:\n",
            "               precision    recall  f1-score   support\n",
            "\n",
            "           1       0.00      0.00      0.00       449\n",
            "           2       0.00      0.00      0.00       206\n",
            "           3       0.00      0.00      0.00       422\n",
            "           4       0.10      1.00      0.19       198\n",
            "           5       0.00      0.00      0.00       213\n",
            "           6       0.00      0.00      0.00       443\n",
            "\n",
            "    accuracy                           0.10      1931\n",
            "   macro avg       0.02      0.17      0.03      1931\n",
            "weighted avg       0.01      0.10      0.02      1931\n",
            "\n",
            "\n",
            "Classification Report of stratif strategy:\n",
            "               precision    recall  f1-score   support\n",
            "\n",
            "           1       0.25      0.26      0.25       449\n",
            "           2       0.09      0.09      0.09       206\n",
            "           3       0.19      0.19      0.19       422\n",
            "           4       0.08      0.07      0.07       198\n",
            "           5       0.14      0.13      0.14       213\n",
            "           6       0.22      0.23      0.23       443\n",
            "\n",
            "    accuracy                           0.19      1931\n",
            "   macro avg       0.16      0.16      0.16      1931\n",
            "weighted avg       0.18      0.19      0.18      1931\n",
            "\n",
            "\n",
            "Classification Report of frequent strategy:\n",
            "               precision    recall  f1-score   support\n",
            "\n",
            "           1       0.23      1.00      0.38       449\n",
            "           2       0.00      0.00      0.00       206\n",
            "           3       0.00      0.00      0.00       422\n",
            "           4       0.00      0.00      0.00       198\n",
            "           5       0.00      0.00      0.00       213\n",
            "           6       0.00      0.00      0.00       443\n",
            "\n",
            "    accuracy                           0.23      1931\n",
            "   macro avg       0.04      0.17      0.06      1931\n",
            "weighted avg       0.05      0.23      0.09      1931\n",
            "\n"
          ]
        },
        {
          "name": "stderr",
          "output_type": "stream",
          "text": [
            "/usr/local/lib/python3.7/dist-packages/sklearn/metrics/_classification.py:1308: UndefinedMetricWarning: Precision and F-score are ill-defined and being set to 0.0 in labels with no predicted samples. Use `zero_division` parameter to control this behavior.\n",
            "  _warn_prf(average, modifier, msg_start, len(result))\n",
            "/usr/local/lib/python3.7/dist-packages/sklearn/metrics/_classification.py:1308: UndefinedMetricWarning: Precision and F-score are ill-defined and being set to 0.0 in labels with no predicted samples. Use `zero_division` parameter to control this behavior.\n",
            "  _warn_prf(average, modifier, msg_start, len(result))\n",
            "/usr/local/lib/python3.7/dist-packages/sklearn/metrics/_classification.py:1308: UndefinedMetricWarning: Precision and F-score are ill-defined and being set to 0.0 in labels with no predicted samples. Use `zero_division` parameter to control this behavior.\n",
            "  _warn_prf(average, modifier, msg_start, len(result))\n",
            "/usr/local/lib/python3.7/dist-packages/sklearn/metrics/_classification.py:1308: UndefinedMetricWarning: Precision and F-score are ill-defined and being set to 0.0 in labels with no predicted samples. Use `zero_division` parameter to control this behavior.\n",
            "  _warn_prf(average, modifier, msg_start, len(result))\n",
            "/usr/local/lib/python3.7/dist-packages/sklearn/metrics/_classification.py:1308: UndefinedMetricWarning: Precision and F-score are ill-defined and being set to 0.0 in labels with no predicted samples. Use `zero_division` parameter to control this behavior.\n",
            "  _warn_prf(average, modifier, msg_start, len(result))\n",
            "/usr/local/lib/python3.7/dist-packages/sklearn/metrics/_classification.py:1308: UndefinedMetricWarning: Precision and F-score are ill-defined and being set to 0.0 in labels with no predicted samples. Use `zero_division` parameter to control this behavior.\n",
            "  _warn_prf(average, modifier, msg_start, len(result))\n",
            "/usr/local/lib/python3.7/dist-packages/sklearn/metrics/_classification.py:1308: UndefinedMetricWarning: Precision and F-score are ill-defined and being set to 0.0 in labels with no predicted samples. Use `zero_division` parameter to control this behavior.\n",
            "  _warn_prf(average, modifier, msg_start, len(result))\n",
            "/usr/local/lib/python3.7/dist-packages/sklearn/metrics/_classification.py:1308: UndefinedMetricWarning: Precision and F-score are ill-defined and being set to 0.0 in labels with no predicted samples. Use `zero_division` parameter to control this behavior.\n",
            "  _warn_prf(average, modifier, msg_start, len(result))\n",
            "/usr/local/lib/python3.7/dist-packages/sklearn/metrics/_classification.py:1308: UndefinedMetricWarning: Precision and F-score are ill-defined and being set to 0.0 in labels with no predicted samples. Use `zero_division` parameter to control this behavior.\n",
            "  _warn_prf(average, modifier, msg_start, len(result))\n"
          ]
        }
      ],
      "source": [
        "from sklearn.metrics import classification_report\n",
        "for strategy in predictions:\n",
        "    print(\"\\nClassification Report of\",strategy,\"strategy:\\n\",classification_report(y_test,predictions[strategy]))\n"
      ]
    },
    {
      "cell_type": "markdown",
      "metadata": {
        "id": "csVw-rTbtNf-"
      },
      "source": [
        "###Gaussian Naive Bayes"
      ]
    },
    {
      "cell_type": "markdown",
      "metadata": {
        "id": "sK3gZyUft0_1"
      },
      "source": [
        "\n",
        "\n",
        "  Ο Gaussian Naive Bayes ταξινομητής στηρίζεται στο νόμο του Bayes και στην υπόθεση ότι τα χαρακτηριστικά των δεδομένων είναι ανεξάρτητα μεταξύ τους. Ταξινομεί, κάθε δεδομένο στην κλάση y σύμφωνα με τον εξής τύπο: $$\\hat{y} = \\arg\\max_y P(y) \\prod_{i=1}^{n} P(x_i \\mid y)$$ δηλαδή κάθε δείγμα ταξινομείται στην κλάση που μεγιστοποιεί τη σχετική συχνότητα της κλάσης αυτής επί το γινόμενο των πιθανοτήτων όλων των χαρακτηριστικών, δεδομένης της κλάσης αυτής(πιθανοφάνεια).\n",
        "\n",
        "  Θεωρούμε ότι η κατανομή κάθε χαρακτηριστικού ως προς κάθε κλάση ακολουθεί την κανονική κατανομή: $$P(x_i \\mid y) = \\frac{1}{\\sqrt{2\\pi\\sigma^2_y}} \\exp\\left(-\\frac{(x_i - \\mu_y)^2}{2\\sigma^2_y}\\right)$$\n",
        "\n",
        "  Πρακτικά, όσο πιο κοντά στη μέση τιμή του (ως προς το σύνολο του train set) είναι ένα χαρακτηριστικό ενός δείγματος, τόσο πιο κοντά στη μοναδα θα είναι η πιθανοφάνεια του χαρακτηριστικού.\n",
        "\n",
        "\n"
      ]
    },
    {
      "cell_type": "code",
      "execution_count": 144,
      "metadata": {
        "colab": {
          "base_uri": "https://localhost:8080/"
        },
        "id": "nmEpXs8Iewre",
        "outputId": "0bd59b1b-37bf-4f8e-a2ae-d4c8fae2779e"
      },
      "outputs": [
        {
          "name": "stdout",
          "output_type": "stream",
          "text": [
            "Classification Accuracy\n",
            "\n",
            "0.7944070429829104\n"
          ]
        }
      ],
      "source": [
        "from sklearn.naive_bayes import GaussianNB\n",
        "gnb = GaussianNB()\n",
        "\n",
        "gnb.fit(X_train, y_train)\n",
        "\n",
        "predictions_GNB= gnb.predict(X_test)\n",
        "\n",
        "accuracies_GNB = gnb.score(X_test, y_test)    #accuracy\n",
        "\n",
        "predictions['GNB'] = predictions_GNB\n",
        "\n",
        "print(\"Classification Accuracy\\n\")\n",
        "\n",
        "print(accuracies_GNB)\n"
      ]
    },
    {
      "cell_type": "code",
      "execution_count": 17,
      "metadata": {
        "colab": {
          "base_uri": "https://localhost:8080/"
        },
        "id": "aoCzmzDlvGeu",
        "outputId": "20910d7d-c13a-4649-9941-7ca05cb9cea1"
      },
      "outputs": [
        {
          "name": "stdout",
          "output_type": "stream",
          "text": [
            "Gaussian\n",
            "[[355   0  15   0  79   0]\n",
            " [  4 184   0   1  15   2]\n",
            " [  6   0 376  36   1   3]\n",
            " [  3   0  22 135   0  38]\n",
            " [ 23   1   1   7 161  20]\n",
            " [  1   0   4  93  22 323]]\n",
            "\n"
          ]
        }
      ],
      "source": [
        "cnf_matrix = confusion_matrix(y_test, predictions_GNB)\n",
        "print(\"Gaussian\")\n",
        "print(cnf_matrix, end='\\n\\n')"
      ]
    },
    {
      "cell_type": "code",
      "execution_count": 18,
      "metadata": {
        "colab": {
          "base_uri": "https://localhost:8080/"
        },
        "id": "fbF6bRXIvKQB",
        "outputId": "09b7180c-a6b4-4759-fcf2-bdb64fb6562f"
      },
      "outputs": [
        {
          "name": "stdout",
          "output_type": "stream",
          "text": [
            "\n",
            "Classification Report of Gaussian :\n",
            "               precision    recall  f1-score   support\n",
            "\n",
            "           1       0.91      0.79      0.84       449\n",
            "           2       0.99      0.89      0.94       206\n",
            "           3       0.90      0.89      0.90       422\n",
            "           4       0.50      0.68      0.57       198\n",
            "           5       0.58      0.76      0.66       213\n",
            "           6       0.84      0.73      0.78       443\n",
            "\n",
            "    accuracy                           0.79      1931\n",
            "   macro avg       0.79      0.79      0.78      1931\n",
            "weighted avg       0.82      0.79      0.80      1931\n",
            "\n"
          ]
        }
      ],
      "source": [
        "print(\"\\nClassification Report of Gaussian :\\n\",classification_report(y_test,predictions_GNB))"
      ]
    },
    {
      "cell_type": "markdown",
      "metadata": {
        "id": "e7SDykv1xtO-"
      },
      "source": [
        "###kNN"
      ]
    },
    {
      "cell_type": "markdown",
      "metadata": {
        "id": "Xv1TfaPcyBFK"
      },
      "source": [
        "\n",
        "\n",
        "  O kNN είναι ένας μη παραμετρικός ταξινομητής βασισμένος σε παραδείγματα (instance-based). Η αρχή λειτουργίας του είναι πολύ απλή. Για ένα νέο δείγμα προς ταξινόμηση, πρώτα υπολογίζουμε τους k πλησιέστερους γείτονές του (στον ν-διάστατο χώρο των χαρακτηριστικών εισόδου) με βάση κάποια συνάρτηση απόστασης, συνήθως ευκλείδεια $$d(x, x') = \\sqrt{\\left(x_1 - x'_1 \\right)^2 + \\left(x_2 - x'_2 \\right)^2 + \\dotsc + \\left(x_n - x'_n \\right)^2}$$ Η κλάση του νέου δείγματος θα είναι η κλάση της πλειοψηφίας των k γειτόνων, είτε απλά υπολογισμένη (άθροισμα) είτε (αντίστροφα) ζυγισμένη με βάση την απόσταση του κάθε γείτονα.\n",
        "\n",
        "  Ο KNN είναι απαιτητικός σε χρόνο και σε χώρο καθώς για να ταξινομήσουμε ένα νέο δείγμα στη φάση test, πρέπει να συγκρίνουμε την απόστασή του με κάθε δείγμα του train set, τα οποία πρέπει να είναι αποθηκευμένα.\n",
        "\n"
      ]
    },
    {
      "cell_type": "code",
      "execution_count": 145,
      "metadata": {
        "colab": {
          "base_uri": "https://localhost:8080/"
        },
        "id": "saSgn8WExvLL",
        "outputId": "262f2ecf-f8aa-47a1-a3b0-ea25cc04a907"
      },
      "outputs": [
        {
          "name": "stdout",
          "output_type": "stream",
          "text": [
            "Classification Accuracy of 5-NN: 0.9119627136198861\n"
          ]
        }
      ],
      "source": [
        "from sklearn.neighbors import KNeighborsClassifier\n",
        "\n",
        "knn = KNeighborsClassifier(n_neighbors=5) \n",
        "knn.fit(X_train,y_train)\n",
        "predictions_knn = knn.predict(X_test)\n",
        "accuracies_knn = knn.score(X_test,y_test)\n",
        "\n",
        "predictions['knn'] = predictions_knn \n",
        "\n",
        "print(\"Classification Accuracy of 5-NN:\",accuracies_knn)"
      ]
    },
    {
      "cell_type": "code",
      "execution_count": 20,
      "metadata": {
        "colab": {
          "base_uri": "https://localhost:8080/"
        },
        "id": "kmqu_IPgybar",
        "outputId": "34bce0e3-aad7-4a7c-e505-18e40febe579"
      },
      "outputs": [
        {
          "name": "stdout",
          "output_type": "stream",
          "text": [
            "Confusion Matrix of 51-NN:\n",
            " [[437   1   8   0   3   0]\n",
            " [  0 200   0   3   3   0]\n",
            " [  3   0 398  17   0   4]\n",
            " [  0   0  27 139   3  29]\n",
            " [  8   2   0   3 191   9]\n",
            " [  0   0   7  24  16 396]]\n"
          ]
        }
      ],
      "source": [
        "print(\"Confusion Matrix of 51-NN:\\n\",confusion_matrix(y_test,predictions_knn))"
      ]
    },
    {
      "cell_type": "code",
      "execution_count": 21,
      "metadata": {
        "colab": {
          "base_uri": "https://localhost:8080/",
          "height": 297
        },
        "id": "u3JjxqeLs6bL",
        "outputId": "87daf6d8-a234-41e5-fa7b-660e0e8b7546"
      },
      "outputs": [
        {
          "data": {
            "image/png": "[encoded data removed]",
            "text/plain": [
              "<Figure size 432x288 with 2 Axes>"
            ]
          },
          "metadata": {
            "needs_background": "light"
          },
          "output_type": "display_data"
        }
      ],
      "source": [
        "import itertools\n",
        "cm = confusion_matrix(y_test, predictions_knn)\n",
        "plot_confusion_matrix(cm, ['1', '2', '3' , '4', '5', '6'],title='Confusion matrix of KNN classifier')"
      ]
    },
    {
      "cell_type": "markdown",
      "metadata": {
        "id": "KNBfuZrftdoL"
      },
      "source": [
        "Παρατηρούμε ότι η διαγώνιος έχει πολλά hits πράγμα το οποίο επιδιώκουμε καθώς το accuracy είναι ανάλογο του αριθμού των επιτυχιών της διαγωνίου. Επίσης παρατηρούμε ότι τα περισσότερα misses γίνονται στις κλάσεις 6 και 4. Αυτό πιθανότατα οφείλεται στο dataset, στο οποίο υπάρχει μεγάλη ανισορροπία μεταξύ δειγμάτων κλάσης 4 και 6.  Δεν είναι σύμπτωση ότι την μεγαλύτερη ευστοχία την έχει για τις κλάσεις 1,3,6 , αφού για αυτές υπάρχουν διπλάσια δείγματα απ'ότι οι 2,4,5."
      ]
    },
    {
      "cell_type": "code",
      "execution_count": 22,
      "metadata": {
        "id": "IdiRZe4Rh7Hz"
      },
      "outputs": [],
      "source": [
        "#from sklearn.metrics import f1_macro\n",
        "#macro_kNN =  f1_macro(y_test, predictions_knn)"
      ]
    },
    {
      "cell_type": "code",
      "execution_count": 23,
      "metadata": {
        "colab": {
          "base_uri": "https://localhost:8080/"
        },
        "id": "07iZp-2zydVC",
        "outputId": "6f7d2317-9b9a-4b7c-dd44-4263c68f8746"
      },
      "outputs": [
        {
          "name": "stdout",
          "output_type": "stream",
          "text": [
            "Classification Report of 5-NN:\n",
            "               precision    recall  f1-score   support\n",
            "\n",
            "           1       0.98      0.97      0.97       449\n",
            "           2       0.99      0.97      0.98       206\n",
            "           3       0.90      0.94      0.92       422\n",
            "           4       0.75      0.70      0.72       198\n",
            "           5       0.88      0.90      0.89       213\n",
            "           6       0.90      0.89      0.90       443\n",
            "\n",
            "    accuracy                           0.91      1931\n",
            "   macro avg       0.90      0.90      0.90      1931\n",
            "weighted avg       0.91      0.91      0.91      1931\n",
            "\n"
          ]
        }
      ],
      "source": [
        "print(\"Classification Report of 5-NN:\\n\",classification_report(y_test,predictions_knn))"
      ]
    },
    {
      "cell_type": "markdown",
      "metadata": {
        "id": "kargAdMP0Jec"
      },
      "source": [
        "###Logistic regression\n"
      ]
    },
    {
      "cell_type": "markdown",
      "metadata": {
        "id": "P9YyIzch0RHl"
      },
      "source": []
    },
    {
      "cell_type": "code",
      "execution_count": 149,
      "metadata": {
        "colab": {
          "base_uri": "https://localhost:8080/"
        },
        "id": "zYctzyED1AOi",
        "outputId": "ea1652b9-ac38-42ce-c6a8-7f11c957889d"
      },
      "outputs": [
        {
          "name": "stdout",
          "output_type": "stream",
          "text": [
            "Confusion Matrix of LR:\n",
            " [[439   0   9   0   1   0]\n",
            " [  0 188   0   0  18   0]\n",
            " [  2   0 371  12   0  37]\n",
            " [  0   0  96  23   5  74]\n",
            " [ 16   9   1   4 148  35]\n",
            " [  0   0  67  13  17 346]]\n"
          ]
        },
        {
          "name": "stderr",
          "output_type": "stream",
          "text": [
            "/usr/local/lib/python3.7/dist-packages/sklearn/linear_model/_logistic.py:818: ConvergenceWarning: lbfgs failed to converge (status=1):\n",
            "STOP: TOTAL NO. of ITERATIONS REACHED LIMIT.\n",
            "\n",
            "Increase the number of iterations (max_iter) or scale the data as shown in:\n",
            "    https://scikit-learn.org/stable/modules/preprocessing.html\n",
            "Please also refer to the documentation for alternative solver options:\n",
            "    https://scikit-learn.org/stable/modules/linear_model.html#logistic-regression\n",
            "  extra_warning_msg=_LOGISTIC_SOLVER_CONVERGENCE_MSG,\n"
          ]
        }
      ],
      "source": [
        "from sklearn.linear_model import LogisticRegression\n",
        "\n",
        "LR = LogisticRegression()\n",
        "\n",
        "LR.fit(X_train, y_train)\n",
        "\n",
        "predictions_LR = LR.predict(X_test)\n",
        "\n",
        "predictions['LR'] = predictions_LR\n",
        "\n",
        "print(\"Confusion Matrix of LR:\\n\",confusion_matrix(y_test,predictions_LR))\n",
        "#predictions_LR"
      ]
    },
    {
      "cell_type": "code",
      "execution_count": 25,
      "metadata": {
        "colab": {
          "base_uri": "https://localhost:8080/"
        },
        "id": "EFbxt7PqyhBJ",
        "outputId": "404641e9-cf27-409e-f543-42788141ebbf"
      },
      "outputs": [
        {
          "name": "stdout",
          "output_type": "stream",
          "text": [
            "0.7845675815639565\n",
            "0.7217731176646213\n"
          ]
        }
      ],
      "source": [
        "from sklearn.metrics import f1_score\n",
        "\n",
        "score = LR.score(X_test, y_test)                  #εναλλακτικά sc= accuracy_score(y_test,predictions)    print(sc)  \n",
        "\n",
        "macro_LR = f1_score(y_test, predictions_LR, average = 'macro')\n",
        "\n",
        "print(score)\n",
        "print(macro_LR)"
      ]
    },
    {
      "cell_type": "code",
      "execution_count": 26,
      "metadata": {
        "colab": {
          "base_uri": "https://localhost:8080/",
          "height": 297
        },
        "id": "0vh51tROurrt",
        "outputId": "569c3099-c52f-46ec-905a-57aae07165fe"
      },
      "outputs": [
        {
          "data": {
            "image/png": "[encoded data removed]",
            "text/plain": [
              "<Figure size 432x288 with 2 Axes>"
            ]
          },
          "metadata": {
            "needs_background": "light"
          },
          "output_type": "display_data"
        }
      ],
      "source": [
        "cm = confusion_matrix(y_test, predictions_LR)\n",
        "plot_confusion_matrix(cm, ['1', '2', '3' , '4', '5', '6'],title='Confusion matrix of LR classifier')"
      ]
    },
    {
      "cell_type": "markdown",
      "metadata": {
        "id": "9n7LWG14xQGy"
      },
      "source": [
        "Εδώ παρατηρούμε ότι υπάρχει σημαντική αστοχία για την κλάση 4, η οποία έχει ελάχιστο μερίδιο στα δείγματα του dataset."
      ]
    },
    {
      "cell_type": "markdown",
      "metadata": {
        "id": "yX_Rh0in2rGc"
      },
      "source": [
        "###Σύγκριση ταξινομητών - plot"
      ]
    },
    {
      "cell_type": "markdown",
      "metadata": {
        "id": "WjaTbzsq2iYI"
      },
      "source": [
        "Έχοντας υπολογίσει αναλυτικά στα προηγούμενα βήματα τις μετρικές απόδοσης accuracy και f1_score για τους Dummy, Gaussian Naive Bayes,KNN και LR ταξινομητές, παρουσιάζουμε συγκεντρωτικά τα αποτελέσματα με γραφική απεικόνιση, ώστε να συγκρίνουμε την απόδοσή τους."
      ]
    },
    {
      "cell_type": "code",
      "execution_count": 27,
      "metadata": {
        "colab": {
          "base_uri": "https://localhost:8080/",
          "height": 445
        },
        "id": "oKLew3XhW1kN",
        "outputId": "9393f02a-cba7-46a3-cfea-6980eed5c61e"
      },
      "outputs": [
        {
          "data": {
            "image/png": "[encoded data removed]",
            "text/plain": [
              "<Figure size 936x504 with 1 Axes>"
            ]
          },
          "metadata": {
            "needs_background": "light"
          },
          "output_type": "display_data"
        }
      ],
      "source": [
        "from sklearn.metrics import accuracy_score\n",
        "\n",
        "accuracy_scores = {}\n",
        "for i in predictions : \n",
        "  accuracy_scores[i] = accuracy_score(y_test, predictions[i])\n",
        "\n",
        "accuracy_scores[\"GNB\"]=accuracy_score(y_test, predictions_GNB)\n",
        "accuracy_scores[\"knn\"]=accuracy_score(y_test, predictions_knn)\n",
        "accuracy_scores[\"LR\"]=accuracy_score(y_test, predictions_LR )\n",
        "\n",
        "acc_scoreslist=list(accuracy_scores.values())   # το κάνω list για να περάσει ως παράμετρος\n",
        "\n",
        "\n",
        "import matplotlib.pyplot as plt\n",
        "\n",
        "fig, ax = plt.subplots(figsize=(13,7))\n",
        "classifiers = ['uniform', 'constant_2', 'constant_4', 'most_frequent', 'stratified', 'Gaussian', 'knn(5)', 'LR']\n",
        "ax.bar(classifiers , acc_scoreslist, width=0.8)\n",
        "ax.set_title('accuracy-scores')\n",
        "\n",
        "plt.show()\n",
        "\n"
      ]
    },
    {
      "cell_type": "code",
      "execution_count": 158,
      "metadata": {
        "colab": {
          "base_uri": "https://localhost:8080/",
          "height": 445
        },
        "id": "PElbmz__2iDS",
        "outputId": "fc866003-addb-44ce-c69f-215f34e09320"
      },
      "outputs": [
        {
          "data": {
            "image/png": "[encoded data removed]",
            "text/plain": [
              "<Figure size 936x504 with 1 Axes>"
            ]
          },
          "metadata": {
            "needs_background": "light"
          },
          "output_type": "display_data"
        }
      ],
      "source": [
        "from sklearn.metrics import f1_score\n",
        "\n",
        "F1_scores = {}\n",
        "for i in predictions : \n",
        "   F1_scores[i] = f1_score(y_test, predictions[i], average='macro')\n",
        "\n",
        "F1_scores[\"GNB\"]=f1_score(y_test, predictions_GNB, average='macro' )\n",
        "F1_scores[\"knn\"]=f1_score(y_test, predictions_knn, average='macro' )\n",
        "F1_scores[\"LR\"]=f1_score(y_test, predictions_LR, average='macro' ) \n",
        "\n",
        "\n",
        "#print(F1_scores)\n",
        "F1_scoreslist=list(F1_scores.values())   # το κάνω list για να περάσει ως παράμετρος\n",
        "\n",
        "\n",
        "import matplotlib.pyplot as plt\n",
        "\n",
        "fig, ax = plt.subplots(figsize=(13,7))\n",
        "classifiers = ['uniform', 'constant_2', 'constant_4', 'most_frequent', 'stratified', 'Gaussian', 'knn(5)', 'LR']\n",
        "ax.bar(classifiers , F1_scoreslist, width=0.8)\n",
        "ax.set_title('f1-scores')\n",
        "\n",
        "plt.show()"
      ]
    },
    {
      "cell_type": "markdown",
      "metadata": {
        "id": "nC9nYbYI7NUD"
      },
      "source": [
        "| uniform  |  constan_2  | constant_4   | most_frequent  | stratified  | Gaussian   | knn(5) | LR  |\n",
        "|---|---|---|---|---|---|---|---|\n",
        "|0.16840947305734577| 0.032132272656371856 | 0.031000469704086427| 0.16046370616807035| 0.06288515406162466| 0.7816953830745627 |0.8981946027446347| 0.7217731176646213|"
      ]
    },
    {
      "cell_type": "markdown",
      "metadata": {
        "id": "ts1cDkG6Yl6t"
      },
      "source": [
        "Αρχικά, βλέπουμε ότι κάθε ταξινομητής έχει διαφορετικές τιμές για κάθε μετρική, αφού το data set είναι imbalanced.\n",
        "\n",
        "Παρατηρούμε ότι την καλύτερη απόδοση έχει ο knn(5) και ως προς τις δύο μετρικές. \n",
        "\n",
        "Ο KNN που δεν έχει φάση εκπαίδευσης, εξετάζει όλα τα στοιχεία του train set σε κάθε βήμα, αλλά δεν είναι βελτιστοποιημένος ως προς την υπερπαράμετρο k, η οποία είναι ιδιαιτέρως σημαντική για την απόδοση του ταξινομητή.\n",
        "\n",
        "Επίσης οι αποκλίσεις από τη μέση τιμή και την διασπορά είναι πολύ μικρές αφού τα δεδομένα είναι κανονικοποιημένα στο [-1,1] και ένας λόγος αστοχίας του Gaussian NB είναι οι μεγάλες αυτές αποκλίσεις, που εδώ δεν παρατηρούνται.\n",
        "\n",
        "Οι dummy classifiers, σε κάθε run παρουσιάζουν διαφορετικές αποδόσεις αλλά κυμαίνονται στα ίδια επίπεδα. Από αυτούς μπορούμε να λάβουμε σοβαρά υπόψην μας είναι ο stratified και o uniform."
      ]
    },
    {
      "cell_type": "markdown",
      "metadata": {
        "id": "FX6INP8dfbd7"
      },
      "source": [
        "Τα παραπάνω ήταν out-of-the-box ταξινομήσεις , παρακάτω θα μελετήσουμε τρόπους βελτιστοποίησης:"
      ]
    },
    {
      "cell_type": "markdown",
      "metadata": {
        "id": "N22rsc7WfNqV"
      },
      "source": [
        "#Βελτιστοποίηση ταξινομητών"
      ]
    },
    {
      "cell_type": "markdown",
      "metadata": {
        "id": "dXqMqC4ZfP_0"
      },
      "source": [
        "##Μελέτη της Βελτιστοποίησης Υπερπαραμέτρων\n",
        "\n",
        "Οι dummy και Gaussian NB δεν έχουν υπερπαραμέτρους προς βελτιστοποίηση.\n",
        "\n",
        "Στο βήμα αυτό, βελτιστοποιούμε ως προς την υπερπαράμετρο k του KNN και αξιολογούμε την απόδοσή του συναρτήσει της παραμέτρου με τη βοήθεια δύο βοηθητικών εργαλείων: το Validation Curve και το Learning Curve. Τέλος, \n",
        "θα συγκρίνουμε τον βελτιστοποιημένο ταξινομητή με τους υπόλοιπους."
      ]
    },
    {
      "cell_type": "markdown",
      "metadata": {
        "id": "xCnJlpcaua3V"
      },
      "source": [
        "Αρχικά θα κάνουμε μια συνοπτική επισκόπηση των δύο εργαλείων Validation Curve και Learning curve.\n",
        "\n",
        "**Validation Curve**: Αποτελεί σημαντικό εργαλείο απεικόνισης της απόδοσης ενός μοντέλου ως προς μια μετρική, συναρτήσει κάποιας υπερπαραμέτρου. Απεικονίζει 2 καμπύλες: μία για το training set score και μία για το cross-validation score.\n",
        "\n",
        "**Learning Curve**: Η καμπύλη αυτή μας δείχνει το training και το testing score του εκτιμητή ως συνάρτηση του μεγέθους των training data. Οπτικοποιεί το πόσο βοηθά το σύστημα η προσθήκη περισσότερων training δεδομένων και το κατά πόσο ο εκτιμητής πάσχει απόό variance ή bias error.\n"
      ]
    },
    {
      "cell_type": "markdown",
      "metadata": {
        "id": "jp0V4rskunF8"
      },
      "source": [
        "####Βελτιστοποίηση kNN\n",
        "\n",
        "\n",
        "Για τη βελτιστοποίηση του k κάνουμε grid search, με 10-fold cross validation, oρίζoντας ένα πεδίο ορισμού για το k. Για κάθε τιμή k, θα πρέπει να υπολογιστεί ο μέσος όρος του εκτιμητή σε όλα τα folds του cross-validation με βάση το  f1_macro και να επιλεχθεί το καλύτερο k.\n",
        "\n",
        "Η συγκεκριμένη στρατηγική αναζήτησης των βέλτιστων υπερπαραμέτρων είναι η εξαντλητική αναζήτηση πλέγματος (exhaustive grid search) και είναι προφανώς πολύ ακριβή υπολογιστικά. Υπάρχουν διάφορες τεχνικές για να περιορίζεται η πολυπλοκότητα του grid search, αλλά δεν το αποφεύγουμε γενικά, γιατί οι υπερπαράμετροι είναι ορίσματα των εκτιμητών και δεν μαθαίνονται από την fit.\n"
      ]
    },
    {
      "cell_type": "code",
      "execution_count": 163,
      "metadata": {
        "colab": {
          "base_uri": "https://localhost:8080/"
        },
        "id": "Al5Xk-MBfQt8",
        "outputId": "8792c04a-91df-4fdb-bb24-b5248b390082"
      },
      "outputs": [
        {
          "name": "stdout",
          "output_type": "stream",
          "text": [
            "CPU times: user 133 ms, sys: 6.1 ms, total: 139 ms\n",
            "Wall time: 2.5 s\n",
            "Best parameters regarding f1_macro is = 'neighbors': 7}\n"
          ]
        }
      ],
      "source": [
        "from sklearn.model_selection import GridSearchCV\n",
        "param_grid = {'n_neighbors':[1,2,3,4,5,6,7,8]} \n",
        "\n",
        "grid = GridSearchCV(KNeighborsClassifier(), param_grid, refit = True,  cv = 10, n_jobs = -1,scoring=\"f1_macro\")\n",
        "\n",
        "%time grid.fit(X_train, y_train) \n",
        "\n",
        "print(\"Best parameters regarding f1_macro is = \" +str(grid.best_params_))\n",
        "\n",
        "opt_k =grid.best_params_.get(\"n_neighbors\")\n",
        "#print(opt_k)\n"
      ]
    },
    {
      "cell_type": "markdown",
      "metadata": {
        "id": "QF4QyUJjvzUI"
      },
      "source": [
        "\n",
        "To μοντέλο έχει optimal k = 7 (που είναι και περιττός)\n",
        "\n",
        "Στη συνέχεια απεικονίζουμε γραφικά τις validation curves για το f1_macro, θεωρώντας ως υπερπαράμετρο το πλήθος των γειτόνων(k) του kNN.\n"
      ]
    },
    {
      "cell_type": "code",
      "execution_count": 30,
      "metadata": {
        "colab": {
          "base_uri": "https://localhost:8080/",
          "height": 300
        },
        "id": "U7G3NnFhwMxQ",
        "outputId": "7005c6e9-4e80-418d-e4e8-005bd09bb263"
      },
      "outputs": [
        {
          "data": {
            "image/png": "[encoded data removed]",
            "text/plain": [
              "<Figure size 432x288 with 1 Axes>"
            ]
          },
          "metadata": {
            "needs_background": "light"
          },
          "output_type": "display_data"
        }
      ],
      "source": [
        "from sklearn.model_selection import validation_curve\n",
        "\n",
        "param_range = [1,2,3,4,5,6,7,8,9,10]\n",
        "train_scores, test_scores = validation_curve( KNeighborsClassifier(), X_train, y_train,  param_name=\"n_neighbors\", param_range=param_range, scoring=\"f1_macro\", n_jobs=-1,cv = 10)\n",
        "\n",
        "train_scores_mean = np.mean(train_scores, axis=1)\n",
        "train_scores_std = np.std(train_scores, axis=1)\n",
        "test_scores_mean = np.mean(test_scores, axis=1)\n",
        "test_scores_std = np.std(test_scores, axis=1)\n",
        "\n",
        "plt.title(\"Validation Curve with KNN scroning f1_macro\")\n",
        "plt.xlabel(\"n_neighbors\")\n",
        "plt.ylabel(\"f1_macro Score\")\n",
        "plt.ylim(0.2, 1.4)\n",
        "lw = 2\n",
        "plt.semilogx(param_range, train_scores_mean, label=\"Training score\", color=\"darkorange\", lw=lw)\n",
        "plt.fill_between(param_range, train_scores_mean - train_scores_std, train_scores_mean + train_scores_std, alpha=0.2, color=\"darkorange\", lw=lw)\n",
        "plt.semilogx(param_range, test_scores_mean, label=\"Cross-validation score\", color=\"navy\", lw=lw)\n",
        "plt.fill_between(param_range, test_scores_mean - test_scores_std, test_scores_mean + test_scores_std, alpha=0.2, color=\"navy\", lw=lw)\n",
        "plt.legend(loc=\"best\")\n",
        "plt.show()"
      ]
    },
    {
      "cell_type": "markdown",
      "metadata": {
        "id": "CsxJbG0Ry09M"
      },
      "source": [
        "Από τις δύο παραπάνω καμπύλες παρατηρούμε παρόμοια συμπεριφορά του training και cross-validation score ειδικά προς το τέλος. Γενικά παρατηρούμε ότι οι δύο καμπύλες συγκλίνουν σε μεγάλο βαθμό για μεγαλυτερες τιμές της υπερπαραμέτρου k, το οποίο μας δείχνει ότι τα δεδομένα είναι fitted αρκετά καλά από τον ταξινομητή. Επίσης, δεν υπάρχουν μεγάλες διακυμάνσεις στις καμπύλες, που σημαίνει ότι το σύστημα είναι ευσταθές ως προς την παράμετρο n_neighbors. \n",
        "Ωστόσο, παρατηρούμε ότι για k = 7, η καμπύλη του validation λαμβάνει τη μέγιστη τιμή(φαίνεται οριακά πως η μπλε γραμμή αυξάνει έστω και ελάχιστα), υποδηλώνοντας ότι αυτή είναι η τιμή στην οποία το σύστημα παρουσιάζει την καλύτερη απόδοση, το οποίο συμφωνεί και με το παραπάνω αποτέλεσμα του grid search. "
      ]
    },
    {
      "cell_type": "markdown",
      "metadata": {
        "id": "lARMn-Or19ur"
      },
      "source": [
        "Παρακάτω απεικονίζουμε γραφικά τις learning curves για το f1_macro, θεωρώντας ότι ο ταξινομητής έχει λειτουργήσει με k=5, δηλαδή με βέλτιστη υπερπαράμετρο.\n"
      ]
    },
    {
      "cell_type": "code",
      "execution_count": 31,
      "metadata": {
        "id": "VvZnJ18M2DVQ"
      },
      "outputs": [],
      "source": [
        "def plot_learning_curve(train_scores, test_scores, train_sizes,title):\n",
        "    plt.figure()\n",
        "    plt.grid()\n",
        "    plt.title(title)\n",
        "    plt.xlabel(\"Training examples\")\n",
        "    plt.ylabel(\"Score\")\n",
        "\n",
        "    train_scores_mean = np.mean(train_scores, axis=1)\n",
        "    train_scores_std = np.std(train_scores, axis=1)\n",
        "    test_scores_mean = np.mean(test_scores, axis=1)\n",
        "    test_scores_std = np.std(test_scores, axis=1)\n",
        "    plt.grid()\n",
        "\n",
        "    plt.fill_between(train_sizes, train_scores_mean - train_scores_std, train_scores_mean + train_scores_std, alpha=0.1, color=\"r\")\n",
        "    plt.fill_between(train_sizes, test_scores_mean - test_scores_std, test_scores_mean + test_scores_std, alpha=0.1, color=\"g\")\n",
        "    plt.plot(train_sizes, train_scores_mean, 'o-', color=\"r\", label=\"Training score\")\n",
        "    plt.plot(train_sizes, test_scores_mean, 'o-', color=\"g\",label=\"Testing score\")\n",
        "    plt.legend(loc=\"best\")\n",
        "    return"
      ]
    },
    {
      "cell_type": "code",
      "execution_count": 32,
      "metadata": {
        "colab": {
          "base_uri": "https://localhost:8080/",
          "height": 295
        },
        "id": "mhdWPWze2JL0",
        "outputId": "2dbecb6d-440c-4c02-b714-93fae9b8fae5"
      },
      "outputs": [
        {
          "data": {
            "image/png": "[encoded data removed]",
            "text/plain": [
              "<Figure size 432x288 with 1 Axes>"
            ]
          },
          "metadata": {
            "needs_background": "light"
          },
          "output_type": "display_data"
        }
      ],
      "source": [
        "from sklearn.model_selection import learning_curve\n",
        "train_sizes, train_scores, test_scores = learning_curve(KNeighborsClassifier(n_neighbors=opt_k), X_train, y_train, train_sizes = np.linspace(0.1, 1.0, 5), n_jobs = -1, scoring=\"f1_macro\")\n",
        "plot_learning_curve(train_scores, test_scores, train_sizes,\"Learning Curve scoring f1_macro\")\n"
      ]
    },
    {
      "cell_type": "markdown",
      "metadata": {
        "id": "HSpK7e7U2_Om"
      },
      "source": [
        "Από τα παραπάνω βλέπουμε ότι καμπύλη του training score είναι πάνω από το testing, που σημαίνει ότι το μοντέλο είναι underfitted. Αυτό είναι λογικό καθώς έχουμε πολύ μικρό πλήθος δεδομένων, ώστε να δημιουργήσουμε ένα ακριβές μοντέλο."
      ]
    },
    {
      "cell_type": "markdown",
      "metadata": {
        "id": "Ljthb3_r4Yib"
      },
      "source": [
        "Για πληρότητα παρουσιάζουμε και τα αποτελέσματα των dummy stratified και Gaussian Naive Bayes με 10-fold-cross-validation:"
      ]
    },
    {
      "cell_type": "markdown",
      "metadata": {
        "id": "I_pr1rdds8iv"
      },
      "source": [
        "####Dummy stratified"
      ]
    },
    {
      "cell_type": "code",
      "execution_count": 33,
      "metadata": {
        "colab": {
          "base_uri": "https://localhost:8080/"
        },
        "id": "cPNl7HuM4cxn",
        "outputId": "9c29122b-5d18-4e24-c227-f14a97955ac5"
      },
      "outputs": [
        {
          "name": "stdout",
          "output_type": "stream",
          "text": [
            "Stratified dummy classifier CV f1_macro score = 16.619722 +-2.124257\n"
          ]
        }
      ],
      "source": [
        "from sklearn.model_selection import cross_val_predict\n",
        "from sklearn.model_selection import cross_val_score\n",
        "\n",
        "dc_stratified = DummyClassifier(strategy=\"stratified\")\n",
        "dc_stratified.fit(X_train, y_train)\n",
        "\n",
        "dc_stratified_predict = cross_val_predict(dc_stratified, X_train, y_train, cv=10)\n",
        "\n",
        "scores_most_stratified_macro = cross_val_score(dc_stratified , X_train, y_train, cv=10, scoring=\"f1_macro\")\n",
        "\n",
        "\n",
        "print(\"Stratified dummy classifier CV f1_macro score = %f +-%f\" % (100*np.mean(scores_most_stratified_macro), 100*np.std(scores_most_stratified_macro)))"
      ]
    },
    {
      "cell_type": "markdown",
      "metadata": {
        "id": "DnLtilAA7wyp"
      },
      "source": [
        "Παρατηρούμε ότι το αποτέλεσμα είναι πολύ κοντά σε αυτό της out-of-order ταξινόμησης"
      ]
    },
    {
      "cell_type": "code",
      "execution_count": 34,
      "metadata": {
        "colab": {
          "base_uri": "https://localhost:8080/"
        },
        "id": "lJItl3C2Dqq_",
        "outputId": "694b9370-d891-4cae-ffee-aac2d81ab815"
      },
      "outputs": [
        {
          "name": "stdout",
          "output_type": "stream",
          "text": [
            "[0.16323647046229736, 0.1632057985162616, 0.163207322408278]\n",
            "\n",
            "All the details shown here:\n",
            "\n",
            "              precision    recall  f1-score   support\n",
            "\n",
            "           1       0.22      0.22      0.22      1084\n",
            "           2       0.11      0.11      0.11       497\n",
            "           3       0.22      0.22      0.22       936\n",
            "           4       0.09      0.09      0.09       428\n",
            "           5       0.12      0.11      0.11       494\n",
            "           6       0.23      0.23      0.23      1065\n",
            "\n",
            "    accuracy                           0.19      4504\n",
            "   macro avg       0.16      0.16      0.16      4504\n",
            "weighted avg       0.19      0.19      0.19      4504\n",
            "\n"
          ]
        }
      ],
      "source": [
        "\n",
        "from sklearn.metrics import precision_recall_fscore_support\n",
        "\n",
        "# εκτυπώνουμε το μέσο όρο των precision, recall και F1 θεωρώντας ότι οι κλάσεις έχουν το ίδιο βάρος (average = macro)\n",
        "macro_dc_stratified = list(precision_recall_fscore_support(y_train, dc_stratified_predict, average='macro'))\n",
        "macro_dc_stratified .pop(3) # tou support\n",
        "precision_macro_dc_stratified = macro_dc_stratified[0]\n",
        "recall_macro_dc_stratified  = macro_dc_stratified[1]\n",
        "f1_macro_dc_stratified = macro_dc_stratified[2]\n",
        "print(macro_dc_stratified)\n",
        "print()\n",
        "print(\"All the details shown here:\")\n",
        "print()\n",
        "print(classification_report(y_train, dc_stratified_predict, target_names= ['1' , '2' , '3' , '4' , '5', '6' ] ) )"
      ]
    },
    {
      "cell_type": "markdown",
      "metadata": {
        "id": "TMw6AGv1FEci"
      },
      "source": [
        "####Gaussian Naive Bayes"
      ]
    },
    {
      "cell_type": "code",
      "execution_count": 35,
      "metadata": {
        "colab": {
          "base_uri": "https://localhost:8080/"
        },
        "id": "DhIDqNGmFJK2",
        "outputId": "a4154188-28f6-4887-f355-03d2d80965ed"
      },
      "outputs": [
        {
          "name": "stdout",
          "output_type": "stream",
          "text": [
            "\n",
            "Gaussian Naive Bayes classifier CV f1_macro score = 77.688255 +-1.441109\n"
          ]
        }
      ],
      "source": [
        "clf = GaussianNB()\n",
        "clf.fit(X_train, y_train)\n",
        "\n",
        "#GaussianNB_predict = clf.predict(X_test)\n",
        "GaussianNB_predict = cross_val_predict(clf, X_train, y_train, cv=10)\n",
        "\n",
        "#print(\"Predictions for Gaussian Naive Bayes classifier:\"+\"\\n\"+\" {}\".format(GaussianNB_predict))\n",
        "print()\n",
        "\n",
        "GaussianNB_macro = cross_val_score(clf, X_train, y_train, cv=10, scoring=\"f1_macro\")\n",
        "\n",
        "print(\"Gaussian Naive Bayes classifier CV f1_macro score = %f +-%f\" % (100*np.mean(GaussianNB_macro), 100*np.std(GaussianNB_macro)))"
      ]
    },
    {
      "cell_type": "code",
      "execution_count": 36,
      "metadata": {
        "colab": {
          "base_uri": "https://localhost:8080/"
        },
        "id": "kpZoApOeGKQ3",
        "outputId": "ad1617b9-2cbe-4935-f639-da068a5884a9"
      },
      "outputs": [
        {
          "name": "stdout",
          "output_type": "stream",
          "text": [
            "[0.7796772835758888, 0.7851178034981426, 0.7774024045679084]\n",
            "\n",
            "All the details shown here:\n",
            "\n",
            "              precision    recall  f1-score   support\n",
            "\n",
            "           1       0.90      0.80      0.85      1084\n",
            "           2       0.99      0.89      0.94       497\n",
            "           3       0.89      0.89      0.89       936\n",
            "           4       0.48      0.64      0.55       428\n",
            "           5       0.56      0.72      0.63       494\n",
            "           6       0.86      0.76      0.81      1065\n",
            "\n",
            "    accuracy                           0.80      4504\n",
            "   macro avg       0.78      0.79      0.78      4504\n",
            "weighted avg       0.82      0.80      0.81      4504\n",
            "\n"
          ]
        }
      ],
      "source": [
        "\n",
        "# εκτυπώνουμε το μέσο όρο των precision, recall και F1 θεωρώντας ότι οι κλάσεις έχουν το ίδιο βάρος (average = macro)\n",
        "macro_GNB = list(precision_recall_fscore_support(y_train, GaussianNB_predict, average='macro'))\n",
        "macro_GNB.pop(3) # tou support\n",
        "precision_macro_GNB = macro_GNB[0]\n",
        "recall_macro_GNB = macro_GNB[1]\n",
        "f1_macro_GNB = macro_GNB[2]\n",
        "\n",
        "print(macro_GNB)\n",
        "print()\n",
        "print(\"All the details shown here:\")\n",
        "print()\n",
        "print(classification_report(y_train, GaussianNB_predict, target_names=['1' , '2' , '3' , '4' , '5', '6' ] ) )"
      ]
    },
    {
      "cell_type": "markdown",
      "metadata": {
        "id": "Hg6XufCL8yEK"
      },
      "source": [
        "###Logistic Regression"
      ]
    },
    {
      "cell_type": "code",
      "execution_count": null,
      "metadata": {
        "id": "xAwytTmm82nS"
      },
      "outputs": [],
      "source": [
        "from sklearn.linear_model import LogisticRegression\n",
        "LR = LogisticRegression()\n",
        "LR.fit(X_train, y_train)\n",
        "\n",
        "\n",
        "macro_LR= np.mean(cross_val_score(LR, X_train, y_train, cv=5, scoring=\"f1_macro\"))\n",
        "\n",
        "print(\"LR classifier CV f1_macro score = %f +-%f\" % (100*np.mean(GaussianNB_macro), 100*np.std(GaussianNB_macro)))"
      ]
    },
    {
      "cell_type": "markdown",
      "metadata": {
        "id": "6BtZrCUojBzJ"
      },
      "source": [
        "###Σύγκριση ταξινομητών βελτιστοποιημένων"
      ]
    },
    {
      "cell_type": "code",
      "execution_count": 38,
      "metadata": {
        "colab": {
          "base_uri": "https://localhost:8080/",
          "height": 312
        },
        "id": "Gd02gY4VGryB",
        "outputId": "49dd716b-6a43-4344-a4f2-5f9c47e94153"
      },
      "outputs": [
        {
          "name": "stdout",
          "output_type": "stream",
          "text": [
            "[0.163207322408278, 0.7774024045679084, 0.8817884452760646, 0.886028428363144, 0.725495146478588]\n"
          ]
        },
        {
          "data": {
            "image/png": "[encoded data removed]",
            "text/plain": [
              "<Figure size 432x288 with 1 Axes>"
            ]
          },
          "metadata": {
            "needs_background": "light"
          },
          "output_type": "display_data"
        }
      ],
      "source": [
        "import matplotlib.pyplot as plt\n",
        "from sklearn.neighbors import KNeighborsClassifier\n",
        "from sklearn.metrics import f1_score \n",
        "from sklearn.model_selection import cross_val_score\n",
        "import numpy as np\n",
        "\n",
        "\n",
        "\n",
        "#ξανατρέχω το kNN με την παράμετρο default k=5\n",
        "KNN = KNeighborsClassifier(n_neighbors=5)\n",
        "KNN.fit(X_train,y_train)\n",
        "KNN_predict = knn.predict(X_test)\n",
        "\n",
        "\n",
        "#macro_KNN = f1_score(y_test, KNN_predict, average='macro')\n",
        "\n",
        "macro_KNN= np.mean(cross_val_score(KNN, X_train, y_train, cv=10, scoring=\"f1_macro\"))\n",
        "\n",
        "\n",
        "# τρέχω το kNN για την βέλτιστη παράμετρο k=3\n",
        "KNN_opt = KNeighborsClassifier(n_neighbors= opt_k)\n",
        "\n",
        "macro_KNN_opt = np.mean(cross_val_score(KNN_opt, X_train, y_train, cv=10, scoring=\"f1_macro\"))\n",
        "\n",
        "\n",
        "fig = plt.figure()\n",
        "x = ['Dummy stratified', 'GNB', 'KNN', 'KNN_optimal' , 'LR']\n",
        "y= [f1_macro_dc_stratified,f1_macro_GNB, macro_KNN, macro_KNN_opt , macro_LR]\n",
        "print(y)\n",
        "plt.bar( x, y, align='center', width=0.8)\n",
        "plt.xticks(x,x)\n",
        "plt.title('macro')\n",
        "plt.xlabel('Classifier')\n",
        "plt.ylabel('Score')\n",
        "plt.show()"
      ]
    },
    {
      "cell_type": "markdown",
      "metadata": {
        "id": "yjwhX3CdFG9W"
      },
      "source": [
        "Από το παραπάνω διάγραμμα φαίνεται ότι ο βελτιωμένος kNN ( k=7) έχει καλύτερη απόδοση από τον απλό ταξινομητή kNN (k=5)."
      ]
    },
    {
      "cell_type": "markdown",
      "metadata": {
        "id": "IcD6jfWC988Q"
      },
      "source": [
        "##Προεπεξεργασία\n",
        "\n",
        "Στο βήμα αυτό θα μελετήσουμε **εποπτικά**, τα στάδια προεπεξεργασίας των δεδομένων(μείωση διαστάσεων, κανονικοποίηση χαρ/κων , εξισορρόπιση δεδομένων) και πως επηρεάζουν χονδρικά τους ταξινομητές. Έπειτα, θα χρησιμοποιήσουμε pipelines για να βρούμε **συγκεκριμένα** ποιες μέθοδοι/υπερπαράμετροι στην προεπεξεργασία θα μας δώσουν βέλτιστο αποτέλεσμα."
      ]
    },
    {
      "cell_type": "markdown",
      "metadata": {
        "id": "4CZVkPHwXxPo"
      },
      "source": [
        "###Κανονικοποίηση\n",
        "Σε πρώτη φάση κάνουμε κανονικοποίηση των χαρακτηριστικών ώστε να αποφύγουμε χαρακτηριστικά με πολύ μεγάλες διαφορές στις τιμές τους καθώς μπορεί να προκαλέσουν προβλήματα στην εκπαίδευση.\n",
        "\n",
        "Η κανονικοποίηση μετασχηματίζει τις τιμές των χαρακτηριστικών ώστε να αμβλυνθούν αυτές οι διαφορές και γίνεται με 2 τρόπους: Διαιρώντας με τη διαφορά μεγίστου-ελαχίστου (feature scaling) οπότε οι τιμές όλων των χαρακτηριστικών κλιμακώνονται γραμμικά στο διάστημα [0,1] **ή** με το standard score του κάθε χαρακτηριστικού, που κάνει το χαρακτηριστικό να έχει μέση τιμή μηδέν και διακύμανση μονάδα.\n",
        "Εμείς θα χρησιμοποιήσουμε τον MinMax αλγόριθμο.\n"
      ]
    },
    {
      "cell_type": "code",
      "execution_count": 39,
      "metadata": {
        "colab": {
          "base_uri": "https://localhost:8080/"
        },
        "id": "lm1eAFZGanul",
        "outputId": "d887502a-4c58-4283-d984-e4f9672c6d6d"
      },
      "outputs": [
        {
          "name": "stdout",
          "output_type": "stream",
          "text": [
            "[0.48574223 0.51587025 0.53122377 0.40988483 0.46644624 0.51235347\n",
            " 0.51616561 0.42733092 0.46865238 0.54339771 0.4820987  0.39890747\n",
            " 0.46920288 0.54648349 0.5273791  0.42005986 0.45733266 0.54747528\n",
            " 0.53697325 0.40006849 0.46118791 0.54344296 0.49931889 0.39458051\n",
            " 0.45886199 0.54566187 0.54721215 0.42909166 0.45544731 0.54755572\n",
            " 0.51760473 0.41809215 0.45089979 0.54333737 0.51470468 0.41777657]\n",
            "[0.21580561 0.20822688 0.19169346 0.15569191 0.20952281 0.20763327\n",
            " 0.17587953 0.1520918  0.21985392 0.22202872 0.18690603 0.15299036\n",
            " 0.21001284 0.22021658 0.19920429 0.15919679 0.21256907 0.22308405\n",
            " 0.1939389  0.15305327 0.20845112 0.22185998 0.18115951 0.15407434\n",
            " 0.21241994 0.22000604 0.18478501 0.14959063 0.21077848 0.22170117\n",
            " 0.17513787 0.14595228 0.21072614 0.22169112 0.17575779 0.14805634]\n"
          ]
        }
      ],
      "source": [
        "import matplotlib.pyplot as plt\n",
        "from scipy import stats as st\n",
        "import numpy as np\n",
        "\n",
        "from sklearn import preprocessing\n",
        "\n",
        "# το ίδιο με  min max scaling\n",
        "min_max_scaler = preprocessing.MinMaxScaler()\n",
        "X_train_minmax = min_max_scaler.fit_transform(X_train)\n",
        "#print(X_train_minmax, \"\\n\")\n",
        "X_test_minmax = min_max_scaler.transform(X_test)\n",
        "#print(X_test_minmax)\n",
        "\n",
        "print(X_test_minmax.mean(axis=0))\n",
        "print(X_test_minmax.std(axis=0))"
      ]
    },
    {
      "cell_type": "markdown",
      "metadata": {
        "id": "pBFJapWyDAym"
      },
      "source": [
        "###Μείωση διαστάσεων\n"
      ]
    },
    {
      "cell_type": "markdown",
      "metadata": {
        "id": "ksbKH9evgKRd"
      },
      "source": [
        "#### με Variance threshold\n",
        "Εφαρμόζουμε την τεχνική Variance Threshold, έτσι ώστε να μειώσουμε τις διαστάσεις των δεδομένων μας.\n",
        "Σε γενικές γραμμές αν η διακύμανση ενός χαρακτηριστικού εισόδου είναι πολύ χαμηλή, δεν μπορεί να προσφέρει σημαντικά στη διαχωριστική ικανότητα του ταξινομητή, οπότε μπορούμε να αφαιρέσουμε αυτά τα χαρακτηριστικά. Πρέπει επίσης να πάρουμε μια μάσκα (index) των χαρακτηριστικών που επιλέγουμε, ώστε να την εφαρμόσουμε και στα δεδομένα train ώστε να έχουν τις ίδιες διαστάσεις. Αυτό δεν σπάει τον κανόνα ότι δεν χρησιμοποιούμε τα δεδομένα test γιατί μπορούμε να θεωρήσουμε ότι ο ταξινομητής απλώς αγνοεί τις εισόδους που δεν περιλαμβάνονται στη μάσκα. "
      ]
    },
    {
      "cell_type": "markdown",
      "metadata": {
        "id": "6UMj-9HW5weG"
      },
      "source": [
        "Αρχικά παρατηρούμε τις διακυμάνσεις για κάθε χαρακτηριστικό, ώστε να βρούμε το threshold το οποίο εξίζει να εφαρμόσουμε."
      ]
    },
    {
      "cell_type": "code",
      "execution_count": 40,
      "metadata": {
        "colab": {
          "base_uri": "https://localhost:8080/"
        },
        "id": "XL9WgszQ6NIL",
        "outputId": "e0d8d88c-9fd1-4e59-8d3e-de1e4515af35"
      },
      "outputs": [
        {
          "name": "stdout",
          "output_type": "stream",
          "text": [
            "[0.0466545  0.04322483 0.03654038 0.02445165 0.0433549  0.04335416\n",
            " 0.03069147 0.02288173 0.0467068  0.04924419 0.03493772 0.02343696\n",
            " 0.04364569 0.04815931 0.039232   0.02590565 0.04453575 0.04930419\n",
            " 0.03785495 0.02362119 0.04261671 0.04941218 0.03316627 0.02416287\n",
            " 0.04496984 0.04791397 0.0340315  0.0233801  0.04443837 0.04921049\n",
            " 0.03101563 0.0224869  0.04359726 0.04902951 0.03087595 0.0222573 ]\n"
          ]
        }
      ],
      "source": [
        "Xvar = np.var(X_train_minmax, axis=0)\n",
        "print(Xvar)"
      ]
    },
    {
      "cell_type": "code",
      "execution_count": 41,
      "metadata": {
        "colab": {
          "base_uri": "https://localhost:8080/"
        },
        "id": "epxjMons-PGI",
        "outputId": "cefccb33-1188-4c65-bf27-2bf6fb4438fc"
      },
      "outputs": [
        {
          "name": "stdout",
          "output_type": "stream",
          "text": [
            "(1931, 36)\n",
            "(4504, 28)\n"
          ]
        }
      ],
      "source": [
        "from sklearn.feature_selection import VarianceThreshold\n",
        "\n",
        "#print(X_train)\n",
        "# αρχικοποιούμε έναν selector\n",
        "selector = VarianceThreshold(threshold=0.025)\n",
        "# όπως κάναμε και με τους ταξινομητές τον κάνουμε fit στα δεδομένα εκπαίδευσης\n",
        "train_reduced = selector.fit_transform(X_train_minmax)\n",
        "#print(train_reduced)\n",
        "mask = selector.get_support()\n",
        "#print(mask)\n",
        "\n",
        "print(X_test.shape)\n",
        "\n",
        "test_reduced = selector.transform(X_test_minmax)\n",
        "#print(test_reduced)\n",
        "print(train_reduced.shape)"
      ]
    },
    {
      "cell_type": "markdown",
      "metadata": {
        "id": "AcGj2Cb73FGL"
      },
      "source": [
        "Παρατηρούμε πως για threshold=0.025 απομονώνεται σημαντικό ποσοστό διαστάσεων(χαρακτηριστικών)"
      ]
    },
    {
      "cell_type": "code",
      "execution_count": 42,
      "metadata": {
        "colab": {
          "base_uri": "https://localhost:8080/"
        },
        "id": "ksZJXwO4hN7Y",
        "outputId": "54032475-59d0-4947-e8d2-ce1e7bfc8a54"
      },
      "outputs": [
        {
          "name": "stdout",
          "output_type": "stream",
          "text": [
            "f1-macro average for uniform : 0.156678204009378\n",
            "f1-macro average for const_2 : 0.032132272656371856\n",
            "f1-macro average for const_4 : 0.031000469704086427\n",
            "f1-macro average for stratif : 0.16308506324804595\n",
            "f1-macro average for frequent : 0.06288515406162466\n"
          ]
        }
      ],
      "source": [
        "new_predictions, new_accuracies, fit_times, pred_times = DummyClassification(X_train_minmax,y_train,X_test_minmax,y_test)\n",
        "\n",
        "\n",
        "for strategy in new_predictions:\n",
        "    print(\"f1-macro average for\",strategy,\":\",f1_score(y_test,new_predictions[strategy], average='macro'))\n"
      ]
    },
    {
      "cell_type": "code",
      "execution_count": 43,
      "metadata": {
        "colab": {
          "base_uri": "https://localhost:8080/"
        },
        "id": "ndLIV_q12OB5",
        "outputId": "0f0dbe28-564b-47b5-a939-ecde7c073215"
      },
      "outputs": [
        {
          "name": "stdout",
          "output_type": "stream",
          "text": [
            "f1-macro average for: 0.894647737063064\n"
          ]
        }
      ],
      "source": [
        "knn = KNeighborsClassifier(n_neighbors=5)\n",
        "knn.fit(X_train_minmax, y_train)          #εκπαιδεύω με τα δεδομένα μικρότερης διάστασης\n",
        "pred = knn.predict(X_test_minmax)             # κάνω classify με τα δεδομένα μικρότερης διάστασης\n",
        "\n",
        "print(\"f1-macro average for:\", f1_score(y_test, pred, average='macro'))"
      ]
    },
    {
      "cell_type": "markdown",
      "metadata": {
        "id": "AdAN1SG1IBDk"
      },
      "source": [
        "\n",
        "\n",
        "#### με PCA\n",
        "Επίσης, δοκιμάζω και την μέθοδο PCA."
      ]
    },
    {
      "cell_type": "code",
      "execution_count": 44,
      "metadata": {
        "colab": {
          "base_uri": "https://localhost:8080/"
        },
        "id": "TY1WoqqxOOxR",
        "outputId": "b50f92a4-99f6-490f-eb16-59eb89deb350"
      },
      "outputs": [
        {
          "name": "stdout",
          "output_type": "stream",
          "text": [
            "\n",
            "The first component contains 53.07% of the total information and the second one contains 31.40%\n",
            "In total the 2 components contains 84.47% of the total information\n",
            "\n"
          ]
        }
      ],
      "source": [
        "from sklearn.decomposition import PCA\n",
        "\n",
        "pca = PCA(n_components=8)\n",
        "pca_x_train = pca.fit_transform(X_train_minmax)\n",
        "pca_x_test = pca.transform(X_test_minmax)                \n",
        "#print(\"The pca shape is: {}\".format(pca_x.shape))\n",
        "print()\n",
        "print(\"The first component contains {:.2f}% of the total information and the second one contains {:.2f}%\".format( (100*pca.explained_variance_ratio_[0]),(100*pca.explained_variance_ratio_[1]) ) )\n",
        "print(\"In total the 2 components contains {:.2f}% of the total information\".format((100*pca.explained_variance_ratio_[0])+(100*pca.explained_variance_ratio_[1])) )\n",
        "print()\n",
        "\n"
      ]
    },
    {
      "cell_type": "code",
      "execution_count": null,
      "metadata": {
        "id": "kZ-uquE-ADsV"
      },
      "outputs": [],
      "source": [
        "from sklearn.decomposition import PCA\n",
        "pca = PCA(n_components=2)\n",
        "principalComponents = pca.fit_transform(X_train_minmax)\n",
        "\n",
        "principalDf = pd.DataFrame(data = principalComponents , columns = ['principal component 1', 'principal component 2'])\n",
        "\n",
        "principalDf"
      ]
    },
    {
      "cell_type": "code",
      "execution_count": 46,
      "metadata": {
        "id": "M76vmK2hEfQ4"
      },
      "outputs": [],
      "source": [
        "dfff = pd.DataFrame(data = y_train , columns = ['class'])\n",
        "finalDf = pd.concat([principalDf , dfff], axis =1 , ignore_index=True)"
      ]
    },
    {
      "cell_type": "code",
      "execution_count": 47,
      "metadata": {
        "id": "UUZmSQ8qEz0e"
      },
      "outputs": [],
      "source": [
        "mapping = {finalDf.columns[0]:'principal component 1', finalDf.columns[1]: 'principal component 2', finalDf.columns[2]:'target'}\n",
        "finalDf = finalDf.rename(columns=mapping)"
      ]
    },
    {
      "cell_type": "code",
      "execution_count": 48,
      "metadata": {
        "colab": {
          "base_uri": "https://localhost:8080/",
          "height": 523
        },
        "id": "PCY5c1SlEqTu",
        "outputId": "88655b7e-1d68-4e80-c123-91fc13b49590"
      },
      "outputs": [
        {
          "data": {
            "image/png": "[encoded data removed]",
            "text/plain": [
              "<Figure size 576x576 with 1 Axes>"
            ]
          },
          "metadata": {
            "needs_background": "light"
          },
          "output_type": "display_data"
        }
      ],
      "source": [
        "fig = plt.figure(figsize = (8,8))\n",
        "ax = fig.add_subplot(1,1,1) \n",
        "ax.set_xlabel('Principal Component 1', fontsize = 15)\n",
        "ax.set_ylabel('Principal Component 2', fontsize = 15)\n",
        "ax.set_title('2 component PCA', fontsize = 20)\n",
        "\n",
        "targets = [1,2,3,4,5,6]\n",
        "colors = ['purple', 'blue' ,'red','yellow','green','orange']\n",
        "\n",
        "for x, color in zip(targets,colors):\n",
        "    indicesToKeep = finalDf['target'] == x\n",
        "    ax.scatter(finalDf.loc[indicesToKeep, 'principal component 1']\n",
        "               , finalDf.loc[indicesToKeep, 'principal component 2']\n",
        "               , c = color\n",
        "               , s = 50)\n",
        "ax.legend(targets)\n",
        "ax.grid()"
      ]
    },
    {
      "cell_type": "markdown",
      "metadata": {
        "id": "GArHovHEUjB2"
      },
      "source": [
        "Μπορούμε να δούμε ότι το PCA μας κρατάει συνολικά περίπου το 85% της συνολικής πληροφορίας και η υπόλοιπη \"χανεται\" λόγω της μείωσης διαστατικότητας. Επίσης παρατηρούμε ότι χωρίς κανονικοποίηση των δεδομένων το ποσοστό είναι πολύ καλό.\n"
      ]
    },
    {
      "cell_type": "code",
      "execution_count": 49,
      "metadata": {
        "colab": {
          "base_uri": "https://localhost:8080/"
        },
        "id": "cTxXYNz0kfh-",
        "outputId": "56ecfa52-4ab2-49d7-9d35-69dc716fa538"
      },
      "outputs": [
        {
          "name": "stdout",
          "output_type": "stream",
          "text": [
            "f1-macro average for uniform : 0.1521790466536386\n",
            "f1-macro average for const_2 : 0.032132272656371856\n",
            "f1-macro average for const_4 : 0.031000469704086427\n",
            "f1-macro average for stratif : 0.15509929452104446\n",
            "f1-macro average for frequent : 0.06288515406162466\n"
          ]
        }
      ],
      "source": [
        "new_predictions, new_accuracies, fit_times, pred_times = DummyClassification(pca_x_train, y_train, pca_x_test, y_test)\n",
        "\n",
        "for strategy in new_predictions:\n",
        "    print(\"f1-macro average for\",strategy,\":\",f1_score(y_test,new_predictions[strategy], average='macro'))\n"
      ]
    },
    {
      "cell_type": "code",
      "execution_count": 50,
      "metadata": {
        "colab": {
          "base_uri": "https://localhost:8080/"
        },
        "id": "dfByvU8fyWDe",
        "outputId": "6a81d74d-fc88-425c-fa5f-0077520b4e0a"
      },
      "outputs": [
        {
          "name": "stdout",
          "output_type": "stream",
          "text": [
            "f1-macro average for: 0.8858733991440472\n"
          ]
        }
      ],
      "source": [
        "knn = KNeighborsClassifier(n_neighbors=5)\n",
        "knn.fit(pca_x_train, y_train)          #εκπαιδεύω με τα δεδομένα μειώμενης διάστασης\n",
        "pred = knn.predict(pca_x_test)         # κάνω classify με τα δεδομένα μειωμένης διάστασης\n",
        "\n",
        "print(\"f1-macro average for:\", f1_score(y_test, pred, average='macro'))"
      ]
    },
    {
      "cell_type": "markdown",
      "metadata": {
        "id": "xAoVz4O-w_Rn"
      },
      "source": [
        "Παρατηρούμε λοιπόν, πως στον dummyclassifier δεν υπάρχει ουσιαστική διαφορά στην απόδοση (αναμενόμενο λόγω της φύσης του αλγορίθμου) ενώ στο knn(default=5) υπάρχει μικρή αύξηση στην απόδοση.Λογικό, αφού ο knn πρέπει να υπολογίσει την απόσταση από τους γείτονές του κάθε φορα, άρα με μειωμένη διάσταση , χρειάζονται λιγότεροι υπολογισμοί."
      ]
    },
    {
      "cell_type": "markdown",
      "metadata": {
        "id": "RCKDgatYqdOn"
      },
      "source": [
        "### Εξισορρόπηση δεδομένων\n",
        "\n",
        "Όπως παρατηρήσαμε στην αρχή, τα δεδομένα μας είναι imbalanced. Οι μισές κλάσεις έχουν σχεδόν διπλάσια δείγματα από τις άλλες μισές.Οπότε θα χρησιμοποιήσουμε oversampling για να ισορροπήσουμε το dataset."
      ]
    },
    {
      "cell_type": "code",
      "execution_count": 51,
      "metadata": {
        "colab": {
          "base_uri": "https://localhost:8080/"
        },
        "id": "06pQAOcBwaAB",
        "outputId": "8913ac66-292e-4aff-c2ae-f10ea3b8b0aa"
      },
      "outputs": [
        {
          "data": {
            "text/plain": [
              "1    1533\n",
              "6    1508\n",
              "3    1358\n",
              "5     707\n",
              "2     703\n",
              "4     626\n",
              "Name: 36, dtype: int64"
            ]
          },
          "execution_count": 51,
          "metadata": {},
          "output_type": "execute_result"
        }
      ],
      "source": [
        "df[36].value_counts()      #δείγματα που αντιστοιχουν ανά κλάση\n"
      ]
    },
    {
      "cell_type": "code",
      "execution_count": 52,
      "metadata": {
        "colab": {
          "base_uri": "https://localhost:8080/"
        },
        "id": "U5kjbiEXd8rg",
        "outputId": "0e09550f-abb0-4f71-8fcc-0db395f04148"
      },
      "outputs": [
        {
          "name": "stdout",
          "output_type": "stream",
          "text": [
            "Requirement already satisfied: imbalanced-learn in /usr/local/lib/python3.7/dist-packages (0.8.1)\n",
            "Requirement already satisfied: scipy>=0.19.1 in /usr/local/lib/python3.7/dist-packages (from imbalanced-learn) (1.4.1)\n",
            "Requirement already satisfied: joblib>=0.11 in /usr/local/lib/python3.7/dist-packages (from imbalanced-learn) (1.1.0)\n",
            "Requirement already satisfied: scikit-learn>=0.24 in /usr/local/lib/python3.7/dist-packages (from imbalanced-learn) (1.0.1)\n",
            "Requirement already satisfied: numpy>=1.13.3 in /usr/local/lib/python3.7/dist-packages (from imbalanced-learn) (1.19.5)\n",
            "Requirement already satisfied: threadpoolctl>=2.0.0 in /usr/local/lib/python3.7/dist-packages (from scikit-learn>=0.24->imbalanced-learn) (3.0.0)\n"
          ]
        }
      ],
      "source": [
        "!pip install -U imbalanced-learn"
      ]
    },
    {
      "cell_type": "code",
      "execution_count": 53,
      "metadata": {
        "colab": {
          "base_uri": "https://localhost:8080/"
        },
        "id": "YnapSt57v0so",
        "outputId": "7b1080d5-46b0-4c47-ec6a-6365fce82fd1"
      },
      "outputs": [
        {
          "name": "stdout",
          "output_type": "stream",
          "text": [
            "(4504, 36)\n",
            "(4504,)\n",
            "Counter({3: 1084, 1: 1084, 4: 1084, 2: 1084, 5: 1084, 6: 1084})\n",
            "(6504, 36)\n"
          ]
        }
      ],
      "source": [
        "from imblearn.over_sampling import RandomOverSampler\n",
        "from sklearn.preprocessing import MultiLabelBinarizer\n",
        "\n",
        "print(X_train.shape)\n",
        "print(y_train.shape)\n",
        "\n",
        "ros = RandomOverSampler(random_state = 0)\n",
        "x_train_over, y_train_over = ros.fit_resample(X_train,y_train)\n",
        "\n",
        "from collections import Counter\n",
        "\n",
        "freq=Counter(y_train_over)\n",
        "print(freq)            #dictionary με συχνότητες\n",
        "\n",
        "print(x_train_over.shape)\n",
        "#y_train_r.value_counts() "
      ]
    },
    {
      "cell_type": "markdown",
      "metadata": {
        "id": "zSTTMbIEAMcB"
      },
      "source": [
        "Βλέπουμε πως πλέον η αναλογία των κλάσεων είναι 1:1 και συνεπώς το training set είναι ισορροπημένο. Το Oversamping έγινε μόνο στο training set, αφού το test set θέλουμε να μείνει αναλοίωτο."
      ]
    },
    {
      "cell_type": "code",
      "execution_count": 54,
      "metadata": {
        "colab": {
          "base_uri": "https://localhost:8080/"
        },
        "id": "u-fWh5zwAaQw",
        "outputId": "45d59dc9-a9d1-41ec-a502-dc3b1b483adc"
      },
      "outputs": [
        {
          "name": "stdout",
          "output_type": "stream",
          "text": [
            "0.1718575180899005\n"
          ]
        }
      ],
      "source": [
        "from sklearn.model_selection import cross_val_predict\n",
        "from sklearn.model_selection import cross_val_score\n",
        "\n",
        "dc_stratified = DummyClassifier(strategy=\"stratified\")\n",
        "dc_strat = dc_stratified.fit(x_train_over, y_train_over)\n",
        "\n",
        "dc_stratified_predict = cross_val_predict(dc_stratified, x_train_over , y_train_over, cv=10)\n",
        "\n",
        "scores_most_stratified_macro = cross_val_score(dc_stratified , x_train_over, y_train_over, cv=10, scoring=\"f1_macro\")\n",
        "\n",
        "print(np.mean(scores_most_stratified_macro))"
      ]
    },
    {
      "cell_type": "code",
      "execution_count": 55,
      "metadata": {
        "colab": {
          "base_uri": "https://localhost:8080/"
        },
        "id": "eGGoXPDUAUtI",
        "outputId": "f7191b60-f7e4-446e-aa18-92bcdccc877d"
      },
      "outputs": [
        {
          "name": "stdout",
          "output_type": "stream",
          "text": [
            "0.9258778382186408\n"
          ]
        }
      ],
      "source": [
        "KNN_opt = KNeighborsClassifier(n_neighbors= opt_k)\n",
        "\n",
        "macro_KNN_opt = np.mean(cross_val_score(KNN_opt, x_train_over, y_train_over, cv=10, scoring=\"f1_macro\"))\n",
        "print(macro_KNN_opt)"
      ]
    },
    {
      "cell_type": "markdown",
      "metadata": {
        "id": "VbXZLLf7H4td"
      },
      "source": [
        "παρατηρούμε ότι βελτιώθηκε η απόδοση του knn έπειτα από την εξισορρόπηση των δεδομένων με oversampling, το οποίο ήταν αναμενόμενο."
      ]
    },
    {
      "cell_type": "markdown",
      "metadata": {
        "id": "iZjggl2_qikM"
      },
      "source": [
        "#Συνολική μελέτη βελτιστοποίησης με την βοήθεια pipelines\n",
        "\n",
        "Στην συνέχεια θα χρησιμοποιήσουμε pipelines για να μελετήσουμε ειδικότερα την επίδραση διαφορετικών βελτιστοποιήσεων στην απόδοση των ταξινομητών βρίσκοντας ποιες υπερπαράμετροι είναι βέλτιστες."
      ]
    },
    {
      "cell_type": "markdown",
      "metadata": {
        "id": "JWZF98RKIJUb"
      },
      "source": [
        "\n",
        "####Dummy Classifier\n",
        "\n",
        "Οι Dummy Classifiers δεν έχουν υπερπαραμέτρους για να βελτιωθούν.\n"
      ]
    },
    {
      "cell_type": "markdown",
      "metadata": {
        "id": "oMzaUUEVPWJv"
      },
      "source": [
        "####kNN classifier\n",
        " "
      ]
    },
    {
      "cell_type": "markdown",
      "metadata": {
        "id": "2tIr2L9Kqq5p"
      },
      "source": [
        "Για τον kNN αλγόριθμο:"
      ]
    },
    {
      "cell_type": "code",
      "execution_count": 76,
      "metadata": {
        "id": "5H5Pwpn_PX9v"
      },
      "outputs": [],
      "source": [
        "from imblearn.pipeline import Pipeline\n",
        "from sklearn.feature_selection import VarianceThreshold\n",
        "from sklearn.preprocessing import StandardScaler \n",
        "from sklearn.preprocessing import MinMaxScaler\n",
        "from imblearn.over_sampling import RandomOverSampler\n",
        "from sklearn.decomposition import PCA\n",
        "\n",
        "#dimensionality reduction\n",
        "selector = VarianceThreshold()\n",
        "pca = PCA()\n",
        "\n",
        "#oversampling , scaling\n",
        "ros = RandomOverSampler()\n",
        "mscaler = MinMaxScaler()\n",
        "sscaler = StandardScaler()\n",
        "clf = KNeighborsClassifier(n_jobs=-1)\n",
        "\n",
        "pipe = Pipeline(steps=[('selector', selector), ('scaler', sscaler),('sampler', ros), ('pca', pca), ('kNN', clf)])"
      ]
    },
    {
      "cell_type": "markdown",
      "metadata": {
        "id": "d7UKZhyeP17d"
      },
      "source": [
        "Στη συνέχεια για την θα χρησιμποιήσουμε GridSearchCV για να βελτιστοποιήσουμε τις υπερπαραμέτρους μας."
      ]
    },
    {
      "cell_type": "code",
      "execution_count": 77,
      "metadata": {
        "id": "QQ3vxGv0P1g-"
      },
      "outputs": [],
      "source": [
        "from sklearn.model_selection import GridSearchCV\n",
        "#Υπερπαράμετροι προς βελτιστοποίηση kNN: n_neighbors\n",
        "\n",
        "vthreshold = [ 0.2, 0.3 , 0.4]    # προσαρμόζουμε τις τιμές μας στο variance που παρατηρήσαμε\n",
        "n_components = np.arange(1,10,1)   # η υπερπαράμετρος του pca\n",
        "k = np.arange(2,50,5)              # η υπερπαράμετρος του ταξινομητή knn\n"
      ]
    },
    {
      "cell_type": "code",
      "execution_count": 78,
      "metadata": {
        "colab": {
          "base_uri": "https://localhost:8080/"
        },
        "id": "FBxdHxpcgUCp",
        "outputId": "de6c5b28-770f-474a-aab8-14ca23c35555"
      },
      "outputs": [
        {
          "name": "stdout",
          "output_type": "stream",
          "text": [
            "\n",
            "Confusion Matrix of Knn:\n",
            " [[436   0   8   1   4   0]\n",
            " [  0 201   0   2   2   1]\n",
            " [  1   0 380  36   0   5]\n",
            " [  0   0  21 161   5  11]\n",
            " [ 10   3   0   4 190   6]\n",
            " [  0   0   5  63  18 357]]\n",
            "\n",
            "\n",
            "f1-macro average of Knn Classifier: 0.8837422438778009\n",
            "\n",
            "              precision    recall  f1-score   support\n",
            "\n",
            "           1       0.98      0.97      0.97       449\n",
            "           2       0.99      0.98      0.98       206\n",
            "           3       0.92      0.90      0.91       422\n",
            "           4       0.60      0.81      0.69       198\n",
            "           5       0.87      0.89      0.88       213\n",
            "           6       0.94      0.81      0.87       443\n",
            "\n",
            "    accuracy                           0.89      1931\n",
            "   macro avg       0.88      0.89      0.88      1931\n",
            "weighted avg       0.91      0.89      0.90      1931\n",
            "\n",
            "Pipeline(steps=[('selector', VarianceThreshold(threshold=0.4)),\n",
            "                ('scaler', StandardScaler()), ('sampler', RandomOverSampler()),\n",
            "                ('pca', PCA(n_components=8)),\n",
            "                ('kNN', KNeighborsClassifier(n_jobs=-1, n_neighbors=12))])\n",
            "{'kNN__n_neighbors': 12, 'pca__n_components': 8, 'selector__threshold': 0.4}\n"
          ]
        }
      ],
      "source": [
        "#Δοκιμάζω όλα μαζί (βλέπουμε ότι χρειάζεται περισσότερο χρόνο)\n",
        "\n",
        "estimator_knn = GridSearchCV(pipe, dict(selector__threshold=vthreshold, pca__n_components=n_components, kNN__n_neighbors=k), cv=10, scoring='f1_macro', n_jobs=-1)\n",
        "\n",
        "estimator_knn.fit(X_train, y_train)\n",
        "\n",
        "new_predictions['knn'] = estimator_knn.predict(X_test)\n",
        "\n",
        "new_accuracies['knn'] = estimator_knn.score(X_test,y_test)\n",
        "\n",
        "print(\"\\nConfusion Matrix of Knn:\\n\",confusion_matrix(y_test,new_predictions['knn']))\n",
        "print()\n",
        "print(\"\\nf1-macro average of Knn Classifier:\",f1_score(y_test,new_predictions['knn'], average='macro'))\n",
        "print()\n",
        "\n",
        "print(classification_report(y_test, new_predictions['knn']))\n",
        "print(estimator_knn.best_estimator_)\n",
        "print(estimator_knn.best_params_)"
      ]
    },
    {
      "cell_type": "code",
      "execution_count": 86,
      "metadata": {
        "colab": {
          "base_uri": "https://localhost:8080/"
        },
        "id": "Sn0tXhVOhEuZ",
        "outputId": "89170f33-439d-4290-b5ca-f17dd6fc8538"
      },
      "outputs": [
        {
          "name": "stdout",
          "output_type": "stream",
          "text": [
            "\n",
            "f1-macro average of Knn Classifier: 0.8860725306946255\n",
            "\n",
            "\n",
            "\n",
            "Confusion Matrix of Knn:\n",
            " [[437   0   7   0   5   0]\n",
            " [  0 199   0   5   2   0]\n",
            " [  4   0 380  34   1   3]\n",
            " [  0   0  21 166   2   9]\n",
            " [  5   2   0   4 196   6]\n",
            " [  0   0   7  65  22 349]]\n",
            "\n",
            "              precision    recall  f1-score   support\n",
            "\n",
            "           1       0.98      0.97      0.98       449\n",
            "           2       0.99      0.97      0.98       206\n",
            "           3       0.92      0.90      0.91       422\n",
            "           4       0.61      0.84      0.70       198\n",
            "           5       0.86      0.92      0.89       213\n",
            "           6       0.95      0.79      0.86       443\n",
            "\n",
            "    accuracy                           0.89      1931\n",
            "   macro avg       0.88      0.90      0.89      1931\n",
            "weighted avg       0.91      0.89      0.90      1931\n",
            "\n",
            "Pipeline(steps=[('selector', VarianceThreshold(threshold=0.1)),\n",
            "                ('scaler', StandardScaler()), ('sampler', RandomOverSampler()),\n",
            "                ('kNN', KNeighborsClassifier(n_jobs=-1, n_neighbors=4))])\n",
            "{'kNN__n_neighbors': 4, 'selector__threshold': 0.1}\n"
          ]
        }
      ],
      "source": [
        "#Χωρίς το pca\n",
        "\n",
        "pipe = Pipeline(steps=[('selector', selector), ('scaler',sscaler),('sampler', ros), ('kNN', clf)])\n",
        "\n",
        "estimator_knn = GridSearchCV(pipe, dict(selector__threshold=vthreshold, kNN__n_neighbors=k), cv=10, scoring='f1_macro', n_jobs=-1)\n",
        "estimator_knn.fit(X_train,y_train)\n",
        "new_predictions['knn'] = estimator_knn.predict(X_test)\n",
        "\n",
        "new_accuracies['knn'] = estimator_knn.score(X_test,y_test)\n",
        "\n",
        "\n",
        "print(\"\\nf1-macro average of Knn Classifier:\",f1_score(y_test,new_predictions['knn'], average='macro'))\n",
        "print(\"\\n\")\n",
        "print(\"\\nConfusion Matrix of Knn:\\n\",confusion_matrix(y_test,new_predictions['knn']))\n",
        "\n",
        "print()\n",
        "print(classification_report(y_test, new_predictions['knn']))\n",
        "print(estimator_knn.best_estimator_)\n",
        "print(estimator_knn.best_params_)"
      ]
    },
    {
      "cell_type": "code",
      "execution_count": 87,
      "metadata": {
        "colab": {
          "base_uri": "https://localhost:8080/"
        },
        "id": "la2ezfUTjt3a",
        "outputId": "26c965ab-0d50-414b-edb7-79a1b2c97b5a"
      },
      "outputs": [
        {
          "name": "stdout",
          "output_type": "stream",
          "text": [
            "\n",
            "f1-macro average of Knn Classifier: 0.893078638141534\n",
            "\n",
            "\n",
            "Confusion Matrix of Knn:\n",
            " [[439   0   7   0   3   0]\n",
            " [  0 197   0   6   2   1]\n",
            " [  6   0 383  30   0   3]\n",
            " [  0   0  24 161   1  12]\n",
            " [  4   1   2   3 197   6]\n",
            " [  0   0  10  49  20 364]]\n",
            "\n",
            "              precision    recall  f1-score   support\n",
            "\n",
            "           1       0.98      0.98      0.98       449\n",
            "           2       0.99      0.96      0.98       206\n",
            "           3       0.90      0.91      0.90       422\n",
            "           4       0.65      0.81      0.72       198\n",
            "           5       0.88      0.92      0.90       213\n",
            "           6       0.94      0.82      0.88       443\n",
            "\n",
            "    accuracy                           0.90      1931\n",
            "   macro avg       0.89      0.90      0.89      1931\n",
            "weighted avg       0.91      0.90      0.90      1931\n",
            "\n",
            "Pipeline(steps=[('selector', VarianceThreshold(threshold=0.1)),\n",
            "                ('sampler', RandomOverSampler()),\n",
            "                ('kNN', KNeighborsClassifier(n_jobs=-1, n_neighbors=2))])\n",
            "{'kNN__n_neighbors': 2, 'selector__threshold': 0.1}\n"
          ]
        }
      ],
      "source": [
        "#Χωρίς scaler και pca\n",
        "\n",
        "pipe = Pipeline(steps=[('selector', selector), ('sampler', ros), ('kNN', clf)])\n",
        "\n",
        "estimator_knn = GridSearchCV(pipe, dict(selector__threshold=vthreshold, kNN__n_neighbors=k), cv=10, scoring='f1_micro', n_jobs=-1)\n",
        "estimator_knn.fit(X_train,y_train)\n",
        "new_predictions['knn'] = estimator_knn.predict(X_test)\n",
        "\n",
        "new_accuracies['knn'] = estimator_knn.score(X_test,y_test)\n",
        "\n",
        "print(\"\\nf1-macro average of Knn Classifier:\",f1_score(y_test,new_predictions['knn'], average='macro'))\n",
        "print()\n",
        "print(\"\\nConfusion Matrix of Knn:\\n\",confusion_matrix(y_test,new_predictions['knn']))\n",
        "print()\n",
        "\n",
        "print(classification_report(y_test, new_predictions['knn']))\n",
        "print(estimator_knn.best_estimator_)\n",
        "print(estimator_knn.best_params_)"
      ]
    },
    {
      "cell_type": "code",
      "execution_count": 88,
      "metadata": {
        "colab": {
          "base_uri": "https://localhost:8080/"
        },
        "id": "XdFL_NBdj0iE",
        "outputId": "00f8010f-5915-4620-d00d-78965cb6c59a"
      },
      "outputs": [
        {
          "name": "stdout",
          "output_type": "stream",
          "text": [
            "\n",
            "f1-macro average of Knn Classifier: 0.9000685094233364\n",
            "\n",
            "\n",
            "Confusion Matrix of Knn:\n",
            " [[437   0   8   0   4   0]\n",
            " [  1 200   0   2   2   1]\n",
            " [  3   0 395  21   0   3]\n",
            " [  0   0  23 142   2  31]\n",
            " [  5   2   0   3 191  12]\n",
            " [  0   0   8  26  12 397]]\n",
            "\n",
            "              precision    recall  f1-score   support\n",
            "\n",
            "           1       0.98      0.97      0.98       449\n",
            "           2       0.99      0.97      0.98       206\n",
            "           3       0.91      0.94      0.92       422\n",
            "           4       0.73      0.72      0.72       198\n",
            "           5       0.91      0.90      0.90       213\n",
            "           6       0.89      0.90      0.90       443\n",
            "\n",
            "    accuracy                           0.91      1931\n",
            "   macro avg       0.90      0.90      0.90      1931\n",
            "weighted avg       0.91      0.91      0.91      1931\n",
            "\n",
            "Pipeline(steps=[('selector', VarianceThreshold(threshold=0)),\n",
            "                ('scaler', StandardScaler()),\n",
            "                ('kNN', KNeighborsClassifier(n_jobs=-1, n_neighbors=3))])\n",
            "{'kNN__n_neighbors': 3, 'selector__threshold': 0}\n"
          ]
        }
      ],
      "source": [
        "#τώρα θα το τρέξουμε χωρίς sampler\n",
        "\n",
        "pipe = Pipeline(steps=[('selector', selector), ('scaler',sscaler), ('kNN', clf)])\n",
        "\n",
        "estimator_knn = GridSearchCV(pipe, dict(selector__threshold=vthreshold, kNN__n_neighbors=k), cv=10, scoring='f1_micro', n_jobs=-1)\n",
        "\n",
        "estimator_knn.fit(X_train,y_train)\n",
        "new_predictions['knn'] = estimator_knn.predict(X_test)\n",
        "\n",
        "new_accuracies['knn'] = estimator_knn.score(X_test,y_test)\n",
        "\n",
        "\n",
        "print(\"\\nf1-macro average of Knn Classifier:\",f1_score(y_test,new_predictions['knn'], average='macro'))\n",
        "print()\n",
        "print(\"\\nConfusion Matrix of Knn:\\n\",confusion_matrix(y_test,new_predictions['knn']))\n",
        "print()\n",
        "\n",
        "print(classification_report(y_test, new_predictions['knn']))\n",
        "print(estimator_knn.best_estimator_)\n",
        "print(estimator_knn.best_params_)\n"
      ]
    },
    {
      "cell_type": "markdown",
      "metadata": {
        "id": "xtaHPRp72a_i"
      },
      "source": [
        "Άρα καλύτερη απόδοση έχουμε για το Pipeline('selector', 'scaler', 'kNN'). Για αυτό το συνδυασμό λοιπόν θα βρω την βέλτιστη υπερπαράμετρο."
      ]
    },
    {
      "cell_type": "code",
      "execution_count": 85,
      "metadata": {
        "colab": {
          "base_uri": "https://localhost:8080/"
        },
        "id": "DQKpUwy43Mtg",
        "outputId": "bf27af33-493c-4e24-a837-7e2aa64bc19f"
      },
      "outputs": [
        {
          "name": "stdout",
          "output_type": "stream",
          "text": [
            "\n",
            "f1-macro average of Knn Classifier: 0.9000685094233364\n",
            "\n",
            "\n",
            "Confusion Matrix of Knn:\n",
            " [[437   0   8   0   4   0]\n",
            " [  1 200   0   2   2   1]\n",
            " [  3   0 395  21   0   3]\n",
            " [  0   0  23 142   2  31]\n",
            " [  5   2   0   3 191  12]\n",
            " [  0   0   8  26  12 397]]\n",
            "\n",
            "              precision    recall  f1-score   support\n",
            "\n",
            "           1       0.98      0.97      0.98       449\n",
            "           2       0.99      0.97      0.98       206\n",
            "           3       0.91      0.94      0.92       422\n",
            "           4       0.73      0.72      0.72       198\n",
            "           5       0.91      0.90      0.90       213\n",
            "           6       0.89      0.90      0.90       443\n",
            "\n",
            "    accuracy                           0.91      1931\n",
            "   macro avg       0.90      0.90      0.90      1931\n",
            "weighted avg       0.91      0.91      0.91      1931\n",
            "\n",
            "Pipeline(steps=[('selector', VarianceThreshold(threshold=0)),\n",
            "                ('scaler', StandardScaler()),\n",
            "                ('kNN', KNeighborsClassifier(n_jobs=-1, n_neighbors=3))])\n",
            "{'kNN__n_neighbors': 3, 'selector__threshold': 0}\n"
          ]
        }
      ],
      "source": [
        "vthreshold = [ 0, 0.1 , 0.2]    \n",
        "k = np.arange(2,10,1) \n",
        "\n",
        "pipe = Pipeline(steps=[('selector', selector), ('scaler',sscaler), ('kNN', clf)])\n",
        "\n",
        "estimator_knn = GridSearchCV(pipe, dict(selector__threshold=vthreshold, kNN__n_neighbors=k), cv=10, scoring='f1_micro', n_jobs=-1)\n",
        "\n",
        "estimator_knn.fit(X_train,y_train)\n",
        "\n",
        "new_predictions['knn'] = estimator_knn.predict(X_test)\n",
        "new_accuracies['knn'] = estimator_knn.score(X_test,y_test)\n",
        "\n",
        "print(\"\\nf1-macro average of Knn Classifier:\",f1_score(y_test,new_predictions['knn'], average='macro'))\n",
        "print()\n",
        "print(\"\\nConfusion Matrix of Knn:\\n\",confusion_matrix(y_test,new_predictions['knn']))\n",
        "print()\n",
        "\n",
        "print(classification_report(y_test, new_predictions['knn']))\n",
        "print(estimator_knn.best_estimator_)\n",
        "print(estimator_knn.best_params_)"
      ]
    },
    {
      "cell_type": "markdown",
      "metadata": {
        "id": "KsdyD_6imdKb"
      },
      "source": [
        "Οι παραπάνω τιμές για τις μεταβλητές μας επιλέχθηκαν ύστερα από αναζήτηση σε αρχικά μεγάλο διάστημα τιμών και στη συνέχεια περιορισμό του. Έχοντας βρει τις βέλτιστες τιμές θα προχωρήσουμε στην εκπαίδευση του ταξινομητή."
      ]
    },
    {
      "cell_type": "code",
      "execution_count": 89,
      "metadata": {
        "colab": {
          "base_uri": "https://localhost:8080/"
        },
        "id": "Re8XwJzSmfPB",
        "outputId": "8d720897-499b-47c0-e0c2-03161cc896c9"
      },
      "outputs": [
        {
          "name": "stdout",
          "output_type": "stream",
          "text": [
            "\n",
            "f1-macro average of Knn Classifier: 0.9000685094233364\n",
            "\n",
            "\n",
            "Confusion Matrix of Knn:\n",
            " [[437   0   8   0   4   0]\n",
            " [  1 200   0   2   2   1]\n",
            " [  3   0 395  21   0   3]\n",
            " [  0   0  23 142   2  31]\n",
            " [  5   2   0   3 191  12]\n",
            " [  0   0   8  26  12 397]]\n",
            "\n",
            "Classification Report of Knn:\n",
            "               precision    recall  f1-score   support\n",
            "\n",
            "           1       0.98      0.97      0.98       449\n",
            "           2       0.99      0.97      0.98       206\n",
            "           3       0.91      0.94      0.92       422\n",
            "           4       0.73      0.72      0.72       198\n",
            "           5       0.91      0.90      0.90       213\n",
            "           6       0.89      0.90      0.90       443\n",
            "\n",
            "    accuracy                           0.91      1931\n",
            "   macro avg       0.90      0.90      0.90      1931\n",
            "weighted avg       0.91      0.91      0.91      1931\n",
            "\n",
            "\n",
            "Fit time:\n",
            " 0.009751558303833008\n",
            "\n",
            "Prediction time:\n",
            " 0.2538928985595703 \n",
            "\n"
          ]
        }
      ],
      "source": [
        "#Fit\n",
        "\n",
        "\n",
        "pipe = Pipeline(steps=[('selector', VarianceThreshold(threshold=0)), ('scaler', StandardScaler()), ('kNN', KNeighborsClassifier(n_jobs=-1, n_neighbors=3))])\n",
        "\n",
        "start_time = time.time()\n",
        "pipe.fit(X_train,y_train)           \n",
        "fit_times['knn'] = time.time()-start_time\n",
        "\n",
        "start_time = time.time()\n",
        "new_predictions['knn'] = pipe.predict(X_test)\n",
        "pred_times['knn'] = time.time()-start_time\n",
        "\n",
        "new_accuracies['knn'] = pipe.score(X_test,y_test)\n",
        "\n",
        "print(\"\\nf1-macro average of Knn Classifier:\",f1_score(y_test,new_predictions['knn'], average='macro'))\n",
        "print()\n",
        "print(\"\\nConfusion Matrix of Knn:\\n\",confusion_matrix(y_test,new_predictions['knn']))\n",
        "print(\"\\nClassification Report of Knn:\\n\",classification_report(y_test,new_predictions['knn']))\n",
        "print(\"\\nFit time:\\n\",fit_times['knn'])\n",
        "print(\"\\nPrediction time:\\n\",pred_times['knn'],\"\\n\")"
      ]
    },
    {
      "cell_type": "markdown",
      "metadata": {
        "id": "4-F8Nwg6ru1M"
      },
      "source": [
        "####Gaussian Bayes classifier\n",
        "\n",
        "Για τον Gaussian Naive Bayes δεν έχουμε υπερπαραμέτρους να βελτιστοποιήσουμε, παρόλα αυτά θα χρησιμοποιήσουμε cross validation για να βρούμε τις κατάλληλες παραμετρους του που τον βελτιστοποιούν."
      ]
    },
    {
      "cell_type": "code",
      "execution_count": 90,
      "metadata": {
        "colab": {
          "base_uri": "https://localhost:8080/"
        },
        "id": "BcHmiQBFry_7",
        "outputId": "b005b94a-4be3-4588-d3c2-cd8c8ee4f7ee"
      },
      "outputs": [
        {
          "name": "stdout",
          "output_type": "stream",
          "text": [
            "\n",
            "f1-macro average of GNB Classifier: 0.8137601066453118\n",
            "\n",
            "\n",
            "Confusion Matrix of Gaussian NB:\n",
            " [[428   2   6   2  11   0]\n",
            " [  0 200   0   1   5   0]\n",
            " [  1   2 374  35  10   0]\n",
            " [  1   1  34 103   9  50]\n",
            " [ 11   4   0   6 169  23]\n",
            " [  0   0   5  67  25 346]]\n",
            "\n",
            "Classification Report of Gaussian NB:\n",
            "               precision    recall  f1-score   support\n",
            "\n",
            "           1       0.97      0.95      0.96       449\n",
            "           2       0.96      0.97      0.96       206\n",
            "           3       0.89      0.89      0.89       422\n",
            "           4       0.48      0.52      0.50       198\n",
            "           5       0.74      0.79      0.76       213\n",
            "           6       0.83      0.78      0.80       443\n",
            "\n",
            "    accuracy                           0.84      1931\n",
            "   macro avg       0.81      0.82      0.81      1931\n",
            "weighted avg       0.84      0.84      0.84      1931\n",
            "\n",
            "Pipeline(steps=[('selector', VarianceThreshold(threshold=0.1)),\n",
            "                ('scaler', StandardScaler()), ('sampler', RandomOverSampler()),\n",
            "                ('pca', PCA(n_components=6)), ('gnb', GaussianNB())])\n",
            "{'pca__n_components': 6, 'selector__threshold': 0.1}\n"
          ]
        }
      ],
      "source": [
        "#Αρχικά τρέχουμε το Pipeline και με τις 4 μεθόδους προεπεξεργασίας\n",
        "selector = VarianceThreshold() \n",
        "scaler = StandardScaler()\n",
        "ros = RandomOverSampler()\n",
        "pca = PCA()\n",
        "clf = GaussianNB() \n",
        "\n",
        "vthreshold = [0, 0.1, 0.2, 0.3]  \n",
        "n_components = np.arange(1,10,1) #gia pca\n",
        "\n",
        "pipe = Pipeline(steps=[('selector', selector), ('scaler',sscaler),('sampler', ros), ('pca', pca), ('gnb', clf)])\n",
        "estimator_gnb = GridSearchCV(pipe, dict(selector__threshold=vthreshold, pca__n_components=n_components), cv=10, scoring='f1_macro', n_jobs=-1)\n",
        "\n",
        "\n",
        "estimator_gnb.fit(X_train,y_train)\n",
        "\n",
        "new_predictions['GNB'] = estimator_gnb.predict(X_test)\n",
        "\n",
        "new_accuracies['GNB'] = estimator_gnb.score(X_test,y_test)\n",
        "\n",
        "print(\"\\nf1-macro average of GNB Classifier:\",f1_score(y_test,new_predictions['GNB'], average='macro'))\n",
        "print()\n",
        "print(\"\\nConfusion Matrix of Gaussian NB:\\n\",confusion_matrix(y_test,new_predictions['GNB']))\n",
        "print(\"\\nClassification Report of Gaussian NB:\\n\",classification_report(y_test,new_predictions['GNB']))\n",
        "\n",
        "\n",
        "print(estimator_gnb.best_estimator_)\n",
        "print(estimator_gnb.best_params_)"
      ]
    },
    {
      "cell_type": "code",
      "execution_count": 97,
      "metadata": {
        "colab": {
          "base_uri": "https://localhost:8080/"
        },
        "id": "XRI9jhNuszyM",
        "outputId": "857a483b-b1dc-4a1d-9b34-6307634d6477"
      },
      "outputs": [
        {
          "name": "stdout",
          "output_type": "stream",
          "text": [
            "\n",
            "f1-macro average of GNB Classifier: 0.7792946384486593\n",
            "\n",
            "\n",
            "Confusion Matrix of Gaussian NB:\n",
            " [[355   0  15   0  79   0]\n",
            " [  4 184   0   1  16   1]\n",
            " [  6   0 374  38   1   3]\n",
            " [  3   0  22 136   0  37]\n",
            " [ 22   1   1   7 162  20]\n",
            " [  1   0   3  97  25 317]]\n",
            "\n",
            "Classification Report of Gaussian NB:\n",
            "               precision    recall  f1-score   support\n",
            "\n",
            "           1       0.91      0.79      0.85       449\n",
            "           2       0.99      0.89      0.94       206\n",
            "           3       0.90      0.89      0.89       422\n",
            "           4       0.49      0.69      0.57       198\n",
            "           5       0.57      0.76      0.65       213\n",
            "           6       0.84      0.72      0.77       443\n",
            "\n",
            "    accuracy                           0.79      1931\n",
            "   macro avg       0.78      0.79      0.78      1931\n",
            "weighted avg       0.82      0.79      0.80      1931\n",
            "\n",
            "Pipeline(steps=[('selector', VarianceThreshold(threshold=0.3)),\n",
            "                ('scaler', StandardScaler()), ('sampler', RandomOverSampler()),\n",
            "                ('gnb', GaussianNB())])\n",
            "{'selector__threshold': 0.3}\n"
          ]
        }
      ],
      "source": [
        "#Χωρίς pca \n",
        "\n",
        "pipe = Pipeline(steps=[('selector', selector), ('scaler',sscaler),('sampler', ros),  ('gnb', clf)])\n",
        "estimator_gnb = GridSearchCV(pipe, dict(selector__threshold=vthreshold), cv=10, scoring='f1_micro', n_jobs=-1)\n",
        "\n",
        "\n",
        "estimator_gnb.fit(X_train, y_train)\n",
        "\n",
        "new_predictions['GNB'] = estimator_gnb.predict(X_test)\n",
        "\n",
        "new_accuracies['GNB'] = estimator_gnb.score(X_test,y_test)\n",
        "\n",
        "print(\"\\nf1-macro average of GNB Classifier:\",f1_score(y_test,new_predictions['GNB'], average='macro'))\n",
        "print()\n",
        "print(\"\\nConfusion Matrix of Gaussian NB:\\n\",confusion_matrix(y_test,new_predictions['GNB']))\n",
        "print(\"\\nClassification Report of Gaussian NB:\\n\",classification_report(y_test,new_predictions['GNB']))\n",
        "\n",
        "\n",
        "print(estimator_gnb.best_estimator_)\n",
        "print(estimator_gnb.best_params_)"
      ]
    },
    {
      "cell_type": "code",
      "execution_count": 98,
      "metadata": {
        "colab": {
          "base_uri": "https://localhost:8080/"
        },
        "id": "WSquPEQQs2FJ",
        "outputId": "486ca0bb-4e97-4e04-e238-35eae1c594b0"
      },
      "outputs": [
        {
          "name": "stdout",
          "output_type": "stream",
          "text": [
            "\n",
            "f1-macro average of GNB Classifier: 0.827766113788235\n",
            "\n",
            "\n",
            "Confusion Matrix of Gaussian NB:\n",
            " [[421   2  10   2  14   0]\n",
            " [  0 200   0   1   5   0]\n",
            " [  0   1 381  31   9   0]\n",
            " [  0   1  35 115   3  44]\n",
            " [ 12   4   0   7 175  15]\n",
            " [  0   0   4  72  21 346]]\n",
            "\n",
            "Classification Report of Gaussian NB:\n",
            "               precision    recall  f1-score   support\n",
            "\n",
            "           1       0.97      0.94      0.95       449\n",
            "           2       0.96      0.97      0.97       206\n",
            "           3       0.89      0.90      0.89       422\n",
            "           4       0.50      0.58      0.54       198\n",
            "           5       0.77      0.82      0.80       213\n",
            "           6       0.85      0.78      0.82       443\n",
            "\n",
            "    accuracy                           0.85      1931\n",
            "   macro avg       0.82      0.83      0.83      1931\n",
            "weighted avg       0.86      0.85      0.85      1931\n",
            "\n",
            "Pipeline(steps=[('selector', VarianceThreshold(threshold=0)),\n",
            "                ('sampler', RandomOverSampler()), ('pca', PCA(n_components=6)),\n",
            "                ('gnb', GaussianNB())])\n",
            "{'pca__n_components': 6, 'selector__threshold': 0}\n"
          ]
        }
      ],
      "source": [
        "#Με pca, χωρίς scaler\n",
        "\n",
        "pipe = Pipeline(steps=[('selector', selector), ('sampler', ros), ('pca', pca), ('gnb', clf)])\n",
        "estimator_gnb = GridSearchCV(pipe, dict(selector__threshold=vthreshold, pca__n_components=n_components), cv=10, scoring='f1_micro', n_jobs=-1)\n",
        "\n",
        "\n",
        "estimator_gnb.fit(X_train,y_train)\n",
        "\n",
        "new_predictions['GNB'] = estimator_gnb.predict(X_test)\n",
        "\n",
        "new_accuracies['GNB'] = estimator_gnb.score(X_test,y_test)\n",
        "\n",
        "print(\"\\nf1-macro average of GNB Classifier:\",f1_score(y_test,new_predictions['GNB'], average='macro'))\n",
        "print()\n",
        "print(\"\\nConfusion Matrix of Gaussian NB:\\n\",confusion_matrix(y_test,new_predictions['GNB']))\n",
        "print(\"\\nClassification Report of Gaussian NB:\\n\",classification_report(y_test,new_predictions['GNB']))\n",
        "\n",
        "\n",
        "print(estimator_gnb.best_estimator_)\n",
        "print(estimator_gnb.best_params_)"
      ]
    },
    {
      "cell_type": "code",
      "execution_count": 100,
      "metadata": {
        "colab": {
          "base_uri": "https://localhost:8080/"
        },
        "id": "lN0MP67atYIy",
        "outputId": "f926c144-fe65-4cb5-f0f1-aca0878e4627"
      },
      "outputs": [
        {
          "name": "stdout",
          "output_type": "stream",
          "text": [
            "\n",
            "f1-macro average of GNB Classifier: 0.7868318981424997\n",
            "\n",
            "\n",
            "Confusion Matrix of Gaussian NB:\n",
            " [[430   0   8   0  11   0]\n",
            " [  0 199   0   1   6   0]\n",
            " [  6   2 385  18  10   1]\n",
            " [  1   2  35  81   5  74]\n",
            " [ 15   2   0  10 133  53]\n",
            " [  0   0   9  55  15 364]]\n",
            "\n",
            "Classification Report of Gaussian NB:\n",
            "               precision    recall  f1-score   support\n",
            "\n",
            "           1       0.95      0.96      0.95       449\n",
            "           2       0.97      0.97      0.97       206\n",
            "           3       0.88      0.91      0.90       422\n",
            "           4       0.49      0.41      0.45       198\n",
            "           5       0.74      0.62      0.68       213\n",
            "           6       0.74      0.82      0.78       443\n",
            "\n",
            "    accuracy                           0.82      1931\n",
            "   macro avg       0.80      0.78      0.79      1931\n",
            "weighted avg       0.82      0.82      0.82      1931\n",
            "\n",
            "Pipeline(steps=[('selector', VarianceThreshold(threshold=0)),\n",
            "                ('scaler', StandardScaler()), ('pca', PCA(n_components=6)),\n",
            "                ('gnb', GaussianNB())])\n",
            "{'pca__n_components': 6, 'selector__threshold': 0}\n"
          ]
        }
      ],
      "source": [
        "#Χωρίς sampler\n",
        "\n",
        "pipe = Pipeline(steps=[('selector', selector), ('scaler',sscaler), ('pca', pca), ('gnb', clf)])\n",
        "estimator_gnb = GridSearchCV(pipe, dict(selector__threshold=vthreshold, pca__n_components=n_components), cv=10, scoring='f1_micro', n_jobs=-1)\n",
        "\n",
        "\n",
        "estimator_gnb.fit(X_train,y_train)\n",
        "\n",
        "new_predictions['GNB'] = estimator_gnb.predict(X_test)\n",
        "\n",
        "new_accuracies['GNB'] = estimator_gnb.score(X_test,y_test)\n",
        "\n",
        "print(\"\\nf1-macro average of GNB Classifier:\",f1_score(y_test,new_predictions['GNB'], average='macro'))\n",
        "print()\n",
        "print(\"\\nConfusion Matrix of Gaussian NB:\\n\",confusion_matrix(y_test,new_predictions['GNB']))\n",
        "print(\"\\nClassification Report of Gaussian NB:\\n\",classification_report(y_test,new_predictions['GNB']))\n",
        "\n",
        "\n",
        "print(estimator_gnb.best_estimator_)\n",
        "print(estimator_gnb.best_params_)"
      ]
    },
    {
      "cell_type": "markdown",
      "metadata": {
        "id": "wd5pWX4h1GRl"
      },
      "source": [
        "Άρα καλύτερη απόδοση έχουμε για το Pipeline('selector', 'sampler', 'pca', 'gnb'). Γιαυτό το pipeline θα βρούμε βέλτιστες υπερπαραμέτρους."
      ]
    },
    {
      "cell_type": "code",
      "execution_count": 103,
      "metadata": {
        "colab": {
          "base_uri": "https://localhost:8080/"
        },
        "id": "Kwldksa-tx3S",
        "outputId": "c92a041b-50c3-45b5-bc69-c8885fade4c6"
      },
      "outputs": [
        {
          "name": "stdout",
          "output_type": "stream",
          "text": [
            "\n",
            "f1-macro average of GNB Classifier: 0.822819157830292\n",
            "\n",
            "\n",
            "Confusion Matrix of Gaussian NB:\n",
            " [[418   3   9   2  17   0]\n",
            " [  0 202   0   0   4   0]\n",
            " [  0   2 383  27  10   0]\n",
            " [  0   1  37 107   9  44]\n",
            " [ 12   4   0   6 178  13]\n",
            " [  0   0   5  67  25 346]]\n",
            "\n",
            "Classification Report of Gaussian NB:\n",
            "               precision    recall  f1-score   support\n",
            "\n",
            "           1       0.97      0.93      0.95       449\n",
            "           2       0.95      0.98      0.97       206\n",
            "           3       0.88      0.91      0.89       422\n",
            "           4       0.51      0.54      0.53       198\n",
            "           5       0.73      0.84      0.78       213\n",
            "           6       0.86      0.78      0.82       443\n",
            "\n",
            "    accuracy                           0.85      1931\n",
            "   macro avg       0.82      0.83      0.82      1931\n",
            "weighted avg       0.85      0.85      0.85      1931\n",
            "\n",
            "Pipeline(steps=[('selector', VarianceThreshold(threshold=0)),\n",
            "                ('sampler', RandomOverSampler()), ('pca', PCA(n_components=7)),\n",
            "                ('gnb', GaussianNB())])\n",
            "{'pca__n_components': 7, 'selector__threshold': 0}\n"
          ]
        }
      ],
      "source": [
        "\n",
        "selector = VarianceThreshold() \n",
        "ros = RandomOverSampler()\n",
        "pca = PCA()\n",
        "clf = GaussianNB() \n",
        "\n",
        "vthreshold = [0] \n",
        "n_components = np.arange(2,10,1) #gia pca\n",
        "\n",
        "pipe = Pipeline(steps=[('selector', selector) ,('sampler', ros), ('pca', pca), ('gnb', clf)])\n",
        "estimator_gnb = GridSearchCV(pipe, dict(selector__threshold=vthreshold, pca__n_components=n_components), cv=10, scoring='f1_micro', n_jobs=-1)\n",
        "\n",
        "\n",
        "estimator_gnb.fit(X_train,y_train)\n",
        "\n",
        "new_predictions['GNB'] = estimator_gnb.predict(X_test)\n",
        "\n",
        "new_accuracies['GNB'] = estimator_gnb.score(X_test,y_test)\n",
        "\n",
        "print(\"\\nf1-macro average of GNB Classifier:\",f1_score(y_test,new_predictions['GNB'], average='macro'))\n",
        "print()\n",
        "print(\"\\nConfusion Matrix of Gaussian NB:\\n\",confusion_matrix(y_test,new_predictions['GNB']))\n",
        "print(\"\\nClassification Report of Gaussian NB:\\n\",classification_report(y_test,new_predictions['GNB']))\n",
        "\n",
        "\n",
        "print(estimator_gnb.best_estimator_)\n",
        "print(estimator_gnb.best_params_)"
      ]
    },
    {
      "cell_type": "code",
      "execution_count": 107,
      "metadata": {
        "colab": {
          "base_uri": "https://localhost:8080/"
        },
        "id": "7m0k_h5dt2TS",
        "outputId": "38531035-6e43-4f49-d052-2a2eb57c4342"
      },
      "outputs": [
        {
          "name": "stdout",
          "output_type": "stream",
          "text": [
            "\n",
            "f1-micro average of GNB Classifier: 0.8234040094451903\n",
            "\n",
            "\n",
            "Confusion Matrix of GNB:\n",
            " [[416   3   9   2  17   2]\n",
            " [  0 202   0   0   4   0]\n",
            " [  0   2 381  30   9   0]\n",
            " [  0   1  37 109   9  42]\n",
            " [  9   4   0   9 176  15]\n",
            " [  0   0   4  66  23 350]]\n",
            "\n",
            "Classification Report of GNB:\n",
            "               precision    recall  f1-score   support\n",
            "\n",
            "           1       0.98      0.93      0.95       449\n",
            "           2       0.95      0.98      0.97       206\n",
            "           3       0.88      0.90      0.89       422\n",
            "           4       0.50      0.55      0.53       198\n",
            "           5       0.74      0.83      0.78       213\n",
            "           6       0.86      0.79      0.82       443\n",
            "\n",
            "    accuracy                           0.85      1931\n",
            "   macro avg       0.82      0.83      0.82      1931\n",
            "weighted avg       0.85      0.85      0.85      1931\n",
            "\n",
            "\n",
            "Fit time:\n",
            " 0.07073760032653809\n",
            "\n",
            "Prediction time:\n",
            " 0.008940458297729492 \n",
            "\n"
          ]
        }
      ],
      "source": [
        "#Final fit\n",
        "\n",
        "pipe = Pipeline(steps=[('selector', VarianceThreshold(threshold=0)), ('sampler', RandomOverSampler()), ('pca', PCA(n_components=7)), ('gnb', GaussianNB())])\n",
        "\n",
        "\n",
        "start_time = time.time()\n",
        "pipe.fit(X_train,y_train)\n",
        "fit_times['GNB'] = time.time()-start_time\n",
        "\n",
        "start_time = time.time()\n",
        "new_predictions['GNB'] = pipe.predict(X_test)\n",
        "pred_times['GNB'] = time.time()-start_time\n",
        "\n",
        "new_accuracies['GNB'] = pipe.score(X_test,y_test)\n",
        "\n",
        "print(\"\\nf1-micro average of GNB Classifier:\",f1_score(y_test,new_predictions['GNB'], average='macro'))\n",
        "print()\n",
        "print(\"\\nConfusion Matrix of GNB:\\n\",confusion_matrix(y_test,new_predictions['GNB']))\n",
        "print(\"\\nClassification Report of GNB:\\n\",classification_report(y_test,new_predictions['GNB']))\n",
        "print(\"\\nFit time:\\n\",fit_times['GNB'])\n",
        "print(\"\\nPrediction time:\\n\",pred_times['GNB'],\"\\n\")\n",
        "\n"
      ]
    },
    {
      "cell_type": "markdown",
      "metadata": {
        "id": "MKt0uprauNps"
      },
      "source": [
        "####LR classifier"
      ]
    },
    {
      "cell_type": "code",
      "execution_count": 116,
      "metadata": {
        "colab": {
          "base_uri": "https://localhost:8080/"
        },
        "id": "Q3ezYf3luM_m",
        "outputId": "6a6db202-0899-457f-8082-f46d9efb2500"
      },
      "outputs": [
        {
          "name": "stdout",
          "output_type": "stream",
          "text": [
            "\n",
            "f1-macro average of LR Classifier: 0.8202213857896195\n",
            "\n",
            "\n",
            "Confusion Matrix of LR:\n",
            " [[423   0  12   2  12   0]\n",
            " [  0 195   0   0  11   0]\n",
            " [  2   1 369  50   0   0]\n",
            " [  1   0  19 134   7  37]\n",
            " [ 12   2   2   9 166  22]\n",
            " [  1   0   4  89  23 326]]\n",
            "\n",
            "Classification Report of LR:\n",
            "               precision    recall  f1-score   support\n",
            "\n",
            "           1       0.96      0.94      0.95       449\n",
            "           2       0.98      0.95      0.97       206\n",
            "           3       0.91      0.87      0.89       422\n",
            "           4       0.47      0.68      0.56       198\n",
            "           5       0.76      0.78      0.77       213\n",
            "           6       0.85      0.74      0.79       443\n",
            "\n",
            "    accuracy                           0.84      1931\n",
            "   macro avg       0.82      0.83      0.82      1931\n",
            "weighted avg       0.85      0.84      0.84      1931\n",
            "\n",
            "Pipeline(steps=[('selector', VarianceThreshold(threshold=0.03)),\n",
            "                ('scaler', StandardScaler()), ('sampler', RandomOverSampler()),\n",
            "                ('pca', PCA(n_components=9)), ('LR', LogisticRegression())])\n",
            "{'pca__n_components': 9, 'selector__threshold': 0.03}\n"
          ]
        },
        {
          "name": "stderr",
          "output_type": "stream",
          "text": [
            "/usr/local/lib/python3.7/dist-packages/sklearn/linear_model/_logistic.py:818: ConvergenceWarning: lbfgs failed to converge (status=1):\n",
            "STOP: TOTAL NO. of ITERATIONS REACHED LIMIT.\n",
            "\n",
            "Increase the number of iterations (max_iter) or scale the data as shown in:\n",
            "    https://scikit-learn.org/stable/modules/preprocessing.html\n",
            "Please also refer to the documentation for alternative solver options:\n",
            "    https://scikit-learn.org/stable/modules/linear_model.html#logistic-regression\n",
            "  extra_warning_msg=_LOGISTIC_SOLVER_CONVERGENCE_MSG,\n"
          ]
        }
      ],
      "source": [
        "#Αρχικά τρέχουμε το Pipeline και με τις 4 μεθόδους προεπεξεργασίας\n",
        "selector = VarianceThreshold() \n",
        "scaler = StandardScaler()\n",
        "ros = RandomOverSampler()\n",
        "pca = PCA()\n",
        "clf = LogisticRegression() \n",
        "\n",
        "vthreshold = [0, 0.01, 0.02, 0.03]  \n",
        "n_components = np.arange(1,10,1) #gia pca\n",
        "\n",
        "pipe = Pipeline(steps=[('selector', selector), ('scaler',sscaler),('sampler', ros), ('pca', pca), ('LR', clf)])\n",
        "estimator_LR = GridSearchCV(pipe, dict(selector__threshold=vthreshold, pca__n_components=n_components), cv=10, scoring='f1_macro', n_jobs=-1)\n",
        "\n",
        "\n",
        "estimator_LR.fit(X_train,y_train)\n",
        "\n",
        "new_predictions['LR'] = estimator_LR.predict(X_test)\n",
        "\n",
        "new_accuracies['LR'] = estimator_LR.score(X_test,y_test)\n",
        "\n",
        "print(\"\\nf1-macro average of LR Classifier:\",f1_score(y_test,new_predictions['LR'], average='macro'))\n",
        "print()\n",
        "print(\"\\nConfusion Matrix of LR:\\n\",confusion_matrix(y_test,new_predictions['LR']))\n",
        "print(\"\\nClassification Report of LR:\\n\",classification_report(y_test,new_predictions['LR']))\n",
        "\n",
        "\n",
        "print(estimator_LR.best_estimator_)\n",
        "print(estimator_LR.best_params_)"
      ]
    },
    {
      "cell_type": "code",
      "execution_count": 117,
      "metadata": {
        "colab": {
          "base_uri": "https://localhost:8080/"
        },
        "id": "ZyjhrH-TubwF",
        "outputId": "421b0f04-2ecc-4b28-ed2a-0fc90e289515"
      },
      "outputs": [
        {
          "name": "stdout",
          "output_type": "stream",
          "text": [
            "\n",
            "f1-macro average of GNB Classifier: 0.8389618386920651\n",
            "\n",
            "\n",
            "Confusion Matrix of Gaussian NB:\n",
            " [[427   0  12   2   8   0]\n",
            " [  0 195   0   1  10   0]\n",
            " [  2   0 361  59   0   0]\n",
            " [  1   0  18 141   4  34]\n",
            " [  6   3   1   3 179  21]\n",
            " [  1   0   3  75  23 341]]\n",
            "\n",
            "Classification Report of Gaussian NB:\n",
            "               precision    recall  f1-score   support\n",
            "\n",
            "           1       0.98      0.95      0.96       449\n",
            "           2       0.98      0.95      0.97       206\n",
            "           3       0.91      0.86      0.88       422\n",
            "           4       0.50      0.71      0.59       198\n",
            "           5       0.80      0.84      0.82       213\n",
            "           6       0.86      0.77      0.81       443\n",
            "\n",
            "    accuracy                           0.85      1931\n",
            "   macro avg       0.84      0.85      0.84      1931\n",
            "weighted avg       0.87      0.85      0.86      1931\n",
            "\n",
            "Pipeline(steps=[('selector', VarianceThreshold(threshold=0.03)),\n",
            "                ('scaler', StandardScaler()), ('sampler', RandomOverSampler()),\n",
            "                ('LR', LogisticRegression())])\n",
            "{'selector__threshold': 0.03}\n"
          ]
        },
        {
          "name": "stderr",
          "output_type": "stream",
          "text": [
            "/usr/local/lib/python3.7/dist-packages/sklearn/linear_model/_logistic.py:818: ConvergenceWarning: lbfgs failed to converge (status=1):\n",
            "STOP: TOTAL NO. of ITERATIONS REACHED LIMIT.\n",
            "\n",
            "Increase the number of iterations (max_iter) or scale the data as shown in:\n",
            "    https://scikit-learn.org/stable/modules/preprocessing.html\n",
            "Please also refer to the documentation for alternative solver options:\n",
            "    https://scikit-learn.org/stable/modules/linear_model.html#logistic-regression\n",
            "  extra_warning_msg=_LOGISTIC_SOLVER_CONVERGENCE_MSG,\n"
          ]
        }
      ],
      "source": [
        "#Χωρίς pca \n",
        "\n",
        "pipe = Pipeline(steps=[('selector', selector), ('scaler',sscaler),('sampler', ros),  ('LR', clf)])\n",
        "estimator_gnb = GridSearchCV(pipe, dict(selector__threshold=vthreshold), cv=10, scoring='f1_macro', n_jobs=-1)\n",
        "\n",
        "estimator_gnb.fit(X_train,y_train)\n",
        "\n",
        "new_predictions['LR'] = estimator_gnb.predict(X_test)\n",
        "\n",
        "new_accuracies['LR'] = estimator_gnb.score(X_test,y_test)\n",
        "\n",
        "print(\"\\nf1-macro average of GNB Classifier:\",f1_score(y_test,new_predictions['LR'], average='macro'))\n",
        "print()\n",
        "print(\"\\nConfusion Matrix of Gaussian NB:\\n\",confusion_matrix(y_test,new_predictions['LR']))\n",
        "print(\"\\nClassification Report of Gaussian NB:\\n\",classification_report(y_test,new_predictions['LR']))\n",
        "\n",
        "\n",
        "print(estimator_gnb.best_estimator_)\n",
        "print(estimator_gnb.best_params_)"
      ]
    },
    {
      "cell_type": "code",
      "execution_count": 118,
      "metadata": {
        "colab": {
          "base_uri": "https://localhost:8080/"
        },
        "id": "xBLo-QB5uhOy",
        "outputId": "32e12f3f-5d29-4b42-eb1b-51662626fc4e"
      },
      "outputs": [
        {
          "name": "stdout",
          "output_type": "stream",
          "text": [
            "\n",
            "f1-macro average of GNB Classifier: 0.8180386607686566\n",
            "\n",
            "\n",
            "Confusion Matrix of Gaussian NB:\n",
            " [[423   0  14   1  11   0]\n",
            " [  0 195   0   1  10   0]\n",
            " [  2   1 367  52   0   0]\n",
            " [  2   0  22 131   4  39]\n",
            " [ 10   2   9   6 161  25]\n",
            " [  1   0   7  80  22 333]]\n",
            "\n",
            "Classification Report of Gaussian NB:\n",
            "               precision    recall  f1-score   support\n",
            "\n",
            "           1       0.97      0.94      0.95       449\n",
            "           2       0.98      0.95      0.97       206\n",
            "           3       0.88      0.87      0.87       422\n",
            "           4       0.48      0.66      0.56       198\n",
            "           5       0.77      0.76      0.76       213\n",
            "           6       0.84      0.75      0.79       443\n",
            "\n",
            "    accuracy                           0.83      1931\n",
            "   macro avg       0.82      0.82      0.82      1931\n",
            "weighted avg       0.85      0.83      0.84      1931\n",
            "\n",
            "Pipeline(steps=[('selector', VarianceThreshold(threshold=0)),\n",
            "                ('sampler', RandomOverSampler()), ('pca', PCA(n_components=8)),\n",
            "                ('LR', LogisticRegression())])\n",
            "{'pca__n_components': 8, 'selector__threshold': 0}\n"
          ]
        },
        {
          "name": "stderr",
          "output_type": "stream",
          "text": [
            "/usr/local/lib/python3.7/dist-packages/sklearn/linear_model/_logistic.py:818: ConvergenceWarning: lbfgs failed to converge (status=1):\n",
            "STOP: TOTAL NO. of ITERATIONS REACHED LIMIT.\n",
            "\n",
            "Increase the number of iterations (max_iter) or scale the data as shown in:\n",
            "    https://scikit-learn.org/stable/modules/preprocessing.html\n",
            "Please also refer to the documentation for alternative solver options:\n",
            "    https://scikit-learn.org/stable/modules/linear_model.html#logistic-regression\n",
            "  extra_warning_msg=_LOGISTIC_SOLVER_CONVERGENCE_MSG,\n"
          ]
        }
      ],
      "source": [
        "#Με pca, χωρίς scaler\n",
        "\n",
        "pipe = Pipeline(steps=[('selector', selector), ('sampler', ros), ('pca', pca), ('LR', clf)])\n",
        "estimator_gnb = GridSearchCV(pipe, dict(selector__threshold=vthreshold, pca__n_components=n_components), cv=10, scoring='f1_macro', n_jobs=-1)\n",
        "\n",
        "\n",
        "estimator_gnb.fit(X_train,y_train)\n",
        "\n",
        "new_predictions['LR'] = estimator_gnb.predict(X_test)\n",
        "\n",
        "new_accuracies['LR'] = estimator_gnb.score(X_test,y_test)\n",
        "\n",
        "print(\"\\nf1-macro average of GNB Classifier:\",f1_score(y_test,new_predictions['LR'], average='macro'))\n",
        "print()\n",
        "print(\"\\nConfusion Matrix of Gaussian NB:\\n\",confusion_matrix(y_test,new_predictions['LR']))\n",
        "print(\"\\nClassification Report of Gaussian NB:\\n\",classification_report(y_test,new_predictions['LR']))\n",
        "\n",
        "\n",
        "print(estimator_gnb.best_estimator_)\n",
        "print(estimator_gnb.best_params_)"
      ]
    },
    {
      "cell_type": "code",
      "execution_count": 119,
      "metadata": {
        "colab": {
          "base_uri": "https://localhost:8080/"
        },
        "id": "bq1nHlIiuroi",
        "outputId": "623df9ff-f2e7-4390-d332-7fa798645a0f"
      },
      "outputs": [
        {
          "name": "stdout",
          "output_type": "stream",
          "text": [
            "\n",
            "f1-macro average of LR Classifier: 0.7917903996573944\n",
            "\n",
            "\n",
            "Confusion Matrix of LR:\n",
            " [[426   0  13   1   9   0]\n",
            " [  0 195   0   0  11   0]\n",
            " [  3   0 397  17   0   5]\n",
            " [  2   0  40  56   5  95]\n",
            " [ 15   2   2   3 156  35]\n",
            " [  1   0   7  27  19 389]]\n",
            "\n",
            "Classification Report of LR:\n",
            "               precision    recall  f1-score   support\n",
            "\n",
            "           1       0.95      0.95      0.95       449\n",
            "           2       0.99      0.95      0.97       206\n",
            "           3       0.86      0.94      0.90       422\n",
            "           4       0.54      0.28      0.37       198\n",
            "           5       0.78      0.73      0.76       213\n",
            "           6       0.74      0.88      0.80       443\n",
            "\n",
            "    accuracy                           0.84      1931\n",
            "   macro avg       0.81      0.79      0.79      1931\n",
            "weighted avg       0.83      0.84      0.83      1931\n",
            "\n",
            "Pipeline(steps=[('selector', VarianceThreshold(threshold=0.01)),\n",
            "                ('scaler', StandardScaler()), ('pca', PCA(n_components=9)),\n",
            "                ('LR', LogisticRegression())])\n",
            "{'pca__n_components': 9, 'selector__threshold': 0.01}\n"
          ]
        },
        {
          "name": "stderr",
          "output_type": "stream",
          "text": [
            "/usr/local/lib/python3.7/dist-packages/sklearn/linear_model/_logistic.py:818: ConvergenceWarning: lbfgs failed to converge (status=1):\n",
            "STOP: TOTAL NO. of ITERATIONS REACHED LIMIT.\n",
            "\n",
            "Increase the number of iterations (max_iter) or scale the data as shown in:\n",
            "    https://scikit-learn.org/stable/modules/preprocessing.html\n",
            "Please also refer to the documentation for alternative solver options:\n",
            "    https://scikit-learn.org/stable/modules/linear_model.html#logistic-regression\n",
            "  extra_warning_msg=_LOGISTIC_SOLVER_CONVERGENCE_MSG,\n"
          ]
        }
      ],
      "source": [
        "#Χωρίς sampler\n",
        "\n",
        "pipe = Pipeline(steps=[('selector', selector), ('scaler',sscaler), ('pca', pca), ('LR', clf)])\n",
        "estimator_gnb = GridSearchCV(pipe, dict(selector__threshold=vthreshold, pca__n_components=n_components), cv=10, scoring='f1_macro', n_jobs=-1)\n",
        "\n",
        "\n",
        "estimator_gnb.fit(X_train,y_train)\n",
        "\n",
        "new_predictions['LR'] = estimator_gnb.predict(X_test)\n",
        "\n",
        "new_accuracies['LR'] = estimator_gnb.score(X_test,y_test)\n",
        "\n",
        "print(\"\\nf1-macro average of LR Classifier:\",f1_score(y_test,new_predictions['LR'], average='macro'))\n",
        "print()\n",
        "print(\"\\nConfusion Matrix of LR:\\n\",confusion_matrix(y_test,new_predictions['LR']))\n",
        "print(\"\\nClassification Report of LR:\\n\",classification_report(y_test,new_predictions['LR']))\n",
        "\n",
        "\n",
        "print(estimator_gnb.best_estimator_)\n",
        "print(estimator_gnb.best_params_)"
      ]
    },
    {
      "cell_type": "markdown",
      "metadata": {
        "id": "SrFa-pFnChJq"
      },
      "source": [
        "Άρα καλύτερη απόδοση έχουμε για το Pipeline('selector','scaler', 'sampler', 'LR'). Γιαυτό το pipeline θα βρούμε βέλτιστες υπερπαραμέτρους."
      ]
    },
    {
      "cell_type": "code",
      "execution_count": 123,
      "metadata": {
        "colab": {
          "base_uri": "https://localhost:8080/"
        },
        "id": "lnG6K1KTuujT",
        "outputId": "9b7c4e33-720b-408a-d048-dc49d9679fc3"
      },
      "outputs": [
        {
          "name": "stdout",
          "output_type": "stream",
          "text": [
            "\n",
            "f1-macro average of LR Classifier: 0.8390994577058312\n",
            "\n",
            "\n",
            "Confusion Matrix of LR :\n",
            " [[428   1  13   1   6   0]\n",
            " [  0 193   0   1  12   0]\n",
            " [  2   0 361  59   0   0]\n",
            " [  1   0  20 144   3  30]\n",
            " [  8   3   1   3 177  21]\n",
            " [  1   0   4  72  24 342]]\n",
            "\n",
            "Classification Report of LR :\n",
            "               precision    recall  f1-score   support\n",
            "\n",
            "           1       0.97      0.95      0.96       449\n",
            "           2       0.98      0.94      0.96       206\n",
            "           3       0.90      0.86      0.88       422\n",
            "           4       0.51      0.73      0.60       198\n",
            "           5       0.80      0.83      0.81       213\n",
            "           6       0.87      0.77      0.82       443\n",
            "\n",
            "    accuracy                           0.85      1931\n",
            "   macro avg       0.84      0.85      0.84      1931\n",
            "weighted avg       0.87      0.85      0.86      1931\n",
            "\n",
            "Pipeline(steps=[('selector', VarianceThreshold(threshold=0.01)),\n",
            "                ('scaler', StandardScaler()), ('sampler', RandomOverSampler()),\n",
            "                ('pca', PCA()), ('LR', LogisticRegression())])\n",
            "{'selector__threshold': 0.01}\n"
          ]
        },
        {
          "name": "stderr",
          "output_type": "stream",
          "text": [
            "/usr/local/lib/python3.7/dist-packages/sklearn/linear_model/_logistic.py:818: ConvergenceWarning: lbfgs failed to converge (status=1):\n",
            "STOP: TOTAL NO. of ITERATIONS REACHED LIMIT.\n",
            "\n",
            "Increase the number of iterations (max_iter) or scale the data as shown in:\n",
            "    https://scikit-learn.org/stable/modules/preprocessing.html\n",
            "Please also refer to the documentation for alternative solver options:\n",
            "    https://scikit-learn.org/stable/modules/linear_model.html#logistic-regression\n",
            "  extra_warning_msg=_LOGISTIC_SOLVER_CONVERGENCE_MSG,\n"
          ]
        }
      ],
      "source": [
        "#για τις βελτιστες υπερπαραμετρους\n",
        "selector = VarianceThreshold() \n",
        "scaler = StandardScaler()\n",
        "ros = RandomOverSampler()\n",
        "clf = LogisticRegression()\n",
        "\n",
        "vthreshold = [0 , 0.01 , 0.02, 0.03 , 0.04] \n",
        "\n",
        "pipe = Pipeline(steps=[('selector', selector), ('scaler', sscaler),('sampler', ros), ('pca', pca), ('LR', clf)])\n",
        "estimator_gnb = GridSearchCV(pipe, dict(selector__threshold=vthreshold), cv=10, scoring='f1_macro', n_jobs=-1)\n",
        "\n",
        "\n",
        "estimator_gnb.fit(X_train,y_train)\n",
        "\n",
        "new_predictions['LR'] = estimator_gnb.predict(X_test)\n",
        "\n",
        "new_accuracies['LR'] = estimator_gnb.score(X_test,y_test)\n",
        "\n",
        "\n",
        "print(\"\\nf1-macro average of LR Classifier:\",f1_score(y_test,new_predictions['LR'], average='macro'))\n",
        "print()\n",
        "print(\"\\nConfusion Matrix of LR :\\n\",confusion_matrix(y_test,new_predictions['LR']))\n",
        "print(\"\\nClassification Report of LR :\\n\",classification_report(y_test,new_predictions['LR']))\n",
        "\n",
        "\n",
        "print(estimator_gnb.best_estimator_)\n",
        "print(estimator_gnb.best_params_)"
      ]
    },
    {
      "cell_type": "code",
      "execution_count": 124,
      "metadata": {
        "colab": {
          "base_uri": "https://localhost:8080/"
        },
        "id": "i6yyyD9puwyj",
        "outputId": "0d334ce5-93d5-4682-cd16-38a57eb1cfec"
      },
      "outputs": [
        {
          "name": "stdout",
          "output_type": "stream",
          "text": [
            "\n",
            "f1-macro average of LR Classifier: 0.8398319180972277\n",
            "\n",
            "\n",
            "Confusion Matrix of LR:\n",
            " [[425   0  14   1   9   0]\n",
            " [  0 194   0   0  12   0]\n",
            " [  2   0 363  57   0   0]\n",
            " [  1   0  17 144   5  31]\n",
            " [  6   4   1   3 178  21]\n",
            " [  0   0   3  78  20 342]]\n",
            "\n",
            "Classification Report of LR:\n",
            "               precision    recall  f1-score   support\n",
            "\n",
            "           1       0.98      0.95      0.96       449\n",
            "           2       0.98      0.94      0.96       206\n",
            "           3       0.91      0.86      0.89       422\n",
            "           4       0.51      0.73      0.60       198\n",
            "           5       0.79      0.84      0.81       213\n",
            "           6       0.87      0.77      0.82       443\n",
            "\n",
            "    accuracy                           0.85      1931\n",
            "   macro avg       0.84      0.85      0.84      1931\n",
            "weighted avg       0.87      0.85      0.86      1931\n",
            "\n",
            "\n",
            "Fit time:\n",
            " 0.5827927589416504\n",
            "\n",
            "Prediction time:\n",
            " 0.002846240997314453 \n",
            "\n"
          ]
        },
        {
          "name": "stderr",
          "output_type": "stream",
          "text": [
            "/usr/local/lib/python3.7/dist-packages/sklearn/linear_model/_logistic.py:818: ConvergenceWarning: lbfgs failed to converge (status=1):\n",
            "STOP: TOTAL NO. of ITERATIONS REACHED LIMIT.\n",
            "\n",
            "Increase the number of iterations (max_iter) or scale the data as shown in:\n",
            "    https://scikit-learn.org/stable/modules/preprocessing.html\n",
            "Please also refer to the documentation for alternative solver options:\n",
            "    https://scikit-learn.org/stable/modules/linear_model.html#logistic-regression\n",
            "  extra_warning_msg=_LOGISTIC_SOLVER_CONVERGENCE_MSG,\n"
          ]
        }
      ],
      "source": [
        "#Final fit\n",
        "\n",
        "pipe = Pipeline(steps=[('selector', VarianceThreshold(threshold=0.01)), ('scaler', StandardScaler()), ('sampler', RandomOverSampler()), ('LR',LogisticRegression())])\n",
        "\n",
        "start_time = time.time()\n",
        "pipe.fit(X_train,y_train)\n",
        "fit_times['LR'] = time.time()-start_time\n",
        "\n",
        "start_time = time.time()\n",
        "\n",
        "new_predictions['LR'] = pipe.predict(X_test)\n",
        "pred_times['LR'] = time.time()-start_time\n",
        "\n",
        "new_accuracies['LR'] = pipe.score(X_test,y_test)\n",
        "\n",
        "print(\"\\nf1-macro average of LR Classifier:\",f1_score(y_test,new_predictions['LR'], average='macro'))\n",
        "print()\n",
        "print(\"\\nConfusion Matrix of LR:\\n\",confusion_matrix(y_test,new_predictions['LR']))\n",
        "print(\"\\nClassification Report of LR:\\n\",classification_report(y_test,new_predictions['LR']))\n",
        "print(\"\\nFit time:\\n\",fit_times['LR'])\n",
        "print(\"\\nPrediction time:\\n\",pred_times['LR'],\"\\n\")\n",
        "\n"
      ]
    },
    {
      "cell_type": "markdown",
      "metadata": {
        "id": "jSfxYT2TxOpz"
      },
      "source": [
        "##Πίνακας σύγκρισης απόδοσης πριν και μετά την βελτιστοποίηση των ταξινομητών"
      ]
    },
    {
      "cell_type": "code",
      "execution_count": 156,
      "metadata": {
        "colab": {
          "base_uri": "https://localhost:8080/"
        },
        "id": "ndpOEEwnPwKo",
        "outputId": "2d8c6acc-dd3a-47e5-859c-5645fb5d599b"
      },
      "outputs": [
        {
          "data": {
            "text/plain": [
              "dict_keys(['uniform', 'const_2', 'const_4', 'stratif', 'frequent', 'knn', 'GNB', 'LR'])"
            ]
          },
          "execution_count": 156,
          "metadata": {},
          "output_type": "execute_result"
        }
      ],
      "source": [
        "new_predictions.keys()"
      ]
    },
    {
      "cell_type": "code",
      "execution_count": 153,
      "metadata": {
        "colab": {
          "base_uri": "https://localhost:8080/"
        },
        "id": "4yYdbXfZNJtu",
        "outputId": "7bd56923-4fcf-4beb-c049-aebdf93e2707"
      },
      "outputs": [
        {
          "data": {
            "text/plain": [
              "[0.16840947305734577,\n",
              " 0.032132272656371856,\n",
              " 0.031000469704086427,\n",
              " 0.16046370616807035,\n",
              " 0.06288515406162466,\n",
              " 0.8981946027446347,\n",
              " 0.7816953830745627,\n",
              " 0.7217731176646213]"
            ]
          },
          "execution_count": 153,
          "metadata": {},
          "output_type": "execute_result"
        }
      ],
      "source": [
        "f1_default_macros = []\n",
        "for clf in new_predictions: \n",
        "    f1_default_macros.append(f1_score(y_test,predictions[clf],average='macro'))\n",
        "\n",
        "f1_default_macros   "
      ]
    },
    {
      "cell_type": "code",
      "execution_count": 154,
      "metadata": {
        "colab": {
          "base_uri": "https://localhost:8080/"
        },
        "id": "c_cW-pl3PXXQ",
        "outputId": "be0c8fa7-f7bb-495f-dd23-cf22f0959c98"
      },
      "outputs": [
        {
          "data": {
            "text/plain": [
              "[0.1521790466536386,\n",
              " 0.032132272656371856,\n",
              " 0.031000469704086427,\n",
              " 0.15509929452104446,\n",
              " 0.06288515406162466,\n",
              " 0.9000685094233364,\n",
              " 0.8234040094451903,\n",
              " 0.8398319180972277]"
            ]
          },
          "execution_count": 154,
          "metadata": {},
          "output_type": "execute_result"
        }
      ],
      "source": [
        "f1_opt_macros = []\n",
        "for clf in new_predictions: \n",
        "    f1_opt_macros.append(f1_score(y_test,new_predictions[clf],average='macro'))\n",
        "\n",
        "f1_opt_macros"
      ]
    },
    {
      "cell_type": "code",
      "execution_count": 157,
      "metadata": {
        "colab": {
          "base_uri": "https://localhost:8080/",
          "height": 296
        },
        "id": "o_cdE9sx0glO",
        "outputId": "8dd98b13-5be7-419b-d0d3-10a74d17c67f"
      },
      "outputs": [
        {
          "data": {
            "image/png": "[encoded data removed]",
            "text/plain": [
              "<Figure size 432x288 with 1 Axes>"
            ]
          },
          "metadata": {
            "needs_background": "light"
          },
          "output_type": "display_data"
        }
      ],
      "source": [
        "#plot\n",
        "n=8\n",
        "r = np.arange(n)\n",
        "width = 0.25\n",
        "  \n",
        "f1_default = f1_default_macros\n",
        "f1_optimized_values = f1_opt_macros\n",
        "\n",
        "percent_f1_default = [element * 100 for element in f1_default]  \n",
        "\n",
        "percent_f1_optimized_values = [element * 100 for element in f1_optimized_values]\n",
        "\n",
        "plt.bar(r, percent_f1_default, color = 'g', width = width, edgecolor = 'black')\n",
        "plt.bar(r + width, percent_f1_optimized_values , color = 'b', width = width, edgecolor = 'black')\n",
        "  \n",
        "plt.xlabel(\"model\")\n",
        "plt.ylabel(\"F1 macro score\")\n",
        "plt.title(\"F1 macro score:  default vs optimized\")\n",
        "  \n",
        "plt.xticks(r + width/2, ['uniform', 'const_2', 'const_4', 'stratif', 'frequent', 'knn', 'GNB', 'LR'])\n",
        "  \n",
        "plt.show()"
      ]
    },
    {
      "cell_type": "markdown",
      "metadata": {
        "id": "hBLxW8xbQCnG"
      },
      "source": [
        "|    | uniform | const_2 | const_4 | stratif | frequent | knn |  GNB |  LR  |\n",
        "|----|---------|---------|---------|---------|----------|-----|------|------|\n",
        "|before|0.168| 0.0321|0.031|0.160|0.0629|0.898|0.781|0.721|\n",
        "|after|0.152|0.0321|0.031|0.155|0.0628|0.900 | 0.823|0.84 |\n",
        "\n"
      ]
    },
    {
      "cell_type": "markdown",
      "metadata": {
        "id": "BGWP1V-_RURN"
      },
      "source": [
        "Γενικά συμπεράσματα:\n",
        "- βέλτιστος ταξινομητής είναι ο knn για τιμές του k γύρω από το 5.\n",
        "- παρατηρούμε μεγάλη αύξηση απόδοσης στους ταξινομητές GNB, LR μετά την βελτιστοποίηση, ενώ ο knn κυμαίνεται στα ίδια επίπεδα.\n",
        "- βελτιστοποίηση των dummy classifiers σε πολλές περιπτώσεις μειώνει την απόδοση, αφού από την φύση τους αυτοί οι ταξινομητές είναι αδύναμοι\n"
      ]
    }
  ],
  "metadata": {
    "colab": {
      "collapsed_sections": [],
      "name": "Copy of lab1_team82.ipynb",
      "provenance": []
    },
    "kernelspec": {
      "display_name": "Python 3",
      "name": "python3"
    },
    "language_info": {
      "name": "python"
    }
  },
  "nbformat": 4,
  "nbformat_minor": 0
}
